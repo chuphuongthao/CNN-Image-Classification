{
 "cells": [
  {
   "cell_type": "markdown",
   "id": "6341877c",
   "metadata": {},
   "source": [
    "# Advanced Image Classification\n"
   ]
  },
  {
   "cell_type": "markdown",
   "id": "6541e81f",
   "metadata": {},
   "source": [
    "## Introduction"
   ]
  },
  {
   "cell_type": "markdown",
   "id": "361c6ba1-06a7-4094-b9f6-a9de9a12f503",
   "metadata": {},
   "source": [
    "This project's goals are:\n",
    "\n",
    "1. Using Tensorflow to classify images in Python\n",
    "2. Use a Convolutional Neural Network (CNN) to classify images\n",
    "3. Interpret the results of CNN using Tensorflow \n",
    "4. Use multiple pre-trained binary classifiers to make predictions on a set of images\n",
    "\n",
    "\n",
    "| Dataset | Download Link | Filename | \n",
    "|---|---|---|\n",
    "| CUB 200 | https://data.caltech.edu/records/65de6-vp158 | CUB_200_2011.tgz |"
   ]
  },
  {
   "cell_type": "markdown",
   "id": "8069b25c",
   "metadata": {},
   "source": [
    "This project works on the advanced image classification starting with 10 models of birds:\n",
    "\n",
    "##### <u> Model 1:  Parakeet Auklet - Myrtle Warble</u> **(Easy to Medium)**\n",
    "\n",
    " **Hypothesis**: Notice that these two birds are quite different from one other, which makes easy for the model at first. There is a difference based on the size and feather colors. While Parakeet Aulet tends to have bigger body feature and darker black skin and red beak, most of Myrtle Warble's pictures show that this bird species has yellow feathers at the breasts and tails.\n",
    "\n",
    "##### <u>Model 2: Rhinoceros Auklet - Caspian Tern</u> **(Easy)**\n",
    "\n",
    " **Hypothesis**: With this pair of birds, I want to focus more on training the model by the length of bird wings' stretches and how we can differentiate 2 birds with this ornithological feature. The wings stretch of the Caspian Tern is usually longer comparing to the Rhinoceros Auklet's on average. The color of these 2 birds are also quite diverging on the gray scale, which set the difficulty bar lower. \n",
    "\n",
    "##### <u>Model 3: Red-winged Blackbird - House Sparrow</u> **(Medium)**\n",
    "\n",
    " **Hypothesis**: Red-winged Blackbird versus House Sparrow is considered medium for the model to differentiate since the size of these 2 birds are similar to one another. The only difference between these 2 bird species is more leaning toward the feather colors. Red Winged Blackbird is black and having the signature of read wing feather while the house sparrow has a overall brown and white feather. \n",
    "\n",
    "##### <u>Model 4: Fish Crow - Ruby-throated Hummingbird</u> **(Medium)**\n",
    "\n",
    " **Hypothesis**: This combination is at a medium level of difficulty since the size of 2 birds are similiar to one another. The physical feature of these 2 birds are also similar to one another in terms of wing size, beak length, and head-to-feet ratio. The only thing separating these 2 birds apart is the overall feather color. Although the color of Ruby-throated Hummingbird is more colorful than fish crow, it remains challenging for a computer vision task.\n",
    "\n",
    "##### <u>Model 5: Yellow-billed Cuckoo - Pied Kingfisher</u> **(Medium - Hard)**\n",
    "\n",
    " **Hypothesis**: Similar to the last pair, Yellow-billed Cuckoo and Pied Kingfisher are also not quite an easy pair to differentiate due to the similarities of bird physiques, size of tails and beaks. One challenge the model might face is the difference in bird-background ratio for each bird picture or, in other words, the distance of camera lens to the birds' locations within the picture scope. Due to the difference of scale, this pair of birds seems to have the same size under the scope of computer vision, which can lead to errors in classifying. \n",
    "\n",
    "##### <u>Model 6: Acadian Flycatcher - Elegant Tern</u> **(Hard)**\n",
    "\n",
    " **Hypothesis**: At  first glance, I can set the level of difficulty for this pair of birds as easy to medium for difference in the color of these 2 birds. However, due to the marginal difference of object-background ratio, the sizes of the birds seems to be the same within the size of the pictures. After carefully considering this element, I re-evalute the hypothesis to be on the same level difficulty (medium to hard) with the previous pair.\n",
    "\n",
    "##### <u>Model 7: Western Grebe - Rock Wren</u> **(Easy - Medium)**\n",
    "\n",
    " **Hypothesis**: This pair of birds might be easy to differentiate from the difference between 2 birds' natural habitats. The surrounding backgroups is the factor we want to evaluate our model since our goals for previous pairs is to only focus on the object but tend to ignore the surrounding area. As we process the pictures using computer vision, the computer cannot navigate the object within its background easily like human vision and cognitive pyschology. This is also the reason to chosse this pair for training the model architecture to see how accurate our model architecture is. \n",
    "\n",
    "##### <u>Model 8: Rose-breasted Grosbeak - Heermann Gull</u> **(Medium)**\n",
    "\n",
    "\n",
    " **Hypothesis**: One of the reasons to pair these 2 birds together is because of the similarities in terms of the color on bird anatomical segments. While Rose-breasted Grosbeak tends to have the red chest and white beak, Heermann Gull has red beak and white-to-grey chest. Computer Vision and Cognition tends not to work as well as human brain in terms of color. Therefore, when it comes to training the model architecture, there are potentially some marginal errors in identifying the bird body parts based on the colored pixels. \n",
    "\n",
    "##### <u>Model 9: Western Gull - Pacific Loon</u> **(Medium - Hard)**\n",
    "\n",
    " **Hypothesis**: Similar to the previous model, bring the test to the higher level by using the model architecture with birds having black-and-white spectrum to examine if the model will work on better on RGB pixels or grey scale. Moreover, Western Gull versus Pacific Loon are much harder than the last pair because they seem to have the same size, color of the feather, etc. which can make it hard for the binary classifiers to tell 2 birds apart.\n",
    " \n",
    "##### <u>Model 10: Fox Sparrow - Palm Warbler</u> **(Hard)**\n",
    "\n",
    " **Hypothesis**: With the final pair,  bring all the elements from 9 previous model into this one in terms of birds choosing. These are 2 different types of birds that share 95% commonalities (by human eyes) when it comes to compare the feather colors and physical body sizes. I believe that the model architecture will face a challenging task in differentiating these 2 species.\n",
    "\n",
    "These 10 pairs of bird are chosen based on the similarities in sizes, colors, bird's biological features. The level of difficulties will be decided by these features. With these 10 bird species pairs, we will conduct image classification with TensorFlow by training and validating binary classification models for all of the pairs. The binary classifier will be encode with 0 and 1 for the first and second bird respectively. The report will be displayed in different variable names respectively to each of 10 pairs. Every model should be a CNN with the (BLANK) architecture. For each model, conduct and report the following results:\n",
    "\n",
    "1. Overall accuracy of the model\n",
    "2. A confusion matrix of your validation set's True Positives, True Negatives, False Negatives, and False Positives \n",
    "3. Per class precision and recall (using `scikit-learn` functions)"
   ]
  },
  {
   "cell_type": "markdown",
   "id": "2b797de6",
   "metadata": {},
   "source": [
    "## Data Exploration"
   ]
  },
  {
   "cell_type": "code",
   "execution_count": 86,
   "id": "f88730a4",
   "metadata": {
    "scrolled": true
   },
   "outputs": [],
   "source": [
    "import tensorflow as tf\n",
    "import matplotlib.pyplot as plt"
   ]
  },
  {
   "cell_type": "code",
   "execution_count": 73,
   "id": "73da06e0",
   "metadata": {},
   "outputs": [],
   "source": [
    "def train_test(directory, train_seed, val_seed):\n",
    "    '''\n",
    "    Function splits a directory of 2 folders, each folder of one bird type, into training and validation set.\n",
    "    Holdout set is kept unshuffled for labels.\n",
    "    Returns 3 sets and filepaths.\n",
    "    '''\n",
    "    training_set = tf.keras.utils.image_dataset_from_directory(\n",
    "      directory,\n",
    "      seed=train_seed,\n",
    "      image_size=(200, 200),\n",
    "      subset='training',\n",
    "      validation_split=0.3,\n",
    "      batch_size=5)\n",
    "\n",
    "    validation_set = tf.keras.utils.image_dataset_from_directory(\n",
    "      directory,\n",
    "      shuffle=True,\n",
    "      seed=val_seed,\n",
    "      image_size=(200, 200),\n",
    "      validation_split=0.3,\n",
    "      subset='validation',\n",
    "      batch_size=5)\n",
    "\n",
    "\n",
    "    holdout_set_all = tf.keras.utils.image_dataset_from_directory(\n",
    "      directory,\n",
    "      shuffle=False,\n",
    "      seed=val_seed,\n",
    "      image_size=(200, 200),\n",
    "      batch_size=1) # batch size has to be one\n",
    "\n",
    "    train_file_paths = training_set.file_paths\n",
    "    validation_file_paths = validation_set.file_paths\n",
    "    holdout_file_paths = holdout_set_all.file_paths\n",
    "    \n",
    "    return training_set, validation_set, holdout_set_all, train_file_paths, validation_file_paths, holdout_file_paths"
   ]
  },
  {
   "cell_type": "code",
   "execution_count": 74,
   "id": "95a339a3",
   "metadata": {},
   "outputs": [],
   "source": [
    "def cnn_model():\n",
    "    '''\n",
    "    Function creates a keras Sequential CNN model with 3 convolutional layers and RMS stop.\n",
    "    '''\n",
    "    model = tf.keras.models.Sequential([\n",
    "        # Note the input shape is the desired size of the image 200x200 with 3 bytes color\n",
    "        # This is the first convolution\n",
    "        tf.keras.layers.Conv2D(64, (3,3), activation='relu', input_shape=(200, 200, 3)),\n",
    "        tf.keras.layers.MaxPooling2D(2, 2),\n",
    "        tf.keras.layers.Dropout(0.25),\n",
    "        # The second convolution\n",
    "        tf.keras.layers.Conv2D(64, (3,3), activation='relu'),\n",
    "        tf.keras.layers.MaxPooling2D(2,2),\n",
    "        tf.keras.layers.Dropout(0.25),\n",
    "        # The third convolution\n",
    "        tf.keras.layers.Conv2D(128, (3,3), activation='relu'),\n",
    "        tf.keras.layers.MaxPooling2D(2,2),\n",
    "        tf.keras.layers.Dropout(0.25),\n",
    "        # Flatten the results to feed into a DNN\n",
    "        tf.keras.layers.Flatten(),\n",
    "        # 512 neuron hidden layer\n",
    "        tf.keras.layers.Dense(256, activation='relu'),\n",
    "        # Only 1 output neuron. It will contain a value from 0-1 \n",
    "        tf.keras.layers.Dense(1, activation='sigmoid')])\n",
    "    \n",
    "    RMSprop = tf.keras.dtensor.experimental.optimizers.RMSprop\n",
    "    # could also use Adam here \n",
    "    model.compile(loss='binary_crossentropy',optimizer=RMSprop(),metrics='accuracy')\n",
    "    \n",
    "    return model"
   ]
  },
  {
   "cell_type": "markdown",
   "id": "0b27c0c8",
   "metadata": {},
   "source": [
    "## Code & Results\n",
    "\n",
    "\n",
    "- "
   ]
  },
  {
   "cell_type": "markdown",
   "id": "ba0c9363",
   "metadata": {},
   "source": [
    "### Model 1: Parakeet Auklet and Myrtle Warbler"
   ]
  },
  {
   "cell_type": "code",
   "execution_count": 187,
   "id": "e83e74d2",
   "metadata": {},
   "outputs": [
    {
     "name": "stdout",
     "output_type": "stream",
     "text": [
      "Found 113 files belonging to 2 classes.\n",
      "Using 80 files for training.\n",
      "Found 113 files belonging to 2 classes.\n",
      "Using 33 files for validation.\n",
      "Found 113 files belonging to 2 classes.\n"
     ]
    }
   ],
   "source": [
    "# create model and split training data\n",
    "training_set, validation_set, holdout_set_all, \\\n",
    "train_file_paths, validation_file_paths, holdout_file_paths = train_test('Birds/7_171', 50, 20)\n",
    "\n",
    "mod1 = cnn_model()"
   ]
  },
  {
   "cell_type": "code",
   "execution_count": 188,
   "id": "3ecca3e0",
   "metadata": {},
   "outputs": [
    {
     "data": {
      "text/plain": [
       "(['007.Parakeet_Auklet', '171.Myrtle_Warbler'],\n",
       " ['007.Parakeet_Auklet', '171.Myrtle_Warbler'],\n",
       " ['007.Parakeet_Auklet', '171.Myrtle_Warbler'])"
      ]
     },
     "execution_count": 188,
     "metadata": {},
     "output_type": "execute_result"
    }
   ],
   "source": [
    "# ensure correct class names\n",
    "training_set.class_names, validation_set.class_names, holdout_set_all.class_names"
   ]
  },
  {
   "cell_type": "code",
   "execution_count": 189,
   "id": "74610079",
   "metadata": {},
   "outputs": [
    {
     "name": "stdout",
     "output_type": "stream",
     "text": [
      "Epoch 1/9\n",
      "16/16 [==============================] - 14s 729ms/step - loss: 607.3079 - accuracy: 0.4250 - val_loss: 0.6450 - val_accuracy: 0.5152\n",
      "Epoch 2/9\n",
      "16/16 [==============================] - 12s 736ms/step - loss: 1.4382 - accuracy: 0.6000 - val_loss: 0.5725 - val_accuracy: 0.7273\n",
      "Epoch 3/9\n",
      "16/16 [==============================] - 11s 681ms/step - loss: 1.4862 - accuracy: 0.6750 - val_loss: 0.5831 - val_accuracy: 0.7576\n",
      "Epoch 4/9\n",
      "16/16 [==============================] - 11s 643ms/step - loss: 1.1207 - accuracy: 0.6375 - val_loss: 0.6106 - val_accuracy: 0.6970\n",
      "Epoch 5/9\n",
      "16/16 [==============================] - 10s 613ms/step - loss: 0.9842 - accuracy: 0.7250 - val_loss: 0.3998 - val_accuracy: 0.9394\n",
      "Epoch 6/9\n",
      "16/16 [==============================] - 10s 630ms/step - loss: 2.2343 - accuracy: 0.7875 - val_loss: 0.6504 - val_accuracy: 0.6061\n",
      "Epoch 7/9\n",
      "16/16 [==============================] - 11s 668ms/step - loss: 5.6749 - accuracy: 0.7125 - val_loss: 0.4316 - val_accuracy: 0.7879\n",
      "Epoch 8/9\n",
      "16/16 [==============================] - 12s 710ms/step - loss: 2.0216 - accuracy: 0.7125 - val_loss: 0.5159 - val_accuracy: 0.8182\n",
      "Epoch 9/9\n",
      "16/16 [==============================] - 14s 855ms/step - loss: 0.7821 - accuracy: 0.8250 - val_loss: 0.5263 - val_accuracy: 0.7576\n"
     ]
    }
   ],
   "source": [
    "history = mod1.fit(training_set,\n",
    "      epochs=9,\n",
    "      verbose=1,\n",
    "      validation_data = validation_set)"
   ]
  },
  {
   "cell_type": "code",
   "execution_count": 190,
   "id": "fcb65c35",
   "metadata": {},
   "outputs": [
    {
     "data": {
      "text/plain": [
       "(33, 33, 33)"
      ]
     },
     "execution_count": 190,
     "metadata": {},
     "output_type": "execute_result"
    }
   ],
   "source": [
    "images = []\n",
    "labels = []\n",
    "for e, image_label in enumerate(holdout_set_all):\n",
    "    f = holdout_file_paths[e]\n",
    "    if f in validation_file_paths:\n",
    "        images.append(image_label[0].numpy())\n",
    "        labels.append(image_label[1].numpy())\n",
    "len(validation_file_paths), len(images), len(labels)"
   ]
  },
  {
   "cell_type": "code",
   "execution_count": 191,
   "id": "5b64c3e5",
   "metadata": {},
   "outputs": [
    {
     "name": "stdout",
     "output_type": "stream",
     "text": [
      "7/7 [==============================] - 1s 164ms/step - loss: 0.5263 - accuracy: 0.7576\n"
     ]
    },
    {
     "data": {
      "text/plain": [
       "[0.526310920715332, 0.7575757503509521]"
      ]
     },
     "execution_count": 191,
     "metadata": {},
     "output_type": "execute_result"
    }
   ],
   "source": [
    "# evaluate validation set\n",
    "mod1.evaluate(validation_set)"
   ]
  },
  {
   "cell_type": "code",
   "execution_count": 192,
   "id": "833e26e4",
   "metadata": {},
   "outputs": [
    {
     "name": "stdout",
     "output_type": "stream",
     "text": [
      "33/33 [==============================] - 1s 38ms/step\n"
     ]
    }
   ],
   "source": [
    "img_arrays = []\n",
    "for i in images:\n",
    "    img_arrays.append(i)\n",
    "\n",
    "test_dataset = tf.data.Dataset.from_tensor_slices(img_arrays)\n",
    "preds = mod1.predict(test_dataset)"
   ]
  },
  {
   "cell_type": "code",
   "execution_count": 193,
   "id": "47621c4e",
   "metadata": {},
   "outputs": [
    {
     "data": {
      "text/plain": [
       "array([0.08573894], dtype=float32)"
      ]
     },
     "execution_count": 193,
     "metadata": {},
     "output_type": "execute_result"
    }
   ],
   "source": [
    "preds[0]"
   ]
  },
  {
   "cell_type": "code",
   "execution_count": 194,
   "id": "2dbab97b",
   "metadata": {},
   "outputs": [
    {
     "data": {
      "text/plain": [
       "Counter({0: 14, 1: 19})"
      ]
     },
     "execution_count": 194,
     "metadata": {},
     "output_type": "execute_result"
    }
   ],
   "source": [
    "import pandas as pd\n",
    "from collections import Counter\n",
    "c = Counter([i[0] for i in labels])\n",
    "c"
   ]
  },
  {
   "cell_type": "code",
   "execution_count": 195,
   "id": "3425cc34",
   "metadata": {
    "scrolled": true
   },
   "outputs": [
    {
     "data": {
      "text/html": [
       "<div>\n",
       "<style scoped>\n",
       "    .dataframe tbody tr th:only-of-type {\n",
       "        vertical-align: middle;\n",
       "    }\n",
       "\n",
       "    .dataframe tbody tr th {\n",
       "        vertical-align: top;\n",
       "    }\n",
       "\n",
       "    .dataframe thead th {\n",
       "        text-align: right;\n",
       "    }\n",
       "</style>\n",
       "<table border=\"1\" class=\"dataframe\">\n",
       "  <thead>\n",
       "    <tr style=\"text-align: right;\">\n",
       "      <th></th>\n",
       "      <th></th>\n",
       "      <th>predict_probability</th>\n",
       "      <th>predicted_label</th>\n",
       "    </tr>\n",
       "    <tr>\n",
       "      <th>true_label</th>\n",
       "      <th>compare</th>\n",
       "      <th></th>\n",
       "      <th></th>\n",
       "    </tr>\n",
       "  </thead>\n",
       "  <tbody>\n",
       "    <tr>\n",
       "      <th rowspan=\"2\" valign=\"top\">0</th>\n",
       "      <th>False</th>\n",
       "      <td>2</td>\n",
       "      <td>2</td>\n",
       "    </tr>\n",
       "    <tr>\n",
       "      <th>True</th>\n",
       "      <td>12</td>\n",
       "      <td>12</td>\n",
       "    </tr>\n",
       "    <tr>\n",
       "      <th rowspan=\"2\" valign=\"top\">1</th>\n",
       "      <th>False</th>\n",
       "      <td>2</td>\n",
       "      <td>2</td>\n",
       "    </tr>\n",
       "    <tr>\n",
       "      <th>True</th>\n",
       "      <td>17</td>\n",
       "      <td>17</td>\n",
       "    </tr>\n",
       "  </tbody>\n",
       "</table>\n",
       "</div>"
      ],
      "text/plain": [
       "                    predict_probability  predicted_label\n",
       "true_label compare                                      \n",
       "0          False                      2                2\n",
       "           True                      12               12\n",
       "1          False                      2                2\n",
       "           True                      17               17"
      ]
     },
     "execution_count": 195,
     "metadata": {},
     "output_type": "execute_result"
    }
   ],
   "source": [
    "df = pd.DataFrame()\n",
    "df['true_label'] = [i[0] for i in labels]\n",
    "df['predict_probability'] = [i[0] for i in preds]\n",
    "df = df.sort_values(by='predict_probability')\n",
    "inferred_labels = [0 for i in range(c[0])] + [1 for i in range(c[1])]\n",
    "df['predicted_label'] = inferred_labels \n",
    "df['compare'] = df['true_label'] == df['predicted_label']\n",
    "df.groupby(['true_label', 'compare']).count()"
   ]
  },
  {
   "cell_type": "code",
   "execution_count": 88,
   "id": "ff59fd50",
   "metadata": {},
   "outputs": [],
   "source": [
    "from sklearn.metrics import confusion_matrix"
   ]
  },
  {
   "cell_type": "code",
   "execution_count": 196,
   "id": "09560f8c",
   "metadata": {},
   "outputs": [
    {
     "data": {
      "image/png": "[encoded data removed]",
      "text/plain": [
       "<Figure size 500x500 with 1 Axes>"
      ]
     },
     "metadata": {},
     "output_type": "display_data"
    }
   ],
   "source": [
    "# confusion matrix\n",
    "conf_matrix = confusion_matrix(y_true=df['true_label'], y_pred= df['predicted_label'])\n",
    "\n",
    "fig, ax = plt.subplots(figsize=(5, 5))\n",
    "ax.matshow(conf_matrix, cmap=plt.cm.Blues, alpha=0.3)\n",
    "for i in range(conf_matrix.shape[0]):\n",
    "    for j in range(conf_matrix.shape[1]):\n",
    "        ax.text(x=j, y=i,s=conf_matrix[i, j], va='center', ha='center', size='xx-large')\n",
    " \n",
    "plt.xlabel('Predictions', fontsize=18)\n",
    "plt.ylabel('Actuals', fontsize=18)\n",
    "plt.title('Confusion Matrix', fontsize=18)\n",
    "plt.show()"
   ]
  },
  {
   "cell_type": "code",
   "execution_count": 197,
   "id": "96ba4106",
   "metadata": {},
   "outputs": [
    {
     "data": {
      "text/plain": [
       "0.8787878787878788"
      ]
     },
     "execution_count": 197,
     "metadata": {},
     "output_type": "execute_result"
    }
   ],
   "source": [
    "# accuracy score\n",
    "len(df.loc[df['compare'] == True])/len(df)"
   ]
  },
  {
   "cell_type": "code",
   "execution_count": 198,
   "id": "45b47de1",
   "metadata": {
    "scrolled": true
   },
   "outputs": [
    {
     "name": "stdout",
     "output_type": "stream",
     "text": [
      "                  precision    recall  f1-score   support\n",
      "\n",
      " Parakeet Auklet       0.86      0.86      0.86        14\n",
      "  Myrtle Warbler       0.89      0.89      0.89        19\n",
      "\n",
      "        accuracy                           0.88        33\n",
      "       macro avg       0.88      0.88      0.88        33\n",
      "    weighted avg       0.88      0.88      0.88        33\n",
      "\n"
     ]
    }
   ],
   "source": [
    "# precision-recall-f1\n",
    "from sklearn.metrics import classification_report\n",
    "print(classification_report(df['true_label'], df['predicted_label'], target_names = [' Parakeet Auklet', 'Myrtle Warbler']))"
   ]
  },
  {
   "cell_type": "markdown",
   "id": "7f18ef9f",
   "metadata": {},
   "source": [
    "### Model 2 - Rhinoceros Auklet and Caspian Tern"
   ]
  },
  {
   "cell_type": "code",
   "execution_count": 199,
   "id": "779c570a",
   "metadata": {},
   "outputs": [
    {
     "name": "stdout",
     "output_type": "stream",
     "text": [
      "Found 108 files belonging to 2 classes.\n",
      "Using 76 files for training.\n",
      "Found 108 files belonging to 2 classes.\n",
      "Using 32 files for validation.\n",
      "Found 108 files belonging to 2 classes.\n"
     ]
    }
   ],
   "source": [
    "# create model, split training data\n",
    "training_set, validation_set, holdout_set_all, \\\n",
    "train_file_paths, validation_file_paths, holdout_file_paths = train_test('Birds/8_143', 50, 20)\n",
    "\n",
    "mod2 = cnn_model()"
   ]
  },
  {
   "cell_type": "code",
   "execution_count": 200,
   "id": "7672b968",
   "metadata": {},
   "outputs": [
    {
     "data": {
      "text/plain": [
       "(['008.Rhinoceros_Auklet', '143.Caspian_Tern'],\n",
       " ['008.Rhinoceros_Auklet', '143.Caspian_Tern'],\n",
       " ['008.Rhinoceros_Auklet', '143.Caspian_Tern'])"
      ]
     },
     "execution_count": 200,
     "metadata": {},
     "output_type": "execute_result"
    }
   ],
   "source": [
    "training_set.class_names, validation_set.class_names, holdout_set_all.class_names"
   ]
  },
  {
   "cell_type": "code",
   "execution_count": 201,
   "id": "e39499df",
   "metadata": {},
   "outputs": [
    {
     "data": {
      "text/plain": [
       "(32, 32, 32)"
      ]
     },
     "execution_count": 201,
     "metadata": {},
     "output_type": "execute_result"
    }
   ],
   "source": [
    "images = []\n",
    "labels = []\n",
    "for e, image_label in enumerate(holdout_set_all):\n",
    "    f = holdout_file_paths[e]\n",
    "    if f in validation_file_paths:\n",
    "        images.append(image_label[0].numpy())\n",
    "        labels.append(image_label[1].numpy())\n",
    "len(validation_file_paths), len(images), len(labels)"
   ]
  },
  {
   "cell_type": "code",
   "execution_count": 202,
   "id": "be910cbd",
   "metadata": {},
   "outputs": [
    {
     "name": "stdout",
     "output_type": "stream",
     "text": [
      "Epoch 1/9\n",
      "16/16 - 17s - loss: 897.7000 - accuracy: 0.5395 - val_loss: 0.7360 - val_accuracy: 0.7188 - 17s/epoch - 1s/step\n",
      "Epoch 2/9\n",
      "16/16 - 12s - loss: 2.0712 - accuracy: 0.5789 - val_loss: 0.6178 - val_accuracy: 0.6875 - 12s/epoch - 733ms/step\n",
      "Epoch 3/9\n",
      "16/16 - 11s - loss: 1.0559 - accuracy: 0.6842 - val_loss: 0.6383 - val_accuracy: 0.6562 - 11s/epoch - 684ms/step\n",
      "Epoch 4/9\n",
      "16/16 - 9s - loss: 1.2053 - accuracy: 0.7368 - val_loss: 1.2803 - val_accuracy: 0.5000 - 9s/epoch - 572ms/step\n",
      "Epoch 5/9\n",
      "16/16 - 9s - loss: 7.2132 - accuracy: 0.5658 - val_loss: 0.6443 - val_accuracy: 0.8750 - 9s/epoch - 592ms/step\n",
      "Epoch 6/9\n",
      "16/16 - 10s - loss: 1.4525 - accuracy: 0.6974 - val_loss: 0.6210 - val_accuracy: 0.8125 - 10s/epoch - 600ms/step\n",
      "Epoch 7/9\n",
      "16/16 - 10s - loss: 6.9010 - accuracy: 0.6974 - val_loss: 0.4657 - val_accuracy: 0.7500 - 10s/epoch - 599ms/step\n",
      "Epoch 8/9\n",
      "16/16 - 9s - loss: 3.8606 - accuracy: 0.6447 - val_loss: 0.5603 - val_accuracy: 0.8750 - 9s/epoch - 582ms/step\n",
      "Epoch 9/9\n",
      "16/16 - 9s - loss: 2.2789 - accuracy: 0.7895 - val_loss: 0.4167 - val_accuracy: 0.7812 - 9s/epoch - 593ms/step\n"
     ]
    }
   ],
   "source": [
    "history = mod2.fit(training_set,\n",
    "      epochs=9,\n",
    "      verbose=2,\n",
    "      validation_data = validation_set)"
   ]
  },
  {
   "cell_type": "code",
   "execution_count": 94,
   "id": "3c304c6f",
   "metadata": {},
   "outputs": [
    {
     "name": "stdout",
     "output_type": "stream",
     "text": [
      "7/7 [==============================] - 1s 183ms/step - loss: 0.3035 - accuracy: 0.8750\n"
     ]
    },
    {
     "data": {
      "text/plain": [
       "[0.3034543991088867, 0.875]"
      ]
     },
     "execution_count": 94,
     "metadata": {},
     "output_type": "execute_result"
    }
   ],
   "source": [
    "# evaluate validation set\n",
    "mod2.evaluate(validation_set)"
   ]
  },
  {
   "cell_type": "code",
   "execution_count": 203,
   "id": "4bcf3d83",
   "metadata": {},
   "outputs": [
    {
     "name": "stdout",
     "output_type": "stream",
     "text": [
      "32/32 [==============================] - 1s 31ms/step\n"
     ]
    }
   ],
   "source": [
    "img_arrays = []\n",
    "for i in images:\n",
    "    img_arrays.append(i)\n",
    "\n",
    "test_dataset = tf.data.Dataset.from_tensor_slices(img_arrays)\n",
    "preds = mod2.predict(test_dataset)"
   ]
  },
  {
   "cell_type": "code",
   "execution_count": 204,
   "id": "7b4318d6",
   "metadata": {},
   "outputs": [
    {
     "data": {
      "text/plain": [
       "Counter({0: 14, 1: 18})"
      ]
     },
     "execution_count": 204,
     "metadata": {},
     "output_type": "execute_result"
    }
   ],
   "source": [
    "c = Counter([i[0] for i in labels])\n",
    "c"
   ]
  },
  {
   "cell_type": "code",
   "execution_count": 205,
   "id": "10584886",
   "metadata": {},
   "outputs": [
    {
     "data": {
      "text/html": [
       "<div>\n",
       "<style scoped>\n",
       "    .dataframe tbody tr th:only-of-type {\n",
       "        vertical-align: middle;\n",
       "    }\n",
       "\n",
       "    .dataframe tbody tr th {\n",
       "        vertical-align: top;\n",
       "    }\n",
       "\n",
       "    .dataframe thead th {\n",
       "        text-align: right;\n",
       "    }\n",
       "</style>\n",
       "<table border=\"1\" class=\"dataframe\">\n",
       "  <thead>\n",
       "    <tr style=\"text-align: right;\">\n",
       "      <th></th>\n",
       "      <th></th>\n",
       "      <th>predict_probability</th>\n",
       "      <th>predicted_label</th>\n",
       "    </tr>\n",
       "    <tr>\n",
       "      <th>true_label</th>\n",
       "      <th>compare</th>\n",
       "      <th></th>\n",
       "      <th></th>\n",
       "    </tr>\n",
       "  </thead>\n",
       "  <tbody>\n",
       "    <tr>\n",
       "      <th rowspan=\"2\" valign=\"top\">0</th>\n",
       "      <th>False</th>\n",
       "      <td>2</td>\n",
       "      <td>2</td>\n",
       "    </tr>\n",
       "    <tr>\n",
       "      <th>True</th>\n",
       "      <td>12</td>\n",
       "      <td>12</td>\n",
       "    </tr>\n",
       "    <tr>\n",
       "      <th rowspan=\"2\" valign=\"top\">1</th>\n",
       "      <th>False</th>\n",
       "      <td>2</td>\n",
       "      <td>2</td>\n",
       "    </tr>\n",
       "    <tr>\n",
       "      <th>True</th>\n",
       "      <td>16</td>\n",
       "      <td>16</td>\n",
       "    </tr>\n",
       "  </tbody>\n",
       "</table>\n",
       "</div>"
      ],
      "text/plain": [
       "                    predict_probability  predicted_label\n",
       "true_label compare                                      \n",
       "0          False                      2                2\n",
       "           True                      12               12\n",
       "1          False                      2                2\n",
       "           True                      16               16"
      ]
     },
     "execution_count": 205,
     "metadata": {},
     "output_type": "execute_result"
    }
   ],
   "source": [
    "df = pd.DataFrame()\n",
    "df['true_label'] = [i[0] for i in labels]\n",
    "df['predict_probability'] = [i[0] for i in preds]\n",
    "df = df.sort_values(by='predict_probability')\n",
    "inferred_labels = [0 for i in range(c[0])] + [1 for i in range(c[1])]\n",
    "df['predicted_label'] = inferred_labels \n",
    "df['compare'] = df['true_label'] == df['predicted_label']\n",
    "df.groupby(['true_label', 'compare']).count()"
   ]
  },
  {
   "cell_type": "code",
   "execution_count": 206,
   "id": "a527e552",
   "metadata": {},
   "outputs": [
    {
     "data": {
      "image/png": "[encoded data removed]",
      "text/plain": [
       "<Figure size 500x500 with 1 Axes>"
      ]
     },
     "metadata": {},
     "output_type": "display_data"
    }
   ],
   "source": [
    "# confusion matrix\n",
    "conf_matrix = confusion_matrix(y_true=df['true_label'], y_pred= df['predicted_label'])\n",
    "\n",
    "fig, ax = plt.subplots(figsize=(5, 5))\n",
    "ax.matshow(conf_matrix, cmap=plt.cm.Blues, alpha=0.3)\n",
    "for i in range(conf_matrix.shape[0]):\n",
    "    for j in range(conf_matrix.shape[1]):\n",
    "        ax.text(x=j, y=i,s=conf_matrix[i, j], va='center', ha='center', size='xx-large')\n",
    " \n",
    "plt.xlabel('Predictions', fontsize=18)\n",
    "plt.ylabel('Actuals', fontsize=18)\n",
    "plt.title('Confusion Matrix', fontsize=18)\n",
    "plt.show()"
   ]
  },
  {
   "cell_type": "code",
   "execution_count": 207,
   "id": "4061a876",
   "metadata": {},
   "outputs": [
    {
     "data": {
      "text/plain": [
       "0.875"
      ]
     },
     "execution_count": 207,
     "metadata": {},
     "output_type": "execute_result"
    }
   ],
   "source": [
    "# accuracy\n",
    "len(df.loc[df['compare'] == True])/len(df)"
   ]
  },
  {
   "cell_type": "code",
   "execution_count": 208,
   "id": "277a8737",
   "metadata": {},
   "outputs": [
    {
     "name": "stdout",
     "output_type": "stream",
     "text": [
      "                   precision    recall  f1-score   support\n",
      "\n",
      "Rhinoceros Auklet       0.86      0.86      0.86        14\n",
      "     Caspian Tern       0.89      0.89      0.89        18\n",
      "\n",
      "         accuracy                           0.88        32\n",
      "        macro avg       0.87      0.87      0.87        32\n",
      "     weighted avg       0.88      0.88      0.88        32\n",
      "\n"
     ]
    }
   ],
   "source": [
    "# precision-recall-f1\n",
    "print(classification_report(df['true_label'], df['predicted_label'], target_names = ['Rhinoceros Auklet', 'Caspian Tern']))"
   ]
  },
  {
   "cell_type": "markdown",
   "id": "26795d21",
   "metadata": {},
   "source": [
    "### Model 3 - Red-winged Blackbird and House Sparrow "
   ]
  },
  {
   "cell_type": "code",
   "execution_count": 209,
   "id": "6b40ccc9",
   "metadata": {},
   "outputs": [
    {
     "name": "stdout",
     "output_type": "stream",
     "text": [
      "Found 120 files belonging to 2 classes.\n",
      "Using 84 files for training.\n",
      "Found 120 files belonging to 2 classes.\n",
      "Using 36 files for validation.\n",
      "Found 120 files belonging to 2 classes.\n"
     ]
    }
   ],
   "source": [
    "# create model, split training data\n",
    "training_set, validation_set, holdout_set_all, \\\n",
    "train_file_paths, validation_file_paths, holdout_file_paths = train_test('Birds/10_118', 50, 20)\n",
    "\n",
    "mod3 = cnn_model()"
   ]
  },
  {
   "cell_type": "code",
   "execution_count": 210,
   "id": "4b3f5e22",
   "metadata": {},
   "outputs": [
    {
     "data": {
      "text/plain": [
       "(['010.Red_winged_Blackbird', '118.House_Sparrow'],\n",
       " ['010.Red_winged_Blackbird', '118.House_Sparrow'],\n",
       " ['010.Red_winged_Blackbird', '118.House_Sparrow'])"
      ]
     },
     "execution_count": 210,
     "metadata": {},
     "output_type": "execute_result"
    }
   ],
   "source": [
    "training_set.class_names, validation_set.class_names, holdout_set_all.class_names"
   ]
  },
  {
   "cell_type": "code",
   "execution_count": 211,
   "id": "c4328255",
   "metadata": {},
   "outputs": [
    {
     "name": "stdout",
     "output_type": "stream",
     "text": [
      "Epoch 1/9\n",
      "17/17 - 16s - loss: 1444.8782 - accuracy: 0.5119 - val_loss: 0.7022 - val_accuracy: 0.5556 - 16s/epoch - 942ms/step\n",
      "Epoch 2/9\n",
      "17/17 - 14s - loss: 1.2072 - accuracy: 0.6667 - val_loss: 0.6445 - val_accuracy: 0.6944 - 14s/epoch - 812ms/step\n",
      "Epoch 3/9\n",
      "17/17 - 13s - loss: 2.9505 - accuracy: 0.6190 - val_loss: 0.6468 - val_accuracy: 0.5556 - 13s/epoch - 794ms/step\n",
      "Epoch 4/9\n",
      "17/17 - 12s - loss: 4.5505 - accuracy: 0.7024 - val_loss: 5.5151 - val_accuracy: 0.5278 - 12s/epoch - 685ms/step\n",
      "Epoch 5/9\n",
      "17/17 - 10s - loss: 5.9509 - accuracy: 0.5833 - val_loss: 0.5532 - val_accuracy: 0.8333 - 10s/epoch - 613ms/step\n",
      "Epoch 6/9\n",
      "17/17 - 10s - loss: 1.3921 - accuracy: 0.7262 - val_loss: 8.3780 - val_accuracy: 0.5278 - 10s/epoch - 607ms/step\n",
      "Epoch 7/9\n",
      "17/17 - 10s - loss: 2.9731 - accuracy: 0.7500 - val_loss: 0.3756 - val_accuracy: 0.8889 - 10s/epoch - 605ms/step\n",
      "Epoch 8/9\n",
      "17/17 - 10s - loss: 0.3386 - accuracy: 0.8929 - val_loss: 0.3230 - val_accuracy: 0.9444 - 10s/epoch - 597ms/step\n",
      "Epoch 9/9\n",
      "17/17 - 10s - loss: 13.6189 - accuracy: 0.6190 - val_loss: 0.4007 - val_accuracy: 0.8056 - 10s/epoch - 599ms/step\n"
     ]
    }
   ],
   "source": [
    "history = mod3.fit(training_set,\n",
    "      epochs=9,\n",
    "      verbose=2,\n",
    "      validation_data = validation_set)"
   ]
  },
  {
   "cell_type": "code",
   "execution_count": 212,
   "id": "dc093751",
   "metadata": {},
   "outputs": [
    {
     "data": {
      "text/plain": [
       "(36, 36, 36)"
      ]
     },
     "execution_count": 212,
     "metadata": {},
     "output_type": "execute_result"
    }
   ],
   "source": [
    "images = []\n",
    "labels = []\n",
    "for e, image_label in enumerate(holdout_set_all):\n",
    "    f = holdout_file_paths[e]\n",
    "    if f in validation_file_paths:\n",
    "        images.append(image_label[0].numpy())\n",
    "        labels.append(image_label[1].numpy())\n",
    "len(validation_file_paths), len(images), len(labels)"
   ]
  },
  {
   "cell_type": "code",
   "execution_count": 213,
   "id": "6c718a86",
   "metadata": {},
   "outputs": [
    {
     "name": "stdout",
     "output_type": "stream",
     "text": [
      "8/8 [==============================] - 1s 111ms/step - loss: 0.4007 - accuracy: 0.8056\n"
     ]
    },
    {
     "data": {
      "text/plain": [
       "[0.4007023572921753, 0.8055555820465088]"
      ]
     },
     "execution_count": 213,
     "metadata": {},
     "output_type": "execute_result"
    }
   ],
   "source": [
    "# evaluate validation set\n",
    "mod3.evaluate(validation_set)"
   ]
  },
  {
   "cell_type": "code",
   "execution_count": 214,
   "id": "71c14ca8",
   "metadata": {},
   "outputs": [
    {
     "name": "stdout",
     "output_type": "stream",
     "text": [
      "36/36 [==============================] - 1s 32ms/step\n"
     ]
    }
   ],
   "source": [
    "img_arrays = []\n",
    "for i in images:\n",
    "    img_arrays.append(i)\n",
    "\n",
    "test_dataset = tf.data.Dataset.from_tensor_slices(img_arrays)\n",
    "preds = mod3.predict(test_dataset)"
   ]
  },
  {
   "cell_type": "code",
   "execution_count": 215,
   "id": "7b430693",
   "metadata": {},
   "outputs": [
    {
     "data": {
      "text/plain": [
       "Counter({0: 17, 1: 19})"
      ]
     },
     "execution_count": 215,
     "metadata": {},
     "output_type": "execute_result"
    }
   ],
   "source": [
    "c = Counter([i[0] for i in labels])\n",
    "c"
   ]
  },
  {
   "cell_type": "code",
   "execution_count": 216,
   "id": "8e22c20f",
   "metadata": {},
   "outputs": [
    {
     "data": {
      "text/html": [
       "<div>\n",
       "<style scoped>\n",
       "    .dataframe tbody tr th:only-of-type {\n",
       "        vertical-align: middle;\n",
       "    }\n",
       "\n",
       "    .dataframe tbody tr th {\n",
       "        vertical-align: top;\n",
       "    }\n",
       "\n",
       "    .dataframe thead th {\n",
       "        text-align: right;\n",
       "    }\n",
       "</style>\n",
       "<table border=\"1\" class=\"dataframe\">\n",
       "  <thead>\n",
       "    <tr style=\"text-align: right;\">\n",
       "      <th></th>\n",
       "      <th></th>\n",
       "      <th>predict_probability</th>\n",
       "      <th>predicted_label</th>\n",
       "    </tr>\n",
       "    <tr>\n",
       "      <th>true_label</th>\n",
       "      <th>compare</th>\n",
       "      <th></th>\n",
       "      <th></th>\n",
       "    </tr>\n",
       "  </thead>\n",
       "  <tbody>\n",
       "    <tr>\n",
       "      <th rowspan=\"2\" valign=\"top\">0</th>\n",
       "      <th>False</th>\n",
       "      <td>1</td>\n",
       "      <td>1</td>\n",
       "    </tr>\n",
       "    <tr>\n",
       "      <th>True</th>\n",
       "      <td>16</td>\n",
       "      <td>16</td>\n",
       "    </tr>\n",
       "    <tr>\n",
       "      <th rowspan=\"2\" valign=\"top\">1</th>\n",
       "      <th>False</th>\n",
       "      <td>1</td>\n",
       "      <td>1</td>\n",
       "    </tr>\n",
       "    <tr>\n",
       "      <th>True</th>\n",
       "      <td>18</td>\n",
       "      <td>18</td>\n",
       "    </tr>\n",
       "  </tbody>\n",
       "</table>\n",
       "</div>"
      ],
      "text/plain": [
       "                    predict_probability  predicted_label\n",
       "true_label compare                                      \n",
       "0          False                      1                1\n",
       "           True                      16               16\n",
       "1          False                      1                1\n",
       "           True                      18               18"
      ]
     },
     "execution_count": 216,
     "metadata": {},
     "output_type": "execute_result"
    }
   ],
   "source": [
    "df = pd.DataFrame()\n",
    "df['true_label'] = [i[0] for i in labels]\n",
    "df['predict_probability'] = [i[0] for i in preds]\n",
    "df = df.sort_values(by='predict_probability')\n",
    "inferred_labels = [0 for i in range(c[0])] + [1 for i in range(c[1])]\n",
    "df['predicted_label'] = inferred_labels \n",
    "df['compare'] = df['true_label'] == df['predicted_label']\n",
    "df.groupby(['true_label', 'compare']).count()"
   ]
  },
  {
   "cell_type": "code",
   "execution_count": 217,
   "id": "3b896377",
   "metadata": {},
   "outputs": [
    {
     "data": {
      "image/png": "[encoded data removed]",
      "text/plain": [
       "<Figure size 500x500 with 1 Axes>"
      ]
     },
     "metadata": {},
     "output_type": "display_data"
    }
   ],
   "source": [
    "# confusion matrix\n",
    "conf_matrix = confusion_matrix(y_true=df['true_label'], y_pred= df['predicted_label'])\n",
    "\n",
    "fig, ax = plt.subplots(figsize=(5, 5))\n",
    "ax.matshow(conf_matrix, cmap=plt.cm.Blues, alpha=0.3)\n",
    "for i in range(conf_matrix.shape[0]):\n",
    "    for j in range(conf_matrix.shape[1]):\n",
    "        ax.text(x=j, y=i,s=conf_matrix[i, j], va='center', ha='center', size='xx-large')\n",
    " \n",
    "plt.xlabel('Predictions', fontsize=18)\n",
    "plt.ylabel('Actuals', fontsize=18)\n",
    "plt.title('Confusion Matrix', fontsize=18)\n",
    "plt.show()"
   ]
  },
  {
   "cell_type": "code",
   "execution_count": 218,
   "id": "ebe0a806",
   "metadata": {},
   "outputs": [
    {
     "data": {
      "text/plain": [
       "0.9444444444444444"
      ]
     },
     "execution_count": 218,
     "metadata": {},
     "output_type": "execute_result"
    }
   ],
   "source": [
    "# accuracy\n",
    "len(df.loc[df['compare'] == True])/len(df)"
   ]
  },
  {
   "cell_type": "code",
   "execution_count": 219,
   "id": "002f788e",
   "metadata": {},
   "outputs": [
    {
     "name": "stdout",
     "output_type": "stream",
     "text": [
      "                      precision    recall  f1-score   support\n",
      "\n",
      "Red-winged Blackbird       0.94      0.94      0.94        17\n",
      "       House Sparrow       0.95      0.95      0.95        19\n",
      "\n",
      "            accuracy                           0.94        36\n",
      "           macro avg       0.94      0.94      0.94        36\n",
      "        weighted avg       0.94      0.94      0.94        36\n",
      "\n"
     ]
    }
   ],
   "source": [
    "# precision-recall-f1\n",
    "print(classification_report(df['true_label'], df['predicted_label'], target_names = ['Red-winged Blackbird','House Sparrow']))"
   ]
  },
  {
   "cell_type": "markdown",
   "id": "be81ea37",
   "metadata": {},
   "source": [
    "### Model 4 - Fish Crow and Ruby-throated Hummingbird"
   ]
  },
  {
   "cell_type": "code",
   "execution_count": 220,
   "id": "d263d42b",
   "metadata": {},
   "outputs": [
    {
     "name": "stdout",
     "output_type": "stream",
     "text": [
      "Found 120 files belonging to 2 classes.\n",
      "Using 84 files for training.\n",
      "Found 120 files belonging to 2 classes.\n",
      "Using 36 files for validation.\n",
      "Found 120 files belonging to 2 classes.\n"
     ]
    }
   ],
   "source": [
    "# create model, split training data\n",
    "training_set, validation_set, holdout_set_all, \\\n",
    "train_file_paths, validation_file_paths, holdout_file_paths = train_test('Birds/30_68', 50, 20)\n",
    "\n",
    "mod4 = cnn_model()"
   ]
  },
  {
   "cell_type": "code",
   "execution_count": 221,
   "id": "cb6a8f67",
   "metadata": {},
   "outputs": [
    {
     "data": {
      "text/plain": [
       "(['030.Fish_Crow', '068.Ruby_throated_Hummingbird'],\n",
       " ['030.Fish_Crow', '068.Ruby_throated_Hummingbird'],\n",
       " ['030.Fish_Crow', '068.Ruby_throated_Hummingbird'])"
      ]
     },
     "execution_count": 221,
     "metadata": {},
     "output_type": "execute_result"
    }
   ],
   "source": [
    "training_set.class_names, validation_set.class_names, holdout_set_all.class_names"
   ]
  },
  {
   "cell_type": "code",
   "execution_count": 222,
   "id": "693a29b2",
   "metadata": {},
   "outputs": [
    {
     "name": "stdout",
     "output_type": "stream",
     "text": [
      "Epoch 1/9\n",
      "17/17 [==============================] - 17s 824ms/step - loss: 198.0792 - accuracy: 0.4762 - val_loss: 1.0639 - val_accuracy: 0.6111\n",
      "Epoch 2/9\n",
      "17/17 [==============================] - 12s 695ms/step - loss: 1.1136 - accuracy: 0.6667 - val_loss: 0.8923 - val_accuracy: 0.6111\n",
      "Epoch 3/9\n",
      "17/17 [==============================] - 15s 833ms/step - loss: 0.6474 - accuracy: 0.7738 - val_loss: 1.1156 - val_accuracy: 0.6944\n",
      "Epoch 4/9\n",
      "17/17 [==============================] - 15s 873ms/step - loss: 0.5048 - accuracy: 0.8095 - val_loss: 0.3402 - val_accuracy: 0.8889\n",
      "Epoch 5/9\n",
      "17/17 [==============================] - 14s 811ms/step - loss: 5.5008 - accuracy: 0.6548 - val_loss: 0.2438 - val_accuracy: 0.8333\n",
      "Epoch 6/9\n",
      "17/17 [==============================] - 15s 843ms/step - loss: 0.9102 - accuracy: 0.8571 - val_loss: 0.2269 - val_accuracy: 0.9444\n",
      "Epoch 7/9\n",
      "17/17 [==============================] - 11s 655ms/step - loss: 0.3836 - accuracy: 0.9286 - val_loss: 0.2086 - val_accuracy: 0.9722\n",
      "Epoch 8/9\n",
      "17/17 [==============================] - 14s 844ms/step - loss: 5.7031 - accuracy: 0.7976 - val_loss: 0.2247 - val_accuracy: 0.9722\n",
      "Epoch 9/9\n",
      "17/17 [==============================] - 11s 635ms/step - loss: 0.7786 - accuracy: 0.8571 - val_loss: 0.2790 - val_accuracy: 0.9444\n"
     ]
    }
   ],
   "source": [
    "history = mod4.fit(training_set,\n",
    "      epochs=9,\n",
    "      verbose=1,\n",
    "      validation_data = validation_set)"
   ]
  },
  {
   "cell_type": "code",
   "execution_count": 223,
   "id": "f836cecd",
   "metadata": {},
   "outputs": [
    {
     "data": {
      "text/plain": [
       "(36, 36, 36)"
      ]
     },
     "execution_count": 223,
     "metadata": {},
     "output_type": "execute_result"
    }
   ],
   "source": [
    "images = []\n",
    "labels = []\n",
    "for e, image_label in enumerate(holdout_set_all):\n",
    "    f = holdout_file_paths[e]\n",
    "    if f in validation_file_paths:\n",
    "        images.append(image_label[0].numpy())\n",
    "        labels.append(image_label[1].numpy())\n",
    "len(validation_file_paths), len(images), len(labels)"
   ]
  },
  {
   "cell_type": "code",
   "execution_count": 224,
   "id": "6f24498e",
   "metadata": {},
   "outputs": [
    {
     "name": "stdout",
     "output_type": "stream",
     "text": [
      "8/8 [==============================] - 1s 119ms/step - loss: 0.2790 - accuracy: 0.9444\n"
     ]
    },
    {
     "data": {
      "text/plain": [
       "[0.27899521589279175, 0.9444444179534912]"
      ]
     },
     "execution_count": 224,
     "metadata": {},
     "output_type": "execute_result"
    }
   ],
   "source": [
    "# evaluate validation set\n",
    "mod4.evaluate(validation_set)"
   ]
  },
  {
   "cell_type": "code",
   "execution_count": 225,
   "id": "35e299ec",
   "metadata": {},
   "outputs": [
    {
     "name": "stdout",
     "output_type": "stream",
     "text": [
      "36/36 [==============================] - 1s 30ms/step\n"
     ]
    }
   ],
   "source": [
    "img_arrays = []\n",
    "for i in images:\n",
    "    img_arrays.append(i)\n",
    "\n",
    "test_dataset = tf.data.Dataset.from_tensor_slices(img_arrays)\n",
    "preds = mod4.predict(test_dataset)"
   ]
  },
  {
   "cell_type": "code",
   "execution_count": 226,
   "id": "2a51a0de",
   "metadata": {},
   "outputs": [
    {
     "data": {
      "text/html": [
       "<div>\n",
       "<style scoped>\n",
       "    .dataframe tbody tr th:only-of-type {\n",
       "        vertical-align: middle;\n",
       "    }\n",
       "\n",
       "    .dataframe tbody tr th {\n",
       "        vertical-align: top;\n",
       "    }\n",
       "\n",
       "    .dataframe thead th {\n",
       "        text-align: right;\n",
       "    }\n",
       "</style>\n",
       "<table border=\"1\" class=\"dataframe\">\n",
       "  <thead>\n",
       "    <tr style=\"text-align: right;\">\n",
       "      <th></th>\n",
       "      <th></th>\n",
       "      <th>predict_probability</th>\n",
       "      <th>predicted_label</th>\n",
       "    </tr>\n",
       "    <tr>\n",
       "      <th>true_label</th>\n",
       "      <th>compare</th>\n",
       "      <th></th>\n",
       "      <th></th>\n",
       "    </tr>\n",
       "  </thead>\n",
       "  <tbody>\n",
       "    <tr>\n",
       "      <th rowspan=\"2\" valign=\"top\">0</th>\n",
       "      <th>False</th>\n",
       "      <td>1</td>\n",
       "      <td>1</td>\n",
       "    </tr>\n",
       "    <tr>\n",
       "      <th>True</th>\n",
       "      <td>16</td>\n",
       "      <td>16</td>\n",
       "    </tr>\n",
       "    <tr>\n",
       "      <th rowspan=\"2\" valign=\"top\">1</th>\n",
       "      <th>False</th>\n",
       "      <td>1</td>\n",
       "      <td>1</td>\n",
       "    </tr>\n",
       "    <tr>\n",
       "      <th>True</th>\n",
       "      <td>18</td>\n",
       "      <td>18</td>\n",
       "    </tr>\n",
       "  </tbody>\n",
       "</table>\n",
       "</div>"
      ],
      "text/plain": [
       "                    predict_probability  predicted_label\n",
       "true_label compare                                      \n",
       "0          False                      1                1\n",
       "           True                      16               16\n",
       "1          False                      1                1\n",
       "           True                      18               18"
      ]
     },
     "execution_count": 226,
     "metadata": {},
     "output_type": "execute_result"
    }
   ],
   "source": [
    "c = Counter([i[0] for i in labels])\n",
    "df = pd.DataFrame()\n",
    "df['true_label'] = [i[0] for i in labels]\n",
    "df['predict_probability'] = [i[0] for i in preds]\n",
    "df = df.sort_values(by='predict_probability')\n",
    "inferred_labels = [0 for i in range(c[0])] + [1 for i in range(c[1])]\n",
    "df['predicted_label'] = inferred_labels \n",
    "df['compare'] = df['true_label'] == df['predicted_label']\n",
    "df.groupby(['true_label', 'compare']).count()"
   ]
  },
  {
   "cell_type": "code",
   "execution_count": 227,
   "id": "101c8054",
   "metadata": {},
   "outputs": [
    {
     "data": {
      "image/png": "[encoded data removed]",
      "text/plain": [
       "<Figure size 500x500 with 1 Axes>"
      ]
     },
     "metadata": {},
     "output_type": "display_data"
    }
   ],
   "source": [
    "# confusion matrix\n",
    "conf_matrix = confusion_matrix(y_true=df['true_label'], y_pred= df['predicted_label'])\n",
    "\n",
    "fig, ax = plt.subplots(figsize=(5, 5))\n",
    "ax.matshow(conf_matrix, cmap=plt.cm.Blues, alpha=0.3)\n",
    "for i in range(conf_matrix.shape[0]):\n",
    "    for j in range(conf_matrix.shape[1]):\n",
    "        ax.text(x=j, y=i,s=conf_matrix[i, j], va='center', ha='center', size='xx-large')\n",
    " \n",
    "plt.xlabel('Predictions', fontsize=18)\n",
    "plt.ylabel('Actuals', fontsize=18)\n",
    "plt.title('Confusion Matrix', fontsize=18)\n",
    "plt.show()"
   ]
  },
  {
   "cell_type": "code",
   "execution_count": 228,
   "id": "e2188de9",
   "metadata": {},
   "outputs": [
    {
     "data": {
      "text/plain": [
       "0.9444444444444444"
      ]
     },
     "execution_count": 228,
     "metadata": {},
     "output_type": "execute_result"
    }
   ],
   "source": [
    "# accuracy\n",
    "len(df.loc[df['compare'] == True])/len(df)"
   ]
  },
  {
   "cell_type": "code",
   "execution_count": 229,
   "id": "1537084c",
   "metadata": {},
   "outputs": [
    {
     "name": "stdout",
     "output_type": "stream",
     "text": [
      "                           precision    recall  f1-score   support\n",
      "\n",
      "                Fish Crow       0.94      0.94      0.94        17\n",
      "Ruby-throated Hummingbird       0.95      0.95      0.95        19\n",
      "\n",
      "                 accuracy                           0.94        36\n",
      "                macro avg       0.94      0.94      0.94        36\n",
      "             weighted avg       0.94      0.94      0.94        36\n",
      "\n"
     ]
    }
   ],
   "source": [
    "# precision-recall-f1\n",
    "print(classification_report(df['true_label'], df['predicted_label'], target_names = ['Fish Crow','Ruby-throated Hummingbird']))"
   ]
  },
  {
   "cell_type": "markdown",
   "id": "540a5f4b",
   "metadata": {},
   "source": [
    "### Model 5 - Yellow-billed Cuckoo and Pied Kingfisher"
   ]
  },
  {
   "cell_type": "code",
   "execution_count": 131,
   "id": "e1a0a9d7",
   "metadata": {},
   "outputs": [
    {
     "name": "stdout",
     "output_type": "stream",
     "text": [
      "Found 119 files belonging to 2 classes.\n",
      "Using 84 files for training.\n",
      "Found 119 files belonging to 2 classes.\n",
      "Using 35 files for validation.\n",
      "Found 119 files belonging to 2 classes.\n"
     ]
    }
   ],
   "source": [
    "# create model, split training data\n",
    "training_set, validation_set, holdout_set_all, \\\n",
    "train_file_paths, validation_file_paths, holdout_file_paths = train_test('Birds/33_81', 50, 20)\n",
    "\n",
    "mod5 = cnn_model()"
   ]
  },
  {
   "cell_type": "code",
   "execution_count": 133,
   "id": "b55bed08",
   "metadata": {},
   "outputs": [
    {
     "name": "stdout",
     "output_type": "stream",
     "text": [
      "Epoch 1/9\n",
      "17/17 [==============================] - 18s 921ms/step - loss: 434.6185 - accuracy: 0.4762 - val_loss: 0.9972 - val_accuracy: 0.5143\n",
      "Epoch 2/9\n",
      "17/17 [==============================] - 14s 850ms/step - loss: 1.0259 - accuracy: 0.5952 - val_loss: 0.7386 - val_accuracy: 0.6000\n",
      "Epoch 3/9\n",
      "17/17 [==============================] - 13s 748ms/step - loss: 1.2561 - accuracy: 0.5952 - val_loss: 0.5952 - val_accuracy: 0.6571\n",
      "Epoch 4/9\n",
      "17/17 [==============================] - 16s 894ms/step - loss: 0.9535 - accuracy: 0.6667 - val_loss: 0.7606 - val_accuracy: 0.6286\n",
      "Epoch 5/9\n",
      "17/17 [==============================] - 14s 795ms/step - loss: 2.7809 - accuracy: 0.6667 - val_loss: 0.4919 - val_accuracy: 0.8857\n",
      "Epoch 6/9\n",
      "17/17 [==============================] - 12s 696ms/step - loss: 1.9091 - accuracy: 0.7381 - val_loss: 0.3706 - val_accuracy: 0.8571\n",
      "Epoch 7/9\n",
      "17/17 [==============================] - 15s 919ms/step - loss: 3.1986 - accuracy: 0.6786 - val_loss: 12.3239 - val_accuracy: 0.4571\n",
      "Epoch 8/9\n",
      "17/17 [==============================] - 13s 725ms/step - loss: 8.1079 - accuracy: 0.7024 - val_loss: 0.3160 - val_accuracy: 0.8857\n",
      "Epoch 9/9\n",
      "17/17 [==============================] - 12s 681ms/step - loss: 1.6615 - accuracy: 0.7976 - val_loss: 0.1068 - val_accuracy: 0.9429\n"
     ]
    }
   ],
   "source": [
    "history = mod5.fit(training_set,\n",
    "      epochs=9,\n",
    "      verbose=1,\n",
    "      validation_data = validation_set)"
   ]
  },
  {
   "cell_type": "code",
   "execution_count": 134,
   "id": "b9e9be28",
   "metadata": {},
   "outputs": [
    {
     "data": {
      "text/plain": [
       "(35, 35, 35)"
      ]
     },
     "execution_count": 134,
     "metadata": {},
     "output_type": "execute_result"
    }
   ],
   "source": [
    "images = []\n",
    "labels = []\n",
    "for e, image_label in enumerate(holdout_set_all):\n",
    "    f = holdout_file_paths[e]\n",
    "    if f in validation_file_paths:\n",
    "        images.append(image_label[0].numpy())\n",
    "        labels.append(image_label[1].numpy())\n",
    "len(validation_file_paths), len(images), len(labels)"
   ]
  },
  {
   "cell_type": "code",
   "execution_count": 135,
   "id": "b823bfff",
   "metadata": {},
   "outputs": [
    {
     "name": "stdout",
     "output_type": "stream",
     "text": [
      "7/7 [==============================] - 1s 171ms/step - loss: 0.1068 - accuracy: 0.9429\n"
     ]
    },
    {
     "data": {
      "text/plain": [
       "[0.10676251351833344, 0.9428571462631226]"
      ]
     },
     "execution_count": 135,
     "metadata": {},
     "output_type": "execute_result"
    }
   ],
   "source": [
    "# evaluate validation set\n",
    "mod5.evaluate(validation_set)"
   ]
  },
  {
   "cell_type": "code",
   "execution_count": 136,
   "id": "fd164815",
   "metadata": {},
   "outputs": [
    {
     "name": "stdout",
     "output_type": "stream",
     "text": [
      "35/35 [==============================] - 1s 34ms/step\n"
     ]
    }
   ],
   "source": [
    "img_arrays = []\n",
    "for i in images:\n",
    "    img_arrays.append(i)\n",
    "\n",
    "test_dataset = tf.data.Dataset.from_tensor_slices(img_arrays)\n",
    "preds = mod5.predict(test_dataset)"
   ]
  },
  {
   "cell_type": "code",
   "execution_count": 137,
   "id": "dae733ae",
   "metadata": {},
   "outputs": [
    {
     "data": {
      "text/html": [
       "<div>\n",
       "<style scoped>\n",
       "    .dataframe tbody tr th:only-of-type {\n",
       "        vertical-align: middle;\n",
       "    }\n",
       "\n",
       "    .dataframe tbody tr th {\n",
       "        vertical-align: top;\n",
       "    }\n",
       "\n",
       "    .dataframe thead th {\n",
       "        text-align: right;\n",
       "    }\n",
       "</style>\n",
       "<table border=\"1\" class=\"dataframe\">\n",
       "  <thead>\n",
       "    <tr style=\"text-align: right;\">\n",
       "      <th></th>\n",
       "      <th></th>\n",
       "      <th>predict_probability</th>\n",
       "      <th>predicted_label</th>\n",
       "    </tr>\n",
       "    <tr>\n",
       "      <th>true_label</th>\n",
       "      <th>compare</th>\n",
       "      <th></th>\n",
       "      <th></th>\n",
       "    </tr>\n",
       "  </thead>\n",
       "  <tbody>\n",
       "    <tr>\n",
       "      <th rowspan=\"2\" valign=\"top\">0</th>\n",
       "      <th>False</th>\n",
       "      <td>1</td>\n",
       "      <td>1</td>\n",
       "    </tr>\n",
       "    <tr>\n",
       "      <th>True</th>\n",
       "      <td>15</td>\n",
       "      <td>15</td>\n",
       "    </tr>\n",
       "    <tr>\n",
       "      <th rowspan=\"2\" valign=\"top\">1</th>\n",
       "      <th>False</th>\n",
       "      <td>1</td>\n",
       "      <td>1</td>\n",
       "    </tr>\n",
       "    <tr>\n",
       "      <th>True</th>\n",
       "      <td>18</td>\n",
       "      <td>18</td>\n",
       "    </tr>\n",
       "  </tbody>\n",
       "</table>\n",
       "</div>"
      ],
      "text/plain": [
       "                    predict_probability  predicted_label\n",
       "true_label compare                                      \n",
       "0          False                      1                1\n",
       "           True                      15               15\n",
       "1          False                      1                1\n",
       "           True                      18               18"
      ]
     },
     "execution_count": 137,
     "metadata": {},
     "output_type": "execute_result"
    }
   ],
   "source": [
    "c = Counter([i[0] for i in labels])\n",
    "df = pd.DataFrame()\n",
    "df['true_label'] = [i[0] for i in labels]\n",
    "df['predict_probability'] = [i[0] for i in preds]\n",
    "df = df.sort_values(by='predict_probability')\n",
    "inferred_labels = [0 for i in range(c[0])] + [1 for i in range(c[1])]\n",
    "df['predicted_label'] = inferred_labels \n",
    "df['compare'] = df['true_label'] == df['predicted_label']\n",
    "df.groupby(['true_label', 'compare']).count()"
   ]
  },
  {
   "cell_type": "code",
   "execution_count": 138,
   "id": "47dd9ec2",
   "metadata": {},
   "outputs": [
    {
     "data": {
      "image/png": "[encoded data removed]",
      "text/plain": [
       "<Figure size 500x500 with 1 Axes>"
      ]
     },
     "metadata": {},
     "output_type": "display_data"
    }
   ],
   "source": [
    "# confusion matrix\n",
    "conf_matrix = confusion_matrix(y_true=df['true_label'], y_pred= df['predicted_label'])\n",
    "\n",
    "fig, ax = plt.subplots(figsize=(5, 5))\n",
    "ax.matshow(conf_matrix, cmap=plt.cm.Blues, alpha=0.3)\n",
    "for i in range(conf_matrix.shape[0]):\n",
    "    for j in range(conf_matrix.shape[1]):\n",
    "        ax.text(x=j, y=i,s=conf_matrix[i, j], va='center', ha='center', size='xx-large')\n",
    " \n",
    "plt.xlabel('Predictions', fontsize=18)\n",
    "plt.ylabel('Actuals', fontsize=18)\n",
    "plt.title('Confusion Matrix', fontsize=18)\n",
    "plt.show()"
   ]
  },
  {
   "cell_type": "code",
   "execution_count": 139,
   "id": "70aaa857",
   "metadata": {},
   "outputs": [
    {
     "data": {
      "text/plain": [
       "0.9428571428571428"
      ]
     },
     "execution_count": 139,
     "metadata": {},
     "output_type": "execute_result"
    }
   ],
   "source": [
    "# accuracy\n",
    "len(df.loc[df['compare'] == True])/len(df)"
   ]
  },
  {
   "cell_type": "code",
   "execution_count": 140,
   "id": "5eb7d571",
   "metadata": {},
   "outputs": [
    {
     "name": "stdout",
     "output_type": "stream",
     "text": [
      "                      precision    recall  f1-score   support\n",
      "\n",
      "Yellow-billed Cuckoo       0.94      0.94      0.94        16\n",
      "     Pied Kingfisher       0.95      0.95      0.95        19\n",
      "\n",
      "            accuracy                           0.94        35\n",
      "           macro avg       0.94      0.94      0.94        35\n",
      "        weighted avg       0.94      0.94      0.94        35\n",
      "\n"
     ]
    }
   ],
   "source": [
    "# precision-recall-f1\n",
    "print(classification_report(df['true_label'], df['predicted_label'], target_names = ['Yellow-billed Cuckoo','Pied Kingfisher']))"
   ]
  },
  {
   "cell_type": "markdown",
   "id": "7493a23e",
   "metadata": {},
   "source": [
    "### Model 6 - Acadian Flycatcher and Elegant Tern"
   ]
  },
  {
   "cell_type": "code",
   "execution_count": 141,
   "id": "2a69a539",
   "metadata": {},
   "outputs": [
    {
     "name": "stdout",
     "output_type": "stream",
     "text": [
      "Found 119 files belonging to 2 classes.\n",
      "Using 84 files for training.\n",
      "Found 119 files belonging to 2 classes.\n",
      "Using 35 files for validation.\n",
      "Found 119 files belonging to 2 classes.\n"
     ]
    }
   ],
   "source": [
    "# create model, split training data\n",
    "training_set, validation_set, holdout_set_all, \\\n",
    "train_file_paths, validation_file_paths, holdout_file_paths = train_test('Birds/37_145', 50, 20)\n",
    "\n",
    "mod6 = cnn_model()"
   ]
  },
  {
   "cell_type": "code",
   "execution_count": 142,
   "id": "2e39ae45",
   "metadata": {},
   "outputs": [
    {
     "data": {
      "text/plain": [
       "(['037.Acadian_Flycatcher', '145.Elegant_Tern'],\n",
       " ['037.Acadian_Flycatcher', '145.Elegant_Tern'],\n",
       " ['037.Acadian_Flycatcher', '145.Elegant_Tern'])"
      ]
     },
     "execution_count": 142,
     "metadata": {},
     "output_type": "execute_result"
    }
   ],
   "source": [
    "training_set.class_names, validation_set.class_names, holdout_set_all.class_names"
   ]
  },
  {
   "cell_type": "code",
   "execution_count": 143,
   "id": "07f8bc66",
   "metadata": {},
   "outputs": [
    {
     "name": "stdout",
     "output_type": "stream",
     "text": [
      "Epoch 1/9\n",
      "17/17 [==============================] - 17s 828ms/step - loss: 701.5317 - accuracy: 0.6310 - val_loss: 0.4743 - val_accuracy: 0.8000\n",
      "Epoch 2/9\n",
      "17/17 [==============================] - 12s 696ms/step - loss: 0.9158 - accuracy: 0.7381 - val_loss: 0.6261 - val_accuracy: 0.5429\n",
      "Epoch 3/9\n",
      "17/17 [==============================] - 11s 617ms/step - loss: 2.5787 - accuracy: 0.6667 - val_loss: 0.5573 - val_accuracy: 0.7143\n",
      "Epoch 4/9\n",
      "17/17 [==============================] - 16s 903ms/step - loss: 1.1496 - accuracy: 0.6667 - val_loss: 5.0682 - val_accuracy: 0.5429\n",
      "Epoch 5/9\n",
      "17/17 [==============================] - 16s 944ms/step - loss: 0.6221 - accuracy: 0.7857 - val_loss: 0.3683 - val_accuracy: 0.9143\n",
      "Epoch 6/9\n",
      "17/17 [==============================] - 16s 916ms/step - loss: 1.3192 - accuracy: 0.7024 - val_loss: 0.5653 - val_accuracy: 0.7714\n",
      "Epoch 7/9\n",
      "17/17 [==============================] - 14s 839ms/step - loss: 2.2103 - accuracy: 0.8214 - val_loss: 0.5034 - val_accuracy: 0.9429\n",
      "Epoch 8/9\n",
      "17/17 [==============================] - 15s 871ms/step - loss: 0.6149 - accuracy: 0.7619 - val_loss: 0.3811 - val_accuracy: 0.8857\n",
      "Epoch 9/9\n",
      "17/17 [==============================] - 12s 727ms/step - loss: 0.6430 - accuracy: 0.8095 - val_loss: 0.4248 - val_accuracy: 0.9429\n"
     ]
    }
   ],
   "source": [
    "history = mod6.fit(training_set,\n",
    "      epochs=9,\n",
    "      verbose=1,\n",
    "      validation_data = validation_set)"
   ]
  },
  {
   "cell_type": "code",
   "execution_count": 144,
   "id": "bffaf6a2",
   "metadata": {},
   "outputs": [
    {
     "data": {
      "text/plain": [
       "(35, 35, 35)"
      ]
     },
     "execution_count": 144,
     "metadata": {},
     "output_type": "execute_result"
    }
   ],
   "source": [
    "images = []\n",
    "labels = []\n",
    "for e, image_label in enumerate(holdout_set_all):\n",
    "    f = holdout_file_paths[e]\n",
    "    if f in validation_file_paths:\n",
    "        images.append(image_label[0].numpy())\n",
    "        labels.append(image_label[1].numpy())\n",
    "len(validation_file_paths), len(images), len(labels)"
   ]
  },
  {
   "cell_type": "code",
   "execution_count": 145,
   "id": "8f7e6f42",
   "metadata": {},
   "outputs": [
    {
     "name": "stdout",
     "output_type": "stream",
     "text": [
      "7/7 [==============================] - 1s 190ms/step - loss: 0.4248 - accuracy: 0.9429\n"
     ]
    },
    {
     "data": {
      "text/plain": [
       "[0.424775093793869, 0.9428571462631226]"
      ]
     },
     "execution_count": 145,
     "metadata": {},
     "output_type": "execute_result"
    }
   ],
   "source": [
    "# evaluate validation set\n",
    "mod6.evaluate(validation_set)"
   ]
  },
  {
   "cell_type": "code",
   "execution_count": 146,
   "id": "e43343e0",
   "metadata": {},
   "outputs": [
    {
     "name": "stdout",
     "output_type": "stream",
     "text": [
      "35/35 [==============================] - 2s 51ms/step\n"
     ]
    }
   ],
   "source": [
    "img_arrays = []\n",
    "for i in images:\n",
    "    img_arrays.append(i)\n",
    "\n",
    "test_dataset = tf.data.Dataset.from_tensor_slices(img_arrays)\n",
    "preds = mod6.predict(test_dataset)"
   ]
  },
  {
   "cell_type": "code",
   "execution_count": 147,
   "id": "4da085ec",
   "metadata": {},
   "outputs": [
    {
     "data": {
      "text/html": [
       "<div>\n",
       "<style scoped>\n",
       "    .dataframe tbody tr th:only-of-type {\n",
       "        vertical-align: middle;\n",
       "    }\n",
       "\n",
       "    .dataframe tbody tr th {\n",
       "        vertical-align: top;\n",
       "    }\n",
       "\n",
       "    .dataframe thead th {\n",
       "        text-align: right;\n",
       "    }\n",
       "</style>\n",
       "<table border=\"1\" class=\"dataframe\">\n",
       "  <thead>\n",
       "    <tr style=\"text-align: right;\">\n",
       "      <th></th>\n",
       "      <th></th>\n",
       "      <th>predict_probability</th>\n",
       "      <th>predicted_label</th>\n",
       "    </tr>\n",
       "    <tr>\n",
       "      <th>true_label</th>\n",
       "      <th>compare</th>\n",
       "      <th></th>\n",
       "      <th></th>\n",
       "    </tr>\n",
       "  </thead>\n",
       "  <tbody>\n",
       "    <tr>\n",
       "      <th rowspan=\"2\" valign=\"top\">0</th>\n",
       "      <th>False</th>\n",
       "      <td>2</td>\n",
       "      <td>2</td>\n",
       "    </tr>\n",
       "    <tr>\n",
       "      <th>True</th>\n",
       "      <td>14</td>\n",
       "      <td>14</td>\n",
       "    </tr>\n",
       "    <tr>\n",
       "      <th rowspan=\"2\" valign=\"top\">1</th>\n",
       "      <th>False</th>\n",
       "      <td>2</td>\n",
       "      <td>2</td>\n",
       "    </tr>\n",
       "    <tr>\n",
       "      <th>True</th>\n",
       "      <td>17</td>\n",
       "      <td>17</td>\n",
       "    </tr>\n",
       "  </tbody>\n",
       "</table>\n",
       "</div>"
      ],
      "text/plain": [
       "                    predict_probability  predicted_label\n",
       "true_label compare                                      \n",
       "0          False                      2                2\n",
       "           True                      14               14\n",
       "1          False                      2                2\n",
       "           True                      17               17"
      ]
     },
     "execution_count": 147,
     "metadata": {},
     "output_type": "execute_result"
    }
   ],
   "source": [
    "c = Counter([i[0] for i in labels])\n",
    "df = pd.DataFrame()\n",
    "df['true_label'] = [i[0] for i in labels]\n",
    "df['predict_probability'] = [i[0] for i in preds]\n",
    "df = df.sort_values(by='predict_probability')\n",
    "inferred_labels = [0 for i in range(c[0])] + [1 for i in range(c[1])]\n",
    "df['predicted_label'] = inferred_labels \n",
    "df['compare'] = df['true_label'] == df['predicted_label']\n",
    "df.groupby(['true_label', 'compare']).count()"
   ]
  },
  {
   "cell_type": "code",
   "execution_count": 148,
   "id": "522997e9",
   "metadata": {},
   "outputs": [
    {
     "data": {
      "image/png": "[encoded data removed]",
      "text/plain": [
       "<Figure size 500x500 with 1 Axes>"
      ]
     },
     "metadata": {},
     "output_type": "display_data"
    }
   ],
   "source": [
    "# confusion matrix\n",
    "conf_matrix = confusion_matrix(y_true=df['true_label'], y_pred= df['predicted_label'])\n",
    "\n",
    "fig, ax = plt.subplots(figsize=(5, 5))\n",
    "ax.matshow(conf_matrix, cmap=plt.cm.Blues, alpha=0.3)\n",
    "for i in range(conf_matrix.shape[0]):\n",
    "    for j in range(conf_matrix.shape[1]):\n",
    "        ax.text(x=j, y=i,s=conf_matrix[i, j], va='center', ha='center', size='xx-large')\n",
    " \n",
    "plt.xlabel('Predictions', fontsize=18)\n",
    "plt.ylabel('Actuals', fontsize=18)\n",
    "plt.title('Confusion Matrix', fontsize=18)\n",
    "plt.show()"
   ]
  },
  {
   "cell_type": "code",
   "execution_count": 149,
   "id": "879fbc3f",
   "metadata": {},
   "outputs": [
    {
     "data": {
      "text/plain": [
       "0.8857142857142857"
      ]
     },
     "execution_count": 149,
     "metadata": {},
     "output_type": "execute_result"
    }
   ],
   "source": [
    "# accuracy\n",
    "len(df.loc[df['compare'] == True])/len(df)"
   ]
  },
  {
   "cell_type": "code",
   "execution_count": 150,
   "id": "0684d49d",
   "metadata": {},
   "outputs": [
    {
     "name": "stdout",
     "output_type": "stream",
     "text": [
      "                    precision    recall  f1-score   support\n",
      "\n",
      "Acadian Flycatcher       0.88      0.88      0.88        16\n",
      "      Elegant Tern       0.89      0.89      0.89        19\n",
      "\n",
      "          accuracy                           0.89        35\n",
      "         macro avg       0.88      0.88      0.88        35\n",
      "      weighted avg       0.89      0.89      0.89        35\n",
      "\n"
     ]
    }
   ],
   "source": [
    "# precision-recall-f1\n",
    "print(classification_report(df['true_label'], df['predicted_label'], target_names = ['Acadian Flycatcher','Elegant Tern']))"
   ]
  },
  {
   "cell_type": "markdown",
   "id": "901a86aa",
   "metadata": {},
   "source": [
    "### Model 7 - Western Grebe and Rock Wren"
   ]
  },
  {
   "cell_type": "code",
   "execution_count": 151,
   "id": "f84549bc",
   "metadata": {},
   "outputs": [
    {
     "name": "stdout",
     "output_type": "stream",
     "text": [
      "Found 120 files belonging to 2 classes.\n",
      "Using 84 files for training.\n",
      "Found 120 files belonging to 2 classes.\n",
      "Using 36 files for validation.\n",
      "Found 120 files belonging to 2 classes.\n"
     ]
    }
   ],
   "source": [
    "# create model, split training data\n",
    "training_set, validation_set, holdout_set_all, \\\n",
    "train_file_paths, validation_file_paths, holdout_file_paths = train_test('Birds/53_198', 50, 20)\n",
    "\n",
    "mod7 = cnn_model()"
   ]
  },
  {
   "cell_type": "code",
   "execution_count": 152,
   "id": "db230573",
   "metadata": {},
   "outputs": [
    {
     "name": "stdout",
     "output_type": "stream",
     "text": [
      "Epoch 1/9\n",
      "17/17 [==============================] - 20s 982ms/step - loss: 750.9814 - accuracy: 0.5119 - val_loss: 0.6296 - val_accuracy: 0.6944\n",
      "Epoch 2/9\n",
      "17/17 [==============================] - 13s 750ms/step - loss: 1.0018 - accuracy: 0.6548 - val_loss: 0.6097 - val_accuracy: 0.7500\n",
      "Epoch 3/9\n",
      "17/17 [==============================] - 16s 941ms/step - loss: 1.2063 - accuracy: 0.7024 - val_loss: 0.5443 - val_accuracy: 0.7500\n",
      "Epoch 4/9\n",
      "17/17 [==============================] - 15s 843ms/step - loss: 0.7748 - accuracy: 0.7500 - val_loss: 0.5093 - val_accuracy: 0.9444\n",
      "Epoch 5/9\n",
      "17/17 [==============================] - 12s 678ms/step - loss: 3.6243 - accuracy: 0.6548 - val_loss: 0.6119 - val_accuracy: 0.7222\n",
      "Epoch 6/9\n",
      "17/17 [==============================] - 14s 822ms/step - loss: 3.0213 - accuracy: 0.6786 - val_loss: 0.5500 - val_accuracy: 0.6667\n",
      "Epoch 7/9\n",
      "17/17 [==============================] - 15s 856ms/step - loss: 1.7167 - accuracy: 0.7976 - val_loss: 1.2807 - val_accuracy: 0.5556\n",
      "Epoch 8/9\n",
      "17/17 [==============================] - 16s 945ms/step - loss: 1.7917 - accuracy: 0.7262 - val_loss: 0.5948 - val_accuracy: 0.7222\n",
      "Epoch 9/9\n",
      "17/17 [==============================] - 14s 776ms/step - loss: 3.7956 - accuracy: 0.7262 - val_loss: 0.3719 - val_accuracy: 0.8333\n"
     ]
    }
   ],
   "source": [
    "history = mod7.fit(training_set,\n",
    "      epochs=9,\n",
    "      verbose=1,\n",
    "      validation_data = validation_set)"
   ]
  },
  {
   "cell_type": "code",
   "execution_count": 153,
   "id": "f9d9b0d8",
   "metadata": {},
   "outputs": [
    {
     "data": {
      "text/plain": [
       "(36, 36, 36)"
      ]
     },
     "execution_count": 153,
     "metadata": {},
     "output_type": "execute_result"
    }
   ],
   "source": [
    "images = []\n",
    "labels = []\n",
    "for e, image_label in enumerate(holdout_set_all):\n",
    "    f = holdout_file_paths[e]\n",
    "    if f in validation_file_paths:\n",
    "        images.append(image_label[0].numpy())\n",
    "        labels.append(image_label[1].numpy())\n",
    "len(validation_file_paths), len(images), len(labels)"
   ]
  },
  {
   "cell_type": "code",
   "execution_count": 154,
   "id": "f155a890",
   "metadata": {},
   "outputs": [
    {
     "name": "stdout",
     "output_type": "stream",
     "text": [
      "8/8 [==============================] - 2s 176ms/step - loss: 0.3719 - accuracy: 0.8333\n"
     ]
    },
    {
     "data": {
      "text/plain": [
       "[0.37189981341362, 0.8333333134651184]"
      ]
     },
     "execution_count": 154,
     "metadata": {},
     "output_type": "execute_result"
    }
   ],
   "source": [
    "# evaluate validation set\n",
    "mod7.evaluate(validation_set)"
   ]
  },
  {
   "cell_type": "code",
   "execution_count": 155,
   "id": "aa402805",
   "metadata": {},
   "outputs": [
    {
     "name": "stdout",
     "output_type": "stream",
     "text": [
      "36/36 [==============================] - 1s 36ms/step\n"
     ]
    }
   ],
   "source": [
    "img_arrays = []\n",
    "for i in images:\n",
    "    img_arrays.append(i)\n",
    "\n",
    "test_dataset = tf.data.Dataset.from_tensor_slices(img_arrays)\n",
    "preds = mod7.predict(test_dataset)"
   ]
  },
  {
   "cell_type": "code",
   "execution_count": 156,
   "id": "f7a9feb6",
   "metadata": {},
   "outputs": [
    {
     "data": {
      "text/html": [
       "<div>\n",
       "<style scoped>\n",
       "    .dataframe tbody tr th:only-of-type {\n",
       "        vertical-align: middle;\n",
       "    }\n",
       "\n",
       "    .dataframe tbody tr th {\n",
       "        vertical-align: top;\n",
       "    }\n",
       "\n",
       "    .dataframe thead th {\n",
       "        text-align: right;\n",
       "    }\n",
       "</style>\n",
       "<table border=\"1\" class=\"dataframe\">\n",
       "  <thead>\n",
       "    <tr style=\"text-align: right;\">\n",
       "      <th></th>\n",
       "      <th></th>\n",
       "      <th>predict_probability</th>\n",
       "      <th>predicted_label</th>\n",
       "    </tr>\n",
       "    <tr>\n",
       "      <th>true_label</th>\n",
       "      <th>compare</th>\n",
       "      <th></th>\n",
       "      <th></th>\n",
       "    </tr>\n",
       "  </thead>\n",
       "  <tbody>\n",
       "    <tr>\n",
       "      <th rowspan=\"2\" valign=\"top\">0</th>\n",
       "      <th>False</th>\n",
       "      <td>4</td>\n",
       "      <td>4</td>\n",
       "    </tr>\n",
       "    <tr>\n",
       "      <th>True</th>\n",
       "      <td>13</td>\n",
       "      <td>13</td>\n",
       "    </tr>\n",
       "    <tr>\n",
       "      <th rowspan=\"2\" valign=\"top\">1</th>\n",
       "      <th>False</th>\n",
       "      <td>4</td>\n",
       "      <td>4</td>\n",
       "    </tr>\n",
       "    <tr>\n",
       "      <th>True</th>\n",
       "      <td>15</td>\n",
       "      <td>15</td>\n",
       "    </tr>\n",
       "  </tbody>\n",
       "</table>\n",
       "</div>"
      ],
      "text/plain": [
       "                    predict_probability  predicted_label\n",
       "true_label compare                                      \n",
       "0          False                      4                4\n",
       "           True                      13               13\n",
       "1          False                      4                4\n",
       "           True                      15               15"
      ]
     },
     "execution_count": 156,
     "metadata": {},
     "output_type": "execute_result"
    }
   ],
   "source": [
    "c = Counter([i[0] for i in labels])\n",
    "df = pd.DataFrame()\n",
    "df['true_label'] = [i[0] for i in labels]\n",
    "df['predict_probability'] = [i[0] for i in preds]\n",
    "df = df.sort_values(by='predict_probability')\n",
    "inferred_labels = [0 for i in range(c[0])] + [1 for i in range(c[1])]\n",
    "df['predicted_label'] = inferred_labels \n",
    "df['compare'] = df['true_label'] == df['predicted_label']\n",
    "df.groupby(['true_label', 'compare']).count()"
   ]
  },
  {
   "cell_type": "code",
   "execution_count": 157,
   "id": "f01ea3a6",
   "metadata": {},
   "outputs": [
    {
     "data": {
      "image/png": "[encoded data removed]",
      "text/plain": [
       "<Figure size 500x500 with 1 Axes>"
      ]
     },
     "metadata": {},
     "output_type": "display_data"
    }
   ],
   "source": [
    "# confusion matrix\n",
    "conf_matrix = confusion_matrix(y_true=df['true_label'], y_pred= df['predicted_label'])\n",
    "\n",
    "fig, ax = plt.subplots(figsize=(5, 5))\n",
    "ax.matshow(conf_matrix, cmap=plt.cm.Blues, alpha=0.3)\n",
    "for i in range(conf_matrix.shape[0]):\n",
    "    for j in range(conf_matrix.shape[1]):\n",
    "        ax.text(x=j, y=i,s=conf_matrix[i, j], va='center', ha='center', size='xx-large')\n",
    " \n",
    "plt.xlabel('Predictions', fontsize=18)\n",
    "plt.ylabel('Actuals', fontsize=18)\n",
    "plt.title('Confusion Matrix', fontsize=18)\n",
    "plt.show()"
   ]
  },
  {
   "cell_type": "code",
   "execution_count": 158,
   "id": "048e8987",
   "metadata": {},
   "outputs": [
    {
     "data": {
      "text/plain": [
       "0.7777777777777778"
      ]
     },
     "execution_count": 158,
     "metadata": {},
     "output_type": "execute_result"
    }
   ],
   "source": [
    "# accuracy\n",
    "len(df.loc[df['compare'] == True])/len(df)"
   ]
  },
  {
   "cell_type": "code",
   "execution_count": 159,
   "id": "b4207803",
   "metadata": {},
   "outputs": [
    {
     "name": "stdout",
     "output_type": "stream",
     "text": [
      "               precision    recall  f1-score   support\n",
      "\n",
      "Western Grebe       0.76      0.76      0.76        17\n",
      "    Rock Wren       0.79      0.79      0.79        19\n",
      "\n",
      "     accuracy                           0.78        36\n",
      "    macro avg       0.78      0.78      0.78        36\n",
      " weighted avg       0.78      0.78      0.78        36\n",
      "\n"
     ]
    }
   ],
   "source": [
    "# precision-recall-f1\n",
    "print(classification_report(df['true_label'], df['predicted_label'], target_names = ['Western Grebe', 'Rock Wren']))"
   ]
  },
  {
   "cell_type": "markdown",
   "id": "2fcf5d64",
   "metadata": {},
   "source": [
    "### Model 8 - Rose-breasted Grosbeak and Heermann Gull "
   ]
  },
  {
   "cell_type": "code",
   "execution_count": 160,
   "id": "c569ae9e",
   "metadata": {},
   "outputs": [
    {
     "name": "stdout",
     "output_type": "stream",
     "text": [
      "Found 120 files belonging to 2 classes.\n",
      "Using 84 files for training.\n",
      "Found 120 files belonging to 2 classes.\n",
      "Using 36 files for validation.\n",
      "Found 120 files belonging to 2 classes.\n"
     ]
    }
   ],
   "source": [
    "# create model, split training data\n",
    "training_set, validation_set, holdout_set_all, \\\n",
    "train_file_paths, validation_file_paths, holdout_file_paths = train_test('Birds/57_61', 50, 20)\n",
    "\n",
    "mod8 = cnn_model()"
   ]
  },
  {
   "cell_type": "code",
   "execution_count": 161,
   "id": "b9adfc8a",
   "metadata": {},
   "outputs": [
    {
     "name": "stdout",
     "output_type": "stream",
     "text": [
      "Epoch 1/9\n",
      "17/17 [==============================] - 17s 795ms/step - loss: 664.5509 - accuracy: 0.5952 - val_loss: 0.6343 - val_accuracy: 0.6389\n",
      "Epoch 2/9\n",
      "17/17 [==============================] - 15s 839ms/step - loss: 0.8960 - accuracy: 0.7500 - val_loss: 0.5418 - val_accuracy: 0.7778\n",
      "Epoch 3/9\n",
      "17/17 [==============================] - 13s 726ms/step - loss: 2.4568 - accuracy: 0.6667 - val_loss: 0.5304 - val_accuracy: 0.7778\n",
      "Epoch 4/9\n",
      "17/17 [==============================] - 14s 842ms/step - loss: 1.1396 - accuracy: 0.7857 - val_loss: 0.4462 - val_accuracy: 0.9444\n",
      "Epoch 5/9\n",
      "17/17 [==============================] - 17s 958ms/step - loss: 1.5087 - accuracy: 0.8690 - val_loss: 1.2199 - val_accuracy: 0.7500\n",
      "Epoch 6/9\n",
      "17/17 [==============================] - 14s 793ms/step - loss: 1.3925 - accuracy: 0.8214 - val_loss: 0.1864 - val_accuracy: 0.9444\n",
      "Epoch 7/9\n",
      "17/17 [==============================] - 14s 827ms/step - loss: 19.9041 - accuracy: 0.7738 - val_loss: 0.1467 - val_accuracy: 0.9444\n",
      "Epoch 8/9\n",
      "17/17 [==============================] - 14s 801ms/step - loss: 0.0538 - accuracy: 0.9762 - val_loss: 0.1024 - val_accuracy: 0.9722\n",
      "Epoch 9/9\n",
      "17/17 [==============================] - 14s 774ms/step - loss: 0.1304 - accuracy: 0.9405 - val_loss: 0.5579 - val_accuracy: 0.7500\n"
     ]
    }
   ],
   "source": [
    "history = mod8.fit(training_set,\n",
    "      epochs=9,\n",
    "      verbose=1,\n",
    "      validation_data = validation_set)"
   ]
  },
  {
   "cell_type": "code",
   "execution_count": 162,
   "id": "bfbfdd52",
   "metadata": {},
   "outputs": [
    {
     "data": {
      "text/plain": [
       "(36, 36, 36)"
      ]
     },
     "execution_count": 162,
     "metadata": {},
     "output_type": "execute_result"
    }
   ],
   "source": [
    "images = []\n",
    "labels = []\n",
    "for e, image_label in enumerate(holdout_set_all):\n",
    "    f = holdout_file_paths[e]\n",
    "    if f in validation_file_paths:\n",
    "        images.append(image_label[0].numpy())\n",
    "        labels.append(image_label[1].numpy())\n",
    "len(validation_file_paths), len(images), len(labels)"
   ]
  },
  {
   "cell_type": "code",
   "execution_count": 163,
   "id": "c83b4047",
   "metadata": {},
   "outputs": [
    {
     "name": "stdout",
     "output_type": "stream",
     "text": [
      "8/8 [==============================] - 2s 168ms/step - loss: 0.5579 - accuracy: 0.7500\n"
     ]
    },
    {
     "data": {
      "text/plain": [
       "[0.557929515838623, 0.75]"
      ]
     },
     "execution_count": 163,
     "metadata": {},
     "output_type": "execute_result"
    }
   ],
   "source": [
    "# evaluate validation set\n",
    "mod8.evaluate(validation_set)"
   ]
  },
  {
   "cell_type": "code",
   "execution_count": 164,
   "id": "e813dfd4",
   "metadata": {},
   "outputs": [
    {
     "name": "stdout",
     "output_type": "stream",
     "text": [
      "36/36 [==============================] - 2s 39ms/step\n"
     ]
    }
   ],
   "source": [
    "img_arrays = []\n",
    "for i in images:\n",
    "    img_arrays.append(i)\n",
    "\n",
    "test_dataset = tf.data.Dataset.from_tensor_slices(img_arrays)\n",
    "preds = mod8.predict(test_dataset)"
   ]
  },
  {
   "cell_type": "code",
   "execution_count": 165,
   "id": "2ce8b171",
   "metadata": {},
   "outputs": [
    {
     "data": {
      "text/html": [
       "<div>\n",
       "<style scoped>\n",
       "    .dataframe tbody tr th:only-of-type {\n",
       "        vertical-align: middle;\n",
       "    }\n",
       "\n",
       "    .dataframe tbody tr th {\n",
       "        vertical-align: top;\n",
       "    }\n",
       "\n",
       "    .dataframe thead th {\n",
       "        text-align: right;\n",
       "    }\n",
       "</style>\n",
       "<table border=\"1\" class=\"dataframe\">\n",
       "  <thead>\n",
       "    <tr style=\"text-align: right;\">\n",
       "      <th></th>\n",
       "      <th></th>\n",
       "      <th>predict_probability</th>\n",
       "      <th>predicted_label</th>\n",
       "    </tr>\n",
       "    <tr>\n",
       "      <th>true_label</th>\n",
       "      <th>compare</th>\n",
       "      <th></th>\n",
       "      <th></th>\n",
       "    </tr>\n",
       "  </thead>\n",
       "  <tbody>\n",
       "    <tr>\n",
       "      <th>0</th>\n",
       "      <th>True</th>\n",
       "      <td>17</td>\n",
       "      <td>17</td>\n",
       "    </tr>\n",
       "    <tr>\n",
       "      <th>1</th>\n",
       "      <th>True</th>\n",
       "      <td>19</td>\n",
       "      <td>19</td>\n",
       "    </tr>\n",
       "  </tbody>\n",
       "</table>\n",
       "</div>"
      ],
      "text/plain": [
       "                    predict_probability  predicted_label\n",
       "true_label compare                                      \n",
       "0          True                      17               17\n",
       "1          True                      19               19"
      ]
     },
     "execution_count": 165,
     "metadata": {},
     "output_type": "execute_result"
    }
   ],
   "source": [
    "c = Counter([i[0] for i in labels])\n",
    "df = pd.DataFrame()\n",
    "df['true_label'] = [i[0] for i in labels]\n",
    "df['predict_probability'] = [i[0] for i in preds]\n",
    "df = df.sort_values(by='predict_probability')\n",
    "inferred_labels = [0 for i in range(c[0])] + [1 for i in range(c[1])]\n",
    "df['predicted_label'] = inferred_labels \n",
    "df['compare'] = df['true_label'] == df['predicted_label']\n",
    "df.groupby(['true_label', 'compare']).count()"
   ]
  },
  {
   "cell_type": "code",
   "execution_count": 166,
   "id": "d0fb28e7",
   "metadata": {},
   "outputs": [
    {
     "data": {
      "image/png": "[encoded data removed]",
      "text/plain": [
       "<Figure size 500x500 with 1 Axes>"
      ]
     },
     "metadata": {},
     "output_type": "display_data"
    }
   ],
   "source": [
    "# confusion matrix\n",
    "conf_matrix = confusion_matrix(y_true=df['true_label'], y_pred= df['predicted_label'])\n",
    "\n",
    "fig, ax = plt.subplots(figsize=(5, 5))\n",
    "ax.matshow(conf_matrix, cmap=plt.cm.Blues, alpha=0.3)\n",
    "for i in range(conf_matrix.shape[0]):\n",
    "    for j in range(conf_matrix.shape[1]):\n",
    "        ax.text(x=j, y=i,s=conf_matrix[i, j], va='center', ha='center', size='xx-large')\n",
    " \n",
    "plt.xlabel('Predictions', fontsize=18)\n",
    "plt.ylabel('Actuals', fontsize=18)\n",
    "plt.title('Confusion Matrix', fontsize=18)\n",
    "plt.show()"
   ]
  },
  {
   "cell_type": "code",
   "execution_count": 167,
   "id": "dbf5889c",
   "metadata": {},
   "outputs": [
    {
     "data": {
      "text/plain": [
       "1.0"
      ]
     },
     "execution_count": 167,
     "metadata": {},
     "output_type": "execute_result"
    }
   ],
   "source": [
    "# accuracy\n",
    "len(df.loc[df['compare'] == True])/len(df)"
   ]
  },
  {
   "cell_type": "code",
   "execution_count": 168,
   "id": "4f9e244f",
   "metadata": {},
   "outputs": [
    {
     "name": "stdout",
     "output_type": "stream",
     "text": [
      "                        precision    recall  f1-score   support\n",
      "\n",
      "Rose-breasted Grosbeak       1.00      1.00      1.00        17\n",
      "        Heermann Gull        1.00      1.00      1.00        19\n",
      "\n",
      "              accuracy                           1.00        36\n",
      "             macro avg       1.00      1.00      1.00        36\n",
      "          weighted avg       1.00      1.00      1.00        36\n",
      "\n"
     ]
    }
   ],
   "source": [
    "# precision-recall-f1\n",
    "print(classification_report(df['true_label'], df['predicted_label'], target_names = ['Rose-breasted Grosbeak','Heermann Gull ']))"
   ]
  },
  {
   "cell_type": "markdown",
   "id": "39f6998f",
   "metadata": {},
   "source": [
    "### Model 9 - Western Gull and Pacific Loon"
   ]
  },
  {
   "cell_type": "code",
   "execution_count": 169,
   "id": "95ee3c34",
   "metadata": {},
   "outputs": [
    {
     "name": "stdout",
     "output_type": "stream",
     "text": [
      "Found 120 files belonging to 2 classes.\n",
      "Using 84 files for training.\n",
      "Found 120 files belonging to 2 classes.\n",
      "Using 36 files for validation.\n",
      "Found 120 files belonging to 2 classes.\n"
     ]
    }
   ],
   "source": [
    "# create model, split training data\n",
    "training_set, validation_set, holdout_set_all, \\\n",
    "train_file_paths, validation_file_paths, holdout_file_paths = train_test('Birds/66_86', 50, 20)\n",
    "\n",
    "mod9 = cnn_model()"
   ]
  },
  {
   "cell_type": "code",
   "execution_count": 170,
   "id": "f01ab98e",
   "metadata": {},
   "outputs": [
    {
     "name": "stdout",
     "output_type": "stream",
     "text": [
      "Epoch 1/9\n",
      "17/17 [==============================] - 18s 911ms/step - loss: 1468.9326 - accuracy: 0.4643 - val_loss: 1.3672 - val_accuracy: 0.4722\n",
      "Epoch 2/9\n",
      "17/17 [==============================] - 20s 1s/step - loss: 1.2472 - accuracy: 0.6190 - val_loss: 0.6225 - val_accuracy: 0.5556\n",
      "Epoch 3/9\n",
      "17/17 [==============================] - 13s 775ms/step - loss: 1.2175 - accuracy: 0.5714 - val_loss: 0.6177 - val_accuracy: 0.6111\n",
      "Epoch 4/9\n",
      "17/17 [==============================] - 15s 850ms/step - loss: 1.0944 - accuracy: 0.6310 - val_loss: 0.6079 - val_accuracy: 0.7222\n",
      "Epoch 5/9\n",
      "17/17 [==============================] - 13s 772ms/step - loss: 5.1883 - accuracy: 0.7619 - val_loss: 0.4957 - val_accuracy: 0.6667\n",
      "Epoch 6/9\n",
      "17/17 [==============================] - 14s 824ms/step - loss: 0.6769 - accuracy: 0.7381 - val_loss: 0.6583 - val_accuracy: 0.7222\n",
      "Epoch 7/9\n",
      "17/17 [==============================] - 15s 862ms/step - loss: 4.3634 - accuracy: 0.6429 - val_loss: 0.3434 - val_accuracy: 0.8611\n",
      "Epoch 8/9\n",
      "17/17 [==============================] - 16s 980ms/step - loss: 0.8834 - accuracy: 0.7619 - val_loss: 0.4337 - val_accuracy: 0.8889\n",
      "Epoch 9/9\n",
      "17/17 [==============================] - 15s 869ms/step - loss: 2.1941 - accuracy: 0.6310 - val_loss: 0.6022 - val_accuracy: 0.7222\n"
     ]
    }
   ],
   "source": [
    "history = mod9.fit(training_set,\n",
    "      epochs=9,\n",
    "      verbose=1,\n",
    "      validation_data = validation_set)"
   ]
  },
  {
   "cell_type": "code",
   "execution_count": 171,
   "id": "9f3ab81e",
   "metadata": {},
   "outputs": [
    {
     "data": {
      "text/plain": [
       "(36, 36, 36)"
      ]
     },
     "execution_count": 171,
     "metadata": {},
     "output_type": "execute_result"
    }
   ],
   "source": [
    "images = []\n",
    "labels = []\n",
    "for e, image_label in enumerate(holdout_set_all):\n",
    "    f = holdout_file_paths[e]\n",
    "    if f in validation_file_paths:\n",
    "        images.append(image_label[0].numpy())\n",
    "        labels.append(image_label[1].numpy())\n",
    "len(validation_file_paths), len(images), len(labels)"
   ]
  },
  {
   "cell_type": "code",
   "execution_count": 172,
   "id": "aef01a54",
   "metadata": {},
   "outputs": [
    {
     "name": "stdout",
     "output_type": "stream",
     "text": [
      "8/8 [==============================] - 2s 160ms/step - loss: 0.6022 - accuracy: 0.7222\n"
     ]
    },
    {
     "data": {
      "text/plain": [
       "[0.6021958589553833, 0.7222222089767456]"
      ]
     },
     "execution_count": 172,
     "metadata": {},
     "output_type": "execute_result"
    }
   ],
   "source": [
    "# evaluate training set\n",
    "mod9.evaluate(validation_set)"
   ]
  },
  {
   "cell_type": "code",
   "execution_count": 173,
   "id": "07bdf096",
   "metadata": {},
   "outputs": [
    {
     "name": "stdout",
     "output_type": "stream",
     "text": [
      "36/36 [==============================] - 2s 40ms/step\n"
     ]
    }
   ],
   "source": [
    "img_arrays = []\n",
    "for i in images:\n",
    "    img_arrays.append(i)\n",
    "\n",
    "test_dataset = tf.data.Dataset.from_tensor_slices(img_arrays)\n",
    "preds = mod9.predict(test_dataset)"
   ]
  },
  {
   "cell_type": "code",
   "execution_count": 174,
   "id": "661112f0",
   "metadata": {},
   "outputs": [
    {
     "data": {
      "text/html": [
       "<div>\n",
       "<style scoped>\n",
       "    .dataframe tbody tr th:only-of-type {\n",
       "        vertical-align: middle;\n",
       "    }\n",
       "\n",
       "    .dataframe tbody tr th {\n",
       "        vertical-align: top;\n",
       "    }\n",
       "\n",
       "    .dataframe thead th {\n",
       "        text-align: right;\n",
       "    }\n",
       "</style>\n",
       "<table border=\"1\" class=\"dataframe\">\n",
       "  <thead>\n",
       "    <tr style=\"text-align: right;\">\n",
       "      <th></th>\n",
       "      <th></th>\n",
       "      <th>predict_probability</th>\n",
       "      <th>predicted_label</th>\n",
       "    </tr>\n",
       "    <tr>\n",
       "      <th>true_label</th>\n",
       "      <th>compare</th>\n",
       "      <th></th>\n",
       "      <th></th>\n",
       "    </tr>\n",
       "  </thead>\n",
       "  <tbody>\n",
       "    <tr>\n",
       "      <th rowspan=\"2\" valign=\"top\">0</th>\n",
       "      <th>False</th>\n",
       "      <td>8</td>\n",
       "      <td>8</td>\n",
       "    </tr>\n",
       "    <tr>\n",
       "      <th>True</th>\n",
       "      <td>9</td>\n",
       "      <td>9</td>\n",
       "    </tr>\n",
       "    <tr>\n",
       "      <th rowspan=\"2\" valign=\"top\">1</th>\n",
       "      <th>False</th>\n",
       "      <td>8</td>\n",
       "      <td>8</td>\n",
       "    </tr>\n",
       "    <tr>\n",
       "      <th>True</th>\n",
       "      <td>11</td>\n",
       "      <td>11</td>\n",
       "    </tr>\n",
       "  </tbody>\n",
       "</table>\n",
       "</div>"
      ],
      "text/plain": [
       "                    predict_probability  predicted_label\n",
       "true_label compare                                      \n",
       "0          False                      8                8\n",
       "           True                       9                9\n",
       "1          False                      8                8\n",
       "           True                      11               11"
      ]
     },
     "execution_count": 174,
     "metadata": {},
     "output_type": "execute_result"
    }
   ],
   "source": [
    "c = Counter([i[0] for i in labels])\n",
    "df = pd.DataFrame()\n",
    "df['true_label'] = [i[0] for i in labels]\n",
    "df['predict_probability'] = [i[0] for i in preds]\n",
    "df = df.sort_values(by='predict_probability')\n",
    "inferred_labels = [0 for i in range(c[0])] + [1 for i in range(c[1])]\n",
    "df['predicted_label'] = inferred_labels \n",
    "df['compare'] = df['true_label'] == df['predicted_label']\n",
    "df.groupby(['true_label', 'compare']).count()"
   ]
  },
  {
   "cell_type": "code",
   "execution_count": 175,
   "id": "41f95cc1",
   "metadata": {},
   "outputs": [
    {
     "data": {
      "image/png": "[encoded data removed]",
      "text/plain": [
       "<Figure size 500x500 with 1 Axes>"
      ]
     },
     "metadata": {},
     "output_type": "display_data"
    }
   ],
   "source": [
    "# confusion matrix\n",
    "conf_matrix = confusion_matrix(y_true=df['true_label'], y_pred= df['predicted_label'])\n",
    "\n",
    "fig, ax = plt.subplots(figsize=(5, 5))\n",
    "ax.matshow(conf_matrix, cmap=plt.cm.Blues, alpha=0.3)\n",
    "for i in range(conf_matrix.shape[0]):\n",
    "    for j in range(conf_matrix.shape[1]):\n",
    "        ax.text(x=j, y=i,s=conf_matrix[i, j], va='center', ha='center', size='xx-large')\n",
    " \n",
    "plt.xlabel('Predictions', fontsize=18)\n",
    "plt.ylabel('Actuals', fontsize=18)\n",
    "plt.title('Confusion Matrix', fontsize=18)\n",
    "plt.show()"
   ]
  },
  {
   "cell_type": "code",
   "execution_count": 176,
   "id": "c4f196a5",
   "metadata": {},
   "outputs": [
    {
     "data": {
      "text/plain": [
       "0.5555555555555556"
      ]
     },
     "execution_count": 176,
     "metadata": {},
     "output_type": "execute_result"
    }
   ],
   "source": [
    "# accuracy\n",
    "len(df.loc[df['compare'] == True])/len(df)"
   ]
  },
  {
   "cell_type": "code",
   "execution_count": 177,
   "id": "2d0ab585",
   "metadata": {},
   "outputs": [
    {
     "name": "stdout",
     "output_type": "stream",
     "text": [
      "              precision    recall  f1-score   support\n",
      "\n",
      "Western Gull       0.53      0.53      0.53        17\n",
      "Pacific Loon       0.58      0.58      0.58        19\n",
      "\n",
      "    accuracy                           0.56        36\n",
      "   macro avg       0.55      0.55      0.55        36\n",
      "weighted avg       0.56      0.56      0.56        36\n",
      "\n"
     ]
    }
   ],
   "source": [
    "# precision-recall-f1\n",
    "print(classification_report(df['true_label'], df['predicted_label'], target_names = ['Western Gull','Pacific Loon']))"
   ]
  },
  {
   "cell_type": "markdown",
   "id": "1276b41f",
   "metadata": {},
   "source": [
    "### Model 10 - Fox Sparrow and Palm Warbler"
   ]
  },
  {
   "cell_type": "code",
   "execution_count": 178,
   "id": "948961ab",
   "metadata": {},
   "outputs": [
    {
     "name": "stdout",
     "output_type": "stream",
     "text": [
      "Found 120 files belonging to 2 classes.\n",
      "Using 84 files for training.\n",
      "Found 120 files belonging to 2 classes.\n",
      "Using 36 files for validation.\n",
      "Found 120 files belonging to 2 classes.\n"
     ]
    }
   ],
   "source": [
    "# create model, split training data\n",
    "training_set, validation_set, holdout_set_all, \\\n",
    "train_file_paths, validation_file_paths, holdout_file_paths = train_test('Birds/120_174', 50, 20)\n",
    "\n",
    "mod10 = cnn_model()"
   ]
  },
  {
   "cell_type": "code",
   "execution_count": 179,
   "id": "58dcf895",
   "metadata": {},
   "outputs": [
    {
     "name": "stdout",
     "output_type": "stream",
     "text": [
      "Epoch 1/9\n",
      "17/17 [==============================] - 18s 872ms/step - loss: 1338.9724 - accuracy: 0.5595 - val_loss: 0.6315 - val_accuracy: 0.6389\n",
      "Epoch 2/9\n",
      "17/17 [==============================] - 20s 1s/step - loss: 2.1102 - accuracy: 0.5238 - val_loss: 0.5846 - val_accuracy: 0.7500\n",
      "Epoch 3/9\n",
      "17/17 [==============================] - 15s 847ms/step - loss: 2.1392 - accuracy: 0.5714 - val_loss: 0.6590 - val_accuracy: 0.5556\n",
      "Epoch 4/9\n",
      "17/17 [==============================] - 15s 892ms/step - loss: 1.2651 - accuracy: 0.5714 - val_loss: 0.6789 - val_accuracy: 0.5556\n",
      "Epoch 5/9\n",
      "17/17 [==============================] - 15s 877ms/step - loss: 1.9439 - accuracy: 0.5952 - val_loss: 0.6077 - val_accuracy: 0.5833\n",
      "Epoch 6/9\n",
      "17/17 [==============================] - 11s 641ms/step - loss: 0.8824 - accuracy: 0.6548 - val_loss: 0.5560 - val_accuracy: 0.8056\n",
      "Epoch 7/9\n",
      "17/17 [==============================] - 11s 629ms/step - loss: 8.8488 - accuracy: 0.4405 - val_loss: 0.5802 - val_accuracy: 0.7778\n",
      "Epoch 8/9\n",
      "17/17 [==============================] - 11s 640ms/step - loss: 1.4198 - accuracy: 0.6429 - val_loss: 0.5722 - val_accuracy: 0.6667\n",
      "Epoch 9/9\n",
      "17/17 [==============================] - 11s 617ms/step - loss: 9.1100 - accuracy: 0.6429 - val_loss: 0.5566 - val_accuracy: 0.6944\n"
     ]
    }
   ],
   "source": [
    "history = mod10.fit(training_set,\n",
    "      epochs=9,\n",
    "      verbose=1,\n",
    "      validation_data = validation_set)"
   ]
  },
  {
   "cell_type": "code",
   "execution_count": 180,
   "id": "9aff5838",
   "metadata": {},
   "outputs": [
    {
     "data": {
      "text/plain": [
       "(36, 36, 36)"
      ]
     },
     "execution_count": 180,
     "metadata": {},
     "output_type": "execute_result"
    }
   ],
   "source": [
    "images = []\n",
    "labels = []\n",
    "for e, image_label in enumerate(holdout_set_all):\n",
    "    f = holdout_file_paths[e]\n",
    "    if f in validation_file_paths:\n",
    "        images.append(image_label[0].numpy())\n",
    "        labels.append(image_label[1].numpy())\n",
    "len(validation_file_paths), len(images), len(labels)"
   ]
  },
  {
   "cell_type": "code",
   "execution_count": 181,
   "id": "4fa8dab9",
   "metadata": {},
   "outputs": [
    {
     "name": "stdout",
     "output_type": "stream",
     "text": [
      "8/8 [==============================] - 1s 111ms/step - loss: 0.5566 - accuracy: 0.6944\n"
     ]
    },
    {
     "data": {
      "text/plain": [
       "[0.5565930008888245, 0.6944444179534912]"
      ]
     },
     "execution_count": 181,
     "metadata": {},
     "output_type": "execute_result"
    }
   ],
   "source": [
    "# evaluate validation set\n",
    "mod10.evaluate(validation_set)"
   ]
  },
  {
   "cell_type": "code",
   "execution_count": 182,
   "id": "4ced6137",
   "metadata": {},
   "outputs": [
    {
     "name": "stdout",
     "output_type": "stream",
     "text": [
      "36/36 [==============================] - 1s 32ms/step\n"
     ]
    }
   ],
   "source": [
    "img_arrays = []\n",
    "for i in images:\n",
    "    img_arrays.append(i)\n",
    "\n",
    "test_dataset = tf.data.Dataset.from_tensor_slices(img_arrays)\n",
    "preds = mod10.predict(test_dataset)"
   ]
  },
  {
   "cell_type": "code",
   "execution_count": 183,
   "id": "a64145c2",
   "metadata": {},
   "outputs": [
    {
     "data": {
      "text/html": [
       "<div>\n",
       "<style scoped>\n",
       "    .dataframe tbody tr th:only-of-type {\n",
       "        vertical-align: middle;\n",
       "    }\n",
       "\n",
       "    .dataframe tbody tr th {\n",
       "        vertical-align: top;\n",
       "    }\n",
       "\n",
       "    .dataframe thead th {\n",
       "        text-align: right;\n",
       "    }\n",
       "</style>\n",
       "<table border=\"1\" class=\"dataframe\">\n",
       "  <thead>\n",
       "    <tr style=\"text-align: right;\">\n",
       "      <th></th>\n",
       "      <th></th>\n",
       "      <th>predict_probability</th>\n",
       "      <th>predicted_label</th>\n",
       "    </tr>\n",
       "    <tr>\n",
       "      <th>true_label</th>\n",
       "      <th>compare</th>\n",
       "      <th></th>\n",
       "      <th></th>\n",
       "    </tr>\n",
       "  </thead>\n",
       "  <tbody>\n",
       "    <tr>\n",
       "      <th rowspan=\"2\" valign=\"top\">0</th>\n",
       "      <th>False</th>\n",
       "      <td>5</td>\n",
       "      <td>5</td>\n",
       "    </tr>\n",
       "    <tr>\n",
       "      <th>True</th>\n",
       "      <td>12</td>\n",
       "      <td>12</td>\n",
       "    </tr>\n",
       "    <tr>\n",
       "      <th rowspan=\"2\" valign=\"top\">1</th>\n",
       "      <th>False</th>\n",
       "      <td>5</td>\n",
       "      <td>5</td>\n",
       "    </tr>\n",
       "    <tr>\n",
       "      <th>True</th>\n",
       "      <td>14</td>\n",
       "      <td>14</td>\n",
       "    </tr>\n",
       "  </tbody>\n",
       "</table>\n",
       "</div>"
      ],
      "text/plain": [
       "                    predict_probability  predicted_label\n",
       "true_label compare                                      \n",
       "0          False                      5                5\n",
       "           True                      12               12\n",
       "1          False                      5                5\n",
       "           True                      14               14"
      ]
     },
     "execution_count": 183,
     "metadata": {},
     "output_type": "execute_result"
    }
   ],
   "source": [
    "c = Counter([i[0] for i in labels])\n",
    "df = pd.DataFrame()\n",
    "df['true_label'] = [i[0] for i in labels]\n",
    "df['predict_probability'] = [i[0] for i in preds]\n",
    "df = df.sort_values(by='predict_probability')\n",
    "inferred_labels = [0 for i in range(c[0])] + [1 for i in range(c[1])]\n",
    "df['predicted_label'] = inferred_labels \n",
    "df['compare'] = df['true_label'] == df['predicted_label']\n",
    "df.groupby(['true_label', 'compare']).count()"
   ]
  },
  {
   "cell_type": "code",
   "execution_count": 184,
   "id": "474cd288",
   "metadata": {},
   "outputs": [
    {
     "data": {
      "image/png": "[encoded data removed]",
      "text/plain": [
       "<Figure size 500x500 with 1 Axes>"
      ]
     },
     "metadata": {},
     "output_type": "display_data"
    }
   ],
   "source": [
    "# confusion matrix\n",
    "conf_matrix = confusion_matrix(y_true=df['true_label'], y_pred= df['predicted_label'])\n",
    "\n",
    "fig, ax = plt.subplots(figsize=(5, 5))\n",
    "ax.matshow(conf_matrix, cmap=plt.cm.Blues, alpha=0.3)\n",
    "for i in range(conf_matrix.shape[0]):\n",
    "    for j in range(conf_matrix.shape[1]):\n",
    "        ax.text(x=j, y=i,s=conf_matrix[i, j], va='center', ha='center', size='xx-large')\n",
    " \n",
    "plt.xlabel('Predictions', fontsize=18)\n",
    "plt.ylabel('Actuals', fontsize=18)\n",
    "plt.title('Confusion Matrix', fontsize=18)\n",
    "plt.show()"
   ]
  },
  {
   "cell_type": "code",
   "execution_count": 185,
   "id": "d21da7af",
   "metadata": {},
   "outputs": [
    {
     "data": {
      "text/plain": [
       "0.7222222222222222"
      ]
     },
     "execution_count": 185,
     "metadata": {},
     "output_type": "execute_result"
    }
   ],
   "source": [
    "# accuracy\n",
    "len(df.loc[df['compare'] == True])/len(df)"
   ]
  },
  {
   "cell_type": "code",
   "execution_count": 186,
   "id": "724e231a",
   "metadata": {
    "scrolled": true
   },
   "outputs": [
    {
     "name": "stdout",
     "output_type": "stream",
     "text": [
      "              precision    recall  f1-score   support\n",
      "\n",
      " Fox Sparrow       0.71      0.71      0.71        17\n",
      "Palm Warbler       0.74      0.74      0.74        19\n",
      "\n",
      "    accuracy                           0.72        36\n",
      "   macro avg       0.72      0.72      0.72        36\n",
      "weighted avg       0.72      0.72      0.72        36\n",
      "\n"
     ]
    }
   ],
   "source": [
    "# precision-recall-f1\n",
    "print(classification_report(df['true_label'], df['predicted_label'], target_names = ['Fox Sparrow', 'Palm Warbler']))"
   ]
  },
  {
   "cell_type": "markdown",
   "id": "a09a1936",
   "metadata": {},
   "source": [
    "### Describe Novel Data"
   ]
  },
  {
   "cell_type": "markdown",
   "id": "047d4b46",
   "metadata": {},
   "source": [
    "We choose species number 106 - Horned Puffin to describe using our 10 models"
   ]
  },
  {
   "cell_type": "code",
   "execution_count": 257,
   "id": "8f9aeaae",
   "metadata": {},
   "outputs": [
    {
     "name": "stdout",
     "output_type": "stream",
     "text": [
      "Found 60 files belonging to 1 classes.\n"
     ]
    }
   ],
   "source": [
    "# read images into tensorflow dataset\n",
    "novel_106 = tf.keras.utils.image_dataset_from_directory(\n",
    "      'Birds/106.Horned_Puffin',\n",
    "      shuffle=False,\n",
    "      labels = None,\n",
    "      seed=20,\n",
    "      image_size=(200, 200),\n",
    "      batch_size=1)"
   ]
  },
  {
   "cell_type": "code",
   "execution_count": 258,
   "id": "080d0c21",
   "metadata": {},
   "outputs": [
    {
     "name": "stdout",
     "output_type": "stream",
     "text": [
      "60/60 [==============================] - 3s 42ms/step\n",
      "60/60 [==============================] - 6s 49ms/step\n",
      "60/60 [==============================] - 5s 47ms/step\n",
      "60/60 [==============================] - 6s 43ms/step\n",
      "60/60 [==============================] - 5s 43ms/step\n",
      "60/60 [==============================] - 8s 63ms/step\n",
      "60/60 [==============================] - 12s 70ms/step\n",
      "60/60 [==============================] - 6s 45ms/step\n",
      "60/60 [==============================] - 5s 40ms/step\n",
      "60/60 [==============================] - 5s 46ms/step\n"
     ]
    }
   ],
   "source": [
    "# prediction probability for each model\n",
    "preds1 = mod1.predict(novel_106)\n",
    "preds2 = mod2.predict(novel_106)\n",
    "preds3 = mod3.predict(novel_106)\n",
    "preds4 = mod4.predict(novel_106)\n",
    "preds5 = mod5.predict(novel_106)\n",
    "preds6 = mod6.predict(novel_106)\n",
    "preds7 = mod7.predict(novel_106)\n",
    "preds8 = mod8.predict(novel_106)\n",
    "preds9 = mod9.predict(novel_106)\n",
    "preds10 = mod10.predict(novel_106)"
   ]
  },
  {
   "cell_type": "code",
   "execution_count": 274,
   "id": "9d4239fe",
   "metadata": {},
   "outputs": [],
   "source": [
    "# create column image\n",
    "image_num = [f'Image {i}' for i in range(1,61)]"
   ]
  },
  {
   "cell_type": "code",
   "execution_count": 276,
   "id": "f2b37b8f",
   "metadata": {},
   "outputs": [],
   "source": [
    "# df describe the new bird\n",
    "novel_106_df = pd.DataFrame({\n",
    "    'image': image_num,\n",
    "    'model1': [i[0] for i in preds1],\n",
    "    'model2': [i[0] for i in preds2],\n",
    "    'model3': [i[0] for i in preds3],\n",
    "    'model4': [i[0] for i in preds4],\n",
    "    'model5': [i[0] for i in preds5],\n",
    "    'model6': [i[0] for i in preds6],\n",
    "    'model7': [i[0] for i in preds7],\n",
    "    'model8': [i[0] for i in preds8],\n",
    "    'model9': [i[0] for i in preds9],\n",
    "    'model10': [i[0] for i in preds10]\n",
    "})"
   ]
  },
  {
   "cell_type": "code",
   "execution_count": 277,
   "id": "ed6836f0",
   "metadata": {
    "scrolled": true
   },
   "outputs": [
    {
     "data": {
      "text/html": [
       "<div>\n",
       "<style scoped>\n",
       "    .dataframe tbody tr th:only-of-type {\n",
       "        vertical-align: middle;\n",
       "    }\n",
       "\n",
       "    .dataframe tbody tr th {\n",
       "        vertical-align: top;\n",
       "    }\n",
       "\n",
       "    .dataframe thead th {\n",
       "        text-align: right;\n",
       "    }\n",
       "</style>\n",
       "<table border=\"1\" class=\"dataframe\">\n",
       "  <thead>\n",
       "    <tr style=\"text-align: right;\">\n",
       "      <th></th>\n",
       "      <th>image</th>\n",
       "      <th>model1</th>\n",
       "      <th>model2</th>\n",
       "      <th>model3</th>\n",
       "      <th>model4</th>\n",
       "      <th>model5</th>\n",
       "      <th>model6</th>\n",
       "      <th>model7</th>\n",
       "      <th>model8</th>\n",
       "      <th>model9</th>\n",
       "      <th>model10</th>\n",
       "    </tr>\n",
       "  </thead>\n",
       "  <tbody>\n",
       "    <tr>\n",
       "      <th>0</th>\n",
       "      <td>Image 1</td>\n",
       "      <td>0.650312</td>\n",
       "      <td>1.871694e-01</td>\n",
       "      <td>6.255927e-03</td>\n",
       "      <td>4.422635e-01</td>\n",
       "      <td>9.513812e-01</td>\n",
       "      <td>0.573726</td>\n",
       "      <td>9.488379e-01</td>\n",
       "      <td>1.960590e-03</td>\n",
       "      <td>4.849122e-01</td>\n",
       "      <td>0.426456</td>\n",
       "    </tr>\n",
       "    <tr>\n",
       "      <th>1</th>\n",
       "      <td>Image 2</td>\n",
       "      <td>0.458417</td>\n",
       "      <td>3.721912e-01</td>\n",
       "      <td>1.656577e-01</td>\n",
       "      <td>4.663152e-01</td>\n",
       "      <td>8.932869e-01</td>\n",
       "      <td>0.779159</td>\n",
       "      <td>7.540747e-03</td>\n",
       "      <td>3.360294e-04</td>\n",
       "      <td>5.076917e-01</td>\n",
       "      <td>0.487149</td>\n",
       "    </tr>\n",
       "    <tr>\n",
       "      <th>2</th>\n",
       "      <td>Image 3</td>\n",
       "      <td>0.359328</td>\n",
       "      <td>5.876176e-01</td>\n",
       "      <td>2.674386e-01</td>\n",
       "      <td>2.903213e-03</td>\n",
       "      <td>3.149365e-01</td>\n",
       "      <td>0.646455</td>\n",
       "      <td>1.357967e-02</td>\n",
       "      <td>2.077978e-02</td>\n",
       "      <td>3.390827e-01</td>\n",
       "      <td>0.480482</td>\n",
       "    </tr>\n",
       "    <tr>\n",
       "      <th>3</th>\n",
       "      <td>Image 4</td>\n",
       "      <td>0.027871</td>\n",
       "      <td>4.599894e-01</td>\n",
       "      <td>8.866349e-02</td>\n",
       "      <td>9.998368e-01</td>\n",
       "      <td>4.196905e-01</td>\n",
       "      <td>0.510201</td>\n",
       "      <td>5.701799e-03</td>\n",
       "      <td>1.012810e-02</td>\n",
       "      <td>3.246859e-01</td>\n",
       "      <td>0.484374</td>\n",
       "    </tr>\n",
       "    <tr>\n",
       "      <th>4</th>\n",
       "      <td>Image 5</td>\n",
       "      <td>0.003538</td>\n",
       "      <td>1.403099e-02</td>\n",
       "      <td>9.996398e-01</td>\n",
       "      <td>9.999996e-01</td>\n",
       "      <td>1.335563e-01</td>\n",
       "      <td>0.732334</td>\n",
       "      <td>9.999962e-01</td>\n",
       "      <td>6.652724e-03</td>\n",
       "      <td>1.261396e-01</td>\n",
       "      <td>0.040041</td>\n",
       "    </tr>\n",
       "    <tr>\n",
       "      <th>5</th>\n",
       "      <td>Image 6</td>\n",
       "      <td>0.234126</td>\n",
       "      <td>4.921497e-02</td>\n",
       "      <td>3.272678e-03</td>\n",
       "      <td>2.825795e-01</td>\n",
       "      <td>4.739093e-01</td>\n",
       "      <td>0.512094</td>\n",
       "      <td>7.754698e-01</td>\n",
       "      <td>2.852744e-01</td>\n",
       "      <td>5.113500e-01</td>\n",
       "      <td>0.374221</td>\n",
       "    </tr>\n",
       "    <tr>\n",
       "      <th>6</th>\n",
       "      <td>Image 7</td>\n",
       "      <td>0.003843</td>\n",
       "      <td>5.843636e-01</td>\n",
       "      <td>7.897741e-01</td>\n",
       "      <td>9.999962e-01</td>\n",
       "      <td>7.960585e-01</td>\n",
       "      <td>0.886143</td>\n",
       "      <td>9.314237e-01</td>\n",
       "      <td>3.885946e-04</td>\n",
       "      <td>4.677897e-02</td>\n",
       "      <td>0.340272</td>\n",
       "    </tr>\n",
       "    <tr>\n",
       "      <th>7</th>\n",
       "      <td>Image 8</td>\n",
       "      <td>0.243004</td>\n",
       "      <td>5.425489e-01</td>\n",
       "      <td>4.007242e-01</td>\n",
       "      <td>9.839378e-01</td>\n",
       "      <td>2.050406e-01</td>\n",
       "      <td>0.648081</td>\n",
       "      <td>5.361332e-01</td>\n",
       "      <td>1.133200e-04</td>\n",
       "      <td>4.809978e-01</td>\n",
       "      <td>0.579226</td>\n",
       "    </tr>\n",
       "    <tr>\n",
       "      <th>8</th>\n",
       "      <td>Image 9</td>\n",
       "      <td>0.352527</td>\n",
       "      <td>9.673568e-02</td>\n",
       "      <td>1.497151e-01</td>\n",
       "      <td>5.367099e-02</td>\n",
       "      <td>5.039650e-01</td>\n",
       "      <td>0.356373</td>\n",
       "      <td>8.825821e-01</td>\n",
       "      <td>6.271590e-03</td>\n",
       "      <td>4.995452e-01</td>\n",
       "      <td>0.452320</td>\n",
       "    </tr>\n",
       "    <tr>\n",
       "      <th>9</th>\n",
       "      <td>Image 10</td>\n",
       "      <td>0.363195</td>\n",
       "      <td>1.245318e-01</td>\n",
       "      <td>5.860603e-04</td>\n",
       "      <td>1.932431e-06</td>\n",
       "      <td>8.999705e-01</td>\n",
       "      <td>0.622090</td>\n",
       "      <td>9.801271e-01</td>\n",
       "      <td>2.198055e-02</td>\n",
       "      <td>4.873006e-01</td>\n",
       "      <td>0.079815</td>\n",
       "    </tr>\n",
       "    <tr>\n",
       "      <th>10</th>\n",
       "      <td>Image 11</td>\n",
       "      <td>0.607272</td>\n",
       "      <td>3.516564e-01</td>\n",
       "      <td>3.317434e-01</td>\n",
       "      <td>7.166653e-01</td>\n",
       "      <td>6.700006e-02</td>\n",
       "      <td>0.534348</td>\n",
       "      <td>9.307576e-01</td>\n",
       "      <td>4.882139e-06</td>\n",
       "      <td>5.112162e-01</td>\n",
       "      <td>0.568108</td>\n",
       "    </tr>\n",
       "    <tr>\n",
       "      <th>11</th>\n",
       "      <td>Image 12</td>\n",
       "      <td>0.015753</td>\n",
       "      <td>3.782207e-01</td>\n",
       "      <td>1.165741e-03</td>\n",
       "      <td>9.995382e-01</td>\n",
       "      <td>9.997712e-01</td>\n",
       "      <td>0.741634</td>\n",
       "      <td>9.942438e-01</td>\n",
       "      <td>4.899312e-06</td>\n",
       "      <td>9.033499e-01</td>\n",
       "      <td>0.163739</td>\n",
       "    </tr>\n",
       "    <tr>\n",
       "      <th>12</th>\n",
       "      <td>Image 13</td>\n",
       "      <td>0.106970</td>\n",
       "      <td>2.075339e-07</td>\n",
       "      <td>1.000000e+00</td>\n",
       "      <td>1.000000e+00</td>\n",
       "      <td>7.453834e-02</td>\n",
       "      <td>0.864404</td>\n",
       "      <td>1.137524e-05</td>\n",
       "      <td>5.094658e-12</td>\n",
       "      <td>7.652486e-11</td>\n",
       "      <td>0.000943</td>\n",
       "    </tr>\n",
       "    <tr>\n",
       "      <th>13</th>\n",
       "      <td>Image 14</td>\n",
       "      <td>0.005643</td>\n",
       "      <td>3.686461e-01</td>\n",
       "      <td>1.247354e-02</td>\n",
       "      <td>7.926808e-01</td>\n",
       "      <td>7.170461e-01</td>\n",
       "      <td>0.813486</td>\n",
       "      <td>2.154825e-01</td>\n",
       "      <td>7.921674e-02</td>\n",
       "      <td>5.129129e-01</td>\n",
       "      <td>0.279084</td>\n",
       "    </tr>\n",
       "    <tr>\n",
       "      <th>14</th>\n",
       "      <td>Image 15</td>\n",
       "      <td>0.770393</td>\n",
       "      <td>2.661648e-01</td>\n",
       "      <td>2.160646e-02</td>\n",
       "      <td>1.652916e-03</td>\n",
       "      <td>8.216245e-01</td>\n",
       "      <td>0.470099</td>\n",
       "      <td>4.533786e-01</td>\n",
       "      <td>1.302384e-03</td>\n",
       "      <td>5.615348e-01</td>\n",
       "      <td>0.427027</td>\n",
       "    </tr>\n",
       "    <tr>\n",
       "      <th>15</th>\n",
       "      <td>Image 16</td>\n",
       "      <td>0.555933</td>\n",
       "      <td>2.343489e-01</td>\n",
       "      <td>7.000777e-01</td>\n",
       "      <td>9.801151e-01</td>\n",
       "      <td>2.063335e-01</td>\n",
       "      <td>0.663102</td>\n",
       "      <td>8.991406e-01</td>\n",
       "      <td>7.426353e-05</td>\n",
       "      <td>4.053650e-01</td>\n",
       "      <td>0.344381</td>\n",
       "    </tr>\n",
       "    <tr>\n",
       "      <th>16</th>\n",
       "      <td>Image 17</td>\n",
       "      <td>0.010639</td>\n",
       "      <td>1.360168e-01</td>\n",
       "      <td>9.333524e-01</td>\n",
       "      <td>1.066572e-01</td>\n",
       "      <td>3.864718e-02</td>\n",
       "      <td>0.754520</td>\n",
       "      <td>9.992962e-01</td>\n",
       "      <td>7.320228e-01</td>\n",
       "      <td>2.255954e-01</td>\n",
       "      <td>0.097818</td>\n",
       "    </tr>\n",
       "    <tr>\n",
       "      <th>17</th>\n",
       "      <td>Image 18</td>\n",
       "      <td>0.591938</td>\n",
       "      <td>8.296721e-02</td>\n",
       "      <td>1.246101e-03</td>\n",
       "      <td>1.547093e-03</td>\n",
       "      <td>9.496831e-01</td>\n",
       "      <td>0.603514</td>\n",
       "      <td>8.173567e-03</td>\n",
       "      <td>1.539493e-04</td>\n",
       "      <td>5.657924e-01</td>\n",
       "      <td>0.640842</td>\n",
       "    </tr>\n",
       "    <tr>\n",
       "      <th>18</th>\n",
       "      <td>Image 19</td>\n",
       "      <td>0.536905</td>\n",
       "      <td>4.870114e-02</td>\n",
       "      <td>1.550928e-04</td>\n",
       "      <td>6.610709e-05</td>\n",
       "      <td>8.586114e-01</td>\n",
       "      <td>0.435127</td>\n",
       "      <td>5.375496e-01</td>\n",
       "      <td>2.190537e-02</td>\n",
       "      <td>5.185850e-01</td>\n",
       "      <td>0.537452</td>\n",
       "    </tr>\n",
       "    <tr>\n",
       "      <th>19</th>\n",
       "      <td>Image 20</td>\n",
       "      <td>0.281812</td>\n",
       "      <td>1.239207e-01</td>\n",
       "      <td>8.636031e-01</td>\n",
       "      <td>9.962397e-01</td>\n",
       "      <td>4.860374e-06</td>\n",
       "      <td>0.705447</td>\n",
       "      <td>2.674829e-01</td>\n",
       "      <td>7.107867e-08</td>\n",
       "      <td>5.343617e-01</td>\n",
       "      <td>0.235839</td>\n",
       "    </tr>\n",
       "    <tr>\n",
       "      <th>20</th>\n",
       "      <td>Image 21</td>\n",
       "      <td>0.639724</td>\n",
       "      <td>3.097969e-02</td>\n",
       "      <td>2.039410e-06</td>\n",
       "      <td>9.979985e-01</td>\n",
       "      <td>9.974846e-01</td>\n",
       "      <td>0.775843</td>\n",
       "      <td>8.951843e-01</td>\n",
       "      <td>3.253647e-05</td>\n",
       "      <td>1.852004e-01</td>\n",
       "      <td>0.109138</td>\n",
       "    </tr>\n",
       "    <tr>\n",
       "      <th>21</th>\n",
       "      <td>Image 22</td>\n",
       "      <td>0.544410</td>\n",
       "      <td>4.899341e-01</td>\n",
       "      <td>6.910038e-02</td>\n",
       "      <td>8.294178e-01</td>\n",
       "      <td>1.007163e-01</td>\n",
       "      <td>0.752272</td>\n",
       "      <td>3.790370e-02</td>\n",
       "      <td>7.477496e-06</td>\n",
       "      <td>5.001186e-01</td>\n",
       "      <td>0.488555</td>\n",
       "    </tr>\n",
       "    <tr>\n",
       "      <th>22</th>\n",
       "      <td>Image 23</td>\n",
       "      <td>0.319008</td>\n",
       "      <td>3.746698e-01</td>\n",
       "      <td>4.838685e-01</td>\n",
       "      <td>6.676819e-01</td>\n",
       "      <td>7.353186e-01</td>\n",
       "      <td>0.598592</td>\n",
       "      <td>7.908812e-01</td>\n",
       "      <td>4.108956e-02</td>\n",
       "      <td>4.923778e-01</td>\n",
       "      <td>0.476162</td>\n",
       "    </tr>\n",
       "    <tr>\n",
       "      <th>23</th>\n",
       "      <td>Image 24</td>\n",
       "      <td>0.038672</td>\n",
       "      <td>3.968835e-02</td>\n",
       "      <td>1.090709e-02</td>\n",
       "      <td>1.000000e+00</td>\n",
       "      <td>6.704380e-01</td>\n",
       "      <td>0.881945</td>\n",
       "      <td>3.429803e-03</td>\n",
       "      <td>1.840180e-02</td>\n",
       "      <td>5.317326e-01</td>\n",
       "      <td>0.124112</td>\n",
       "    </tr>\n",
       "    <tr>\n",
       "      <th>24</th>\n",
       "      <td>Image 25</td>\n",
       "      <td>0.308394</td>\n",
       "      <td>1.460359e-01</td>\n",
       "      <td>2.424772e-02</td>\n",
       "      <td>1.018037e-03</td>\n",
       "      <td>9.998809e-01</td>\n",
       "      <td>0.805183</td>\n",
       "      <td>4.258909e-02</td>\n",
       "      <td>9.305356e-07</td>\n",
       "      <td>5.629301e-01</td>\n",
       "      <td>0.517381</td>\n",
       "    </tr>\n",
       "    <tr>\n",
       "      <th>25</th>\n",
       "      <td>Image 26</td>\n",
       "      <td>0.064389</td>\n",
       "      <td>1.547009e-01</td>\n",
       "      <td>9.633281e-05</td>\n",
       "      <td>1.000000e+00</td>\n",
       "      <td>9.919243e-01</td>\n",
       "      <td>0.818127</td>\n",
       "      <td>1.144271e-07</td>\n",
       "      <td>1.449000e-03</td>\n",
       "      <td>3.601012e-01</td>\n",
       "      <td>0.543636</td>\n",
       "    </tr>\n",
       "    <tr>\n",
       "      <th>26</th>\n",
       "      <td>Image 27</td>\n",
       "      <td>0.305663</td>\n",
       "      <td>1.838840e-02</td>\n",
       "      <td>9.225516e-01</td>\n",
       "      <td>2.442783e-09</td>\n",
       "      <td>4.395264e-08</td>\n",
       "      <td>0.550226</td>\n",
       "      <td>9.921839e-01</td>\n",
       "      <td>1.267678e-07</td>\n",
       "      <td>3.844602e-01</td>\n",
       "      <td>0.198956</td>\n",
       "    </tr>\n",
       "    <tr>\n",
       "      <th>27</th>\n",
       "      <td>Image 28</td>\n",
       "      <td>0.193655</td>\n",
       "      <td>2.959576e-01</td>\n",
       "      <td>1.028259e-02</td>\n",
       "      <td>4.342285e-05</td>\n",
       "      <td>3.777968e-03</td>\n",
       "      <td>0.519540</td>\n",
       "      <td>4.561486e-01</td>\n",
       "      <td>3.396491e-05</td>\n",
       "      <td>5.420647e-01</td>\n",
       "      <td>0.561732</td>\n",
       "    </tr>\n",
       "    <tr>\n",
       "      <th>28</th>\n",
       "      <td>Image 29</td>\n",
       "      <td>0.001617</td>\n",
       "      <td>7.411178e-01</td>\n",
       "      <td>1.199439e-02</td>\n",
       "      <td>1.000000e+00</td>\n",
       "      <td>4.054033e-01</td>\n",
       "      <td>0.381924</td>\n",
       "      <td>5.290686e-03</td>\n",
       "      <td>3.882665e-04</td>\n",
       "      <td>8.282649e-07</td>\n",
       "      <td>0.057426</td>\n",
       "    </tr>\n",
       "    <tr>\n",
       "      <th>29</th>\n",
       "      <td>Image 30</td>\n",
       "      <td>0.051334</td>\n",
       "      <td>6.561135e-01</td>\n",
       "      <td>5.560096e-04</td>\n",
       "      <td>1.504585e-02</td>\n",
       "      <td>3.715894e-01</td>\n",
       "      <td>0.614452</td>\n",
       "      <td>9.305839e-01</td>\n",
       "      <td>4.314774e-01</td>\n",
       "      <td>4.942414e-01</td>\n",
       "      <td>0.348909</td>\n",
       "    </tr>\n",
       "    <tr>\n",
       "      <th>30</th>\n",
       "      <td>Image 31</td>\n",
       "      <td>0.117947</td>\n",
       "      <td>3.597232e-01</td>\n",
       "      <td>6.879251e-02</td>\n",
       "      <td>3.076929e-04</td>\n",
       "      <td>2.609314e-01</td>\n",
       "      <td>0.661469</td>\n",
       "      <td>2.812226e-01</td>\n",
       "      <td>9.932427e-02</td>\n",
       "      <td>4.910983e-01</td>\n",
       "      <td>0.417526</td>\n",
       "    </tr>\n",
       "    <tr>\n",
       "      <th>31</th>\n",
       "      <td>Image 32</td>\n",
       "      <td>0.991155</td>\n",
       "      <td>2.804493e-03</td>\n",
       "      <td>5.739993e-14</td>\n",
       "      <td>1.826891e-11</td>\n",
       "      <td>9.986333e-01</td>\n",
       "      <td>0.810954</td>\n",
       "      <td>1.454583e-08</td>\n",
       "      <td>5.135139e-02</td>\n",
       "      <td>9.314319e-01</td>\n",
       "      <td>0.579774</td>\n",
       "    </tr>\n",
       "    <tr>\n",
       "      <th>32</th>\n",
       "      <td>Image 33</td>\n",
       "      <td>0.131006</td>\n",
       "      <td>1.938328e-02</td>\n",
       "      <td>4.318656e-02</td>\n",
       "      <td>1.864341e-05</td>\n",
       "      <td>2.808697e-01</td>\n",
       "      <td>0.466008</td>\n",
       "      <td>1.000000e+00</td>\n",
       "      <td>1.978554e-05</td>\n",
       "      <td>7.542276e-01</td>\n",
       "      <td>0.193867</td>\n",
       "    </tr>\n",
       "    <tr>\n",
       "      <th>33</th>\n",
       "      <td>Image 34</td>\n",
       "      <td>0.109432</td>\n",
       "      <td>6.578316e-03</td>\n",
       "      <td>1.251778e-06</td>\n",
       "      <td>3.010094e-02</td>\n",
       "      <td>5.237729e-01</td>\n",
       "      <td>0.878011</td>\n",
       "      <td>9.657694e-01</td>\n",
       "      <td>1.409953e-04</td>\n",
       "      <td>6.220896e-01</td>\n",
       "      <td>0.129245</td>\n",
       "    </tr>\n",
       "    <tr>\n",
       "      <th>34</th>\n",
       "      <td>Image 35</td>\n",
       "      <td>0.037340</td>\n",
       "      <td>5.168399e-01</td>\n",
       "      <td>4.558475e-02</td>\n",
       "      <td>9.316304e-01</td>\n",
       "      <td>9.397686e-01</td>\n",
       "      <td>0.602733</td>\n",
       "      <td>5.985349e-01</td>\n",
       "      <td>1.556691e-01</td>\n",
       "      <td>5.058050e-01</td>\n",
       "      <td>0.449590</td>\n",
       "    </tr>\n",
       "    <tr>\n",
       "      <th>35</th>\n",
       "      <td>Image 36</td>\n",
       "      <td>0.003606</td>\n",
       "      <td>1.277689e-02</td>\n",
       "      <td>3.112646e-05</td>\n",
       "      <td>9.999973e-01</td>\n",
       "      <td>7.647173e-03</td>\n",
       "      <td>0.985644</td>\n",
       "      <td>1.793918e-01</td>\n",
       "      <td>2.495135e-11</td>\n",
       "      <td>5.159774e-01</td>\n",
       "      <td>0.253750</td>\n",
       "    </tr>\n",
       "    <tr>\n",
       "      <th>36</th>\n",
       "      <td>Image 37</td>\n",
       "      <td>0.742157</td>\n",
       "      <td>7.813386e-03</td>\n",
       "      <td>3.097729e-02</td>\n",
       "      <td>5.837014e-05</td>\n",
       "      <td>9.794208e-01</td>\n",
       "      <td>0.731208</td>\n",
       "      <td>9.824555e-01</td>\n",
       "      <td>3.436612e-05</td>\n",
       "      <td>4.864420e-01</td>\n",
       "      <td>0.182315</td>\n",
       "    </tr>\n",
       "    <tr>\n",
       "      <th>37</th>\n",
       "      <td>Image 38</td>\n",
       "      <td>0.268519</td>\n",
       "      <td>4.831930e-01</td>\n",
       "      <td>6.798404e-02</td>\n",
       "      <td>7.842944e-01</td>\n",
       "      <td>7.723663e-01</td>\n",
       "      <td>0.725620</td>\n",
       "      <td>4.051470e-01</td>\n",
       "      <td>6.826700e-04</td>\n",
       "      <td>5.080847e-01</td>\n",
       "      <td>0.554884</td>\n",
       "    </tr>\n",
       "    <tr>\n",
       "      <th>38</th>\n",
       "      <td>Image 39</td>\n",
       "      <td>0.334651</td>\n",
       "      <td>4.930662e-01</td>\n",
       "      <td>1.693647e-01</td>\n",
       "      <td>9.999974e-01</td>\n",
       "      <td>7.135696e-02</td>\n",
       "      <td>0.815355</td>\n",
       "      <td>9.060270e-01</td>\n",
       "      <td>5.187992e-04</td>\n",
       "      <td>4.899355e-01</td>\n",
       "      <td>0.579447</td>\n",
       "    </tr>\n",
       "    <tr>\n",
       "      <th>39</th>\n",
       "      <td>Image 40</td>\n",
       "      <td>0.365877</td>\n",
       "      <td>2.248580e-01</td>\n",
       "      <td>2.075689e-02</td>\n",
       "      <td>5.403244e-06</td>\n",
       "      <td>3.986760e-01</td>\n",
       "      <td>0.458532</td>\n",
       "      <td>1.003536e-01</td>\n",
       "      <td>2.248187e-01</td>\n",
       "      <td>5.396050e-01</td>\n",
       "      <td>0.458733</td>\n",
       "    </tr>\n",
       "    <tr>\n",
       "      <th>40</th>\n",
       "      <td>Image 41</td>\n",
       "      <td>0.988884</td>\n",
       "      <td>4.336020e-05</td>\n",
       "      <td>9.988250e-01</td>\n",
       "      <td>1.726316e-02</td>\n",
       "      <td>8.008296e-03</td>\n",
       "      <td>0.963114</td>\n",
       "      <td>9.998037e-01</td>\n",
       "      <td>9.519115e-04</td>\n",
       "      <td>6.666012e-01</td>\n",
       "      <td>0.081559</td>\n",
       "    </tr>\n",
       "    <tr>\n",
       "      <th>41</th>\n",
       "      <td>Image 42</td>\n",
       "      <td>0.456778</td>\n",
       "      <td>4.919167e-01</td>\n",
       "      <td>2.326514e-01</td>\n",
       "      <td>9.977452e-01</td>\n",
       "      <td>1.560526e-01</td>\n",
       "      <td>0.641611</td>\n",
       "      <td>5.979174e-01</td>\n",
       "      <td>2.404991e-02</td>\n",
       "      <td>5.077374e-01</td>\n",
       "      <td>0.492427</td>\n",
       "    </tr>\n",
       "    <tr>\n",
       "      <th>42</th>\n",
       "      <td>Image 43</td>\n",
       "      <td>0.001533</td>\n",
       "      <td>1.124126e-02</td>\n",
       "      <td>2.509584e-03</td>\n",
       "      <td>2.263536e-03</td>\n",
       "      <td>9.997128e-01</td>\n",
       "      <td>0.675512</td>\n",
       "      <td>9.988756e-01</td>\n",
       "      <td>2.865593e-07</td>\n",
       "      <td>8.450248e-01</td>\n",
       "      <td>0.138944</td>\n",
       "    </tr>\n",
       "    <tr>\n",
       "      <th>43</th>\n",
       "      <td>Image 44</td>\n",
       "      <td>0.001304</td>\n",
       "      <td>5.301099e-02</td>\n",
       "      <td>3.647450e-05</td>\n",
       "      <td>9.926828e-01</td>\n",
       "      <td>9.997921e-01</td>\n",
       "      <td>0.808732</td>\n",
       "      <td>9.364450e-07</td>\n",
       "      <td>2.653140e-04</td>\n",
       "      <td>2.185585e-01</td>\n",
       "      <td>0.013815</td>\n",
       "    </tr>\n",
       "    <tr>\n",
       "      <th>44</th>\n",
       "      <td>Image 45</td>\n",
       "      <td>0.224025</td>\n",
       "      <td>1.011207e-01</td>\n",
       "      <td>6.096453e-06</td>\n",
       "      <td>9.550322e-07</td>\n",
       "      <td>7.216727e-01</td>\n",
       "      <td>0.732605</td>\n",
       "      <td>2.162780e-01</td>\n",
       "      <td>9.199817e-02</td>\n",
       "      <td>2.787389e-01</td>\n",
       "      <td>0.313806</td>\n",
       "    </tr>\n",
       "    <tr>\n",
       "      <th>45</th>\n",
       "      <td>Image 46</td>\n",
       "      <td>0.002150</td>\n",
       "      <td>1.379331e-02</td>\n",
       "      <td>1.755501e-06</td>\n",
       "      <td>2.789995e-01</td>\n",
       "      <td>7.495021e-01</td>\n",
       "      <td>0.697348</td>\n",
       "      <td>9.999956e-01</td>\n",
       "      <td>1.387867e-05</td>\n",
       "      <td>6.413776e-01</td>\n",
       "      <td>0.141529</td>\n",
       "    </tr>\n",
       "    <tr>\n",
       "      <th>46</th>\n",
       "      <td>Image 47</td>\n",
       "      <td>0.406717</td>\n",
       "      <td>2.028388e-01</td>\n",
       "      <td>3.848242e-01</td>\n",
       "      <td>9.091618e-01</td>\n",
       "      <td>6.746352e-01</td>\n",
       "      <td>0.796529</td>\n",
       "      <td>5.217981e-01</td>\n",
       "      <td>5.553126e-03</td>\n",
       "      <td>5.104349e-01</td>\n",
       "      <td>0.517288</td>\n",
       "    </tr>\n",
       "    <tr>\n",
       "      <th>47</th>\n",
       "      <td>Image 48</td>\n",
       "      <td>0.378067</td>\n",
       "      <td>2.726170e-01</td>\n",
       "      <td>3.229505e-01</td>\n",
       "      <td>9.393597e-01</td>\n",
       "      <td>9.103279e-01</td>\n",
       "      <td>0.546499</td>\n",
       "      <td>8.058439e-01</td>\n",
       "      <td>4.721385e-04</td>\n",
       "      <td>5.089942e-01</td>\n",
       "      <td>0.531725</td>\n",
       "    </tr>\n",
       "    <tr>\n",
       "      <th>48</th>\n",
       "      <td>Image 49</td>\n",
       "      <td>0.001351</td>\n",
       "      <td>9.888620e-01</td>\n",
       "      <td>5.142966e-01</td>\n",
       "      <td>7.720196e-01</td>\n",
       "      <td>7.051322e-01</td>\n",
       "      <td>0.526971</td>\n",
       "      <td>9.929898e-01</td>\n",
       "      <td>4.386877e-02</td>\n",
       "      <td>4.315903e-02</td>\n",
       "      <td>0.181211</td>\n",
       "    </tr>\n",
       "    <tr>\n",
       "      <th>49</th>\n",
       "      <td>Image 50</td>\n",
       "      <td>0.054351</td>\n",
       "      <td>2.957039e-01</td>\n",
       "      <td>9.214101e-01</td>\n",
       "      <td>9.999998e-01</td>\n",
       "      <td>1.083796e-03</td>\n",
       "      <td>0.603980</td>\n",
       "      <td>8.899624e-01</td>\n",
       "      <td>8.053998e-04</td>\n",
       "      <td>7.765554e-02</td>\n",
       "      <td>0.064385</td>\n",
       "    </tr>\n",
       "    <tr>\n",
       "      <th>50</th>\n",
       "      <td>Image 51</td>\n",
       "      <td>0.417953</td>\n",
       "      <td>4.833619e-01</td>\n",
       "      <td>4.637007e-01</td>\n",
       "      <td>2.861838e-01</td>\n",
       "      <td>6.198663e-01</td>\n",
       "      <td>0.592341</td>\n",
       "      <td>5.137152e-01</td>\n",
       "      <td>1.384832e-01</td>\n",
       "      <td>5.076917e-01</td>\n",
       "      <td>0.502717</td>\n",
       "    </tr>\n",
       "    <tr>\n",
       "      <th>51</th>\n",
       "      <td>Image 52</td>\n",
       "      <td>0.001658</td>\n",
       "      <td>1.075864e-02</td>\n",
       "      <td>2.556664e-04</td>\n",
       "      <td>1.000000e+00</td>\n",
       "      <td>1.907014e-03</td>\n",
       "      <td>0.478616</td>\n",
       "      <td>3.800647e-03</td>\n",
       "      <td>1.597260e-05</td>\n",
       "      <td>1.894134e-01</td>\n",
       "      <td>0.298277</td>\n",
       "    </tr>\n",
       "    <tr>\n",
       "      <th>52</th>\n",
       "      <td>Image 53</td>\n",
       "      <td>0.072004</td>\n",
       "      <td>7.201309e-01</td>\n",
       "      <td>2.260294e-11</td>\n",
       "      <td>7.522260e-01</td>\n",
       "      <td>4.241074e-02</td>\n",
       "      <td>0.516572</td>\n",
       "      <td>9.285920e-01</td>\n",
       "      <td>3.279543e-03</td>\n",
       "      <td>2.876791e-02</td>\n",
       "      <td>0.255370</td>\n",
       "    </tr>\n",
       "    <tr>\n",
       "      <th>53</th>\n",
       "      <td>Image 54</td>\n",
       "      <td>0.275038</td>\n",
       "      <td>3.986670e-01</td>\n",
       "      <td>7.480054e-01</td>\n",
       "      <td>9.113430e-01</td>\n",
       "      <td>9.127212e-01</td>\n",
       "      <td>0.703936</td>\n",
       "      <td>5.133171e-03</td>\n",
       "      <td>3.547974e-05</td>\n",
       "      <td>5.076917e-01</td>\n",
       "      <td>0.467358</td>\n",
       "    </tr>\n",
       "    <tr>\n",
       "      <th>54</th>\n",
       "      <td>Image 55</td>\n",
       "      <td>0.787458</td>\n",
       "      <td>1.416529e-01</td>\n",
       "      <td>8.263969e-02</td>\n",
       "      <td>1.000000e+00</td>\n",
       "      <td>2.198465e-01</td>\n",
       "      <td>0.403745</td>\n",
       "      <td>3.682078e-06</td>\n",
       "      <td>5.527655e-02</td>\n",
       "      <td>5.374518e-01</td>\n",
       "      <td>0.492973</td>\n",
       "    </tr>\n",
       "    <tr>\n",
       "      <th>55</th>\n",
       "      <td>Image 56</td>\n",
       "      <td>0.476508</td>\n",
       "      <td>2.760879e-01</td>\n",
       "      <td>9.152207e-03</td>\n",
       "      <td>1.152627e-03</td>\n",
       "      <td>2.468450e-03</td>\n",
       "      <td>0.897368</td>\n",
       "      <td>8.058750e-01</td>\n",
       "      <td>1.266472e-05</td>\n",
       "      <td>6.192593e-01</td>\n",
       "      <td>0.396023</td>\n",
       "    </tr>\n",
       "    <tr>\n",
       "      <th>56</th>\n",
       "      <td>Image 57</td>\n",
       "      <td>0.480823</td>\n",
       "      <td>4.094917e-01</td>\n",
       "      <td>2.625630e-01</td>\n",
       "      <td>1.367380e-01</td>\n",
       "      <td>1.412054e-01</td>\n",
       "      <td>0.608612</td>\n",
       "      <td>5.578445e-01</td>\n",
       "      <td>2.196378e-01</td>\n",
       "      <td>3.284921e-01</td>\n",
       "      <td>0.481746</td>\n",
       "    </tr>\n",
       "    <tr>\n",
       "      <th>57</th>\n",
       "      <td>Image 58</td>\n",
       "      <td>0.444886</td>\n",
       "      <td>1.832100e-02</td>\n",
       "      <td>1.069718e-05</td>\n",
       "      <td>3.176251e-02</td>\n",
       "      <td>9.109219e-01</td>\n",
       "      <td>0.653981</td>\n",
       "      <td>2.336821e-01</td>\n",
       "      <td>2.481564e-03</td>\n",
       "      <td>5.275648e-01</td>\n",
       "      <td>0.100495</td>\n",
       "    </tr>\n",
       "    <tr>\n",
       "      <th>58</th>\n",
       "      <td>Image 59</td>\n",
       "      <td>0.001440</td>\n",
       "      <td>2.588674e-01</td>\n",
       "      <td>1.345961e-02</td>\n",
       "      <td>9.999992e-01</td>\n",
       "      <td>8.137211e-01</td>\n",
       "      <td>0.710122</td>\n",
       "      <td>9.979534e-01</td>\n",
       "      <td>4.340745e-05</td>\n",
       "      <td>3.799736e-01</td>\n",
       "      <td>0.337125</td>\n",
       "    </tr>\n",
       "    <tr>\n",
       "      <th>59</th>\n",
       "      <td>Image 60</td>\n",
       "      <td>0.158453</td>\n",
       "      <td>2.624515e-01</td>\n",
       "      <td>2.023173e-03</td>\n",
       "      <td>9.995698e-01</td>\n",
       "      <td>9.708678e-01</td>\n",
       "      <td>0.847976</td>\n",
       "      <td>9.964671e-01</td>\n",
       "      <td>5.568899e-05</td>\n",
       "      <td>5.626543e-01</td>\n",
       "      <td>0.578891</td>\n",
       "    </tr>\n",
       "  </tbody>\n",
       "</table>\n",
       "</div>"
      ],
      "text/plain": [
       "       image    model1        model2        model3        model4  \\\n",
       "0    Image 1  0.650312  1.871694e-01  6.255927e-03  4.422635e-01   \n",
       "1    Image 2  0.458417  3.721912e-01  1.656577e-01  4.663152e-01   \n",
       "2    Image 3  0.359328  5.876176e-01  2.674386e-01  2.903213e-03   \n",
       "3    Image 4  0.027871  4.599894e-01  8.866349e-02  9.998368e-01   \n",
       "4    Image 5  0.003538  1.403099e-02  9.996398e-01  9.999996e-01   \n",
       "5    Image 6  0.234126  4.921497e-02  3.272678e-03  2.825795e-01   \n",
       "6    Image 7  0.003843  5.843636e-01  7.897741e-01  9.999962e-01   \n",
       "7    Image 8  0.243004  5.425489e-01  4.007242e-01  9.839378e-01   \n",
       "8    Image 9  0.352527  9.673568e-02  1.497151e-01  5.367099e-02   \n",
       "9   Image 10  0.363195  1.245318e-01  5.860603e-04  1.932431e-06   \n",
       "10  Image 11  0.607272  3.516564e-01  3.317434e-01  7.166653e-01   \n",
       "11  Image 12  0.015753  3.782207e-01  1.165741e-03  9.995382e-01   \n",
       "12  Image 13  0.106970  2.075339e-07  1.000000e+00  1.000000e+00   \n",
       "13  Image 14  0.005643  3.686461e-01  1.247354e-02  7.926808e-01   \n",
       "14  Image 15  0.770393  2.661648e-01  2.160646e-02  1.652916e-03   \n",
       "15  Image 16  0.555933  2.343489e-01  7.000777e-01  9.801151e-01   \n",
       "16  Image 17  0.010639  1.360168e-01  9.333524e-01  1.066572e-01   \n",
       "17  Image 18  0.591938  8.296721e-02  1.246101e-03  1.547093e-03   \n",
       "18  Image 19  0.536905  4.870114e-02  1.550928e-04  6.610709e-05   \n",
       "19  Image 20  0.281812  1.239207e-01  8.636031e-01  9.962397e-01   \n",
       "20  Image 21  0.639724  3.097969e-02  2.039410e-06  9.979985e-01   \n",
       "21  Image 22  0.544410  4.899341e-01  6.910038e-02  8.294178e-01   \n",
       "22  Image 23  0.319008  3.746698e-01  4.838685e-01  6.676819e-01   \n",
       "23  Image 24  0.038672  3.968835e-02  1.090709e-02  1.000000e+00   \n",
       "24  Image 25  0.308394  1.460359e-01  2.424772e-02  1.018037e-03   \n",
       "25  Image 26  0.064389  1.547009e-01  9.633281e-05  1.000000e+00   \n",
       "26  Image 27  0.305663  1.838840e-02  9.225516e-01  2.442783e-09   \n",
       "27  Image 28  0.193655  2.959576e-01  1.028259e-02  4.342285e-05   \n",
       "28  Image 29  0.001617  7.411178e-01  1.199439e-02  1.000000e+00   \n",
       "29  Image 30  0.051334  6.561135e-01  5.560096e-04  1.504585e-02   \n",
       "30  Image 31  0.117947  3.597232e-01  6.879251e-02  3.076929e-04   \n",
       "31  Image 32  0.991155  2.804493e-03  5.739993e-14  1.826891e-11   \n",
       "32  Image 33  0.131006  1.938328e-02  4.318656e-02  1.864341e-05   \n",
       "33  Image 34  0.109432  6.578316e-03  1.251778e-06  3.010094e-02   \n",
       "34  Image 35  0.037340  5.168399e-01  4.558475e-02  9.316304e-01   \n",
       "35  Image 36  0.003606  1.277689e-02  3.112646e-05  9.999973e-01   \n",
       "36  Image 37  0.742157  7.813386e-03  3.097729e-02  5.837014e-05   \n",
       "37  Image 38  0.268519  4.831930e-01  6.798404e-02  7.842944e-01   \n",
       "38  Image 39  0.334651  4.930662e-01  1.693647e-01  9.999974e-01   \n",
       "39  Image 40  0.365877  2.248580e-01  2.075689e-02  5.403244e-06   \n",
       "40  Image 41  0.988884  4.336020e-05  9.988250e-01  1.726316e-02   \n",
       "41  Image 42  0.456778  4.919167e-01  2.326514e-01  9.977452e-01   \n",
       "42  Image 43  0.001533  1.124126e-02  2.509584e-03  2.263536e-03   \n",
       "43  Image 44  0.001304  5.301099e-02  3.647450e-05  9.926828e-01   \n",
       "44  Image 45  0.224025  1.011207e-01  6.096453e-06  9.550322e-07   \n",
       "45  Image 46  0.002150  1.379331e-02  1.755501e-06  2.789995e-01   \n",
       "46  Image 47  0.406717  2.028388e-01  3.848242e-01  9.091618e-01   \n",
       "47  Image 48  0.378067  2.726170e-01  3.229505e-01  9.393597e-01   \n",
       "48  Image 49  0.001351  9.888620e-01  5.142966e-01  7.720196e-01   \n",
       "49  Image 50  0.054351  2.957039e-01  9.214101e-01  9.999998e-01   \n",
       "50  Image 51  0.417953  4.833619e-01  4.637007e-01  2.861838e-01   \n",
       "51  Image 52  0.001658  1.075864e-02  2.556664e-04  1.000000e+00   \n",
       "52  Image 53  0.072004  7.201309e-01  2.260294e-11  7.522260e-01   \n",
       "53  Image 54  0.275038  3.986670e-01  7.480054e-01  9.113430e-01   \n",
       "54  Image 55  0.787458  1.416529e-01  8.263969e-02  1.000000e+00   \n",
       "55  Image 56  0.476508  2.760879e-01  9.152207e-03  1.152627e-03   \n",
       "56  Image 57  0.480823  4.094917e-01  2.625630e-01  1.367380e-01   \n",
       "57  Image 58  0.444886  1.832100e-02  1.069718e-05  3.176251e-02   \n",
       "58  Image 59  0.001440  2.588674e-01  1.345961e-02  9.999992e-01   \n",
       "59  Image 60  0.158453  2.624515e-01  2.023173e-03  9.995698e-01   \n",
       "\n",
       "          model5    model6        model7        model8        model9   model10  \n",
       "0   9.513812e-01  0.573726  9.488379e-01  1.960590e-03  4.849122e-01  0.426456  \n",
       "1   8.932869e-01  0.779159  7.540747e-03  3.360294e-04  5.076917e-01  0.487149  \n",
       "2   3.149365e-01  0.646455  1.357967e-02  2.077978e-02  3.390827e-01  0.480482  \n",
       "3   4.196905e-01  0.510201  5.701799e-03  1.012810e-02  3.246859e-01  0.484374  \n",
       "4   1.335563e-01  0.732334  9.999962e-01  6.652724e-03  1.261396e-01  0.040041  \n",
       "5   4.739093e-01  0.512094  7.754698e-01  2.852744e-01  5.113500e-01  0.374221  \n",
       "6   7.960585e-01  0.886143  9.314237e-01  3.885946e-04  4.677897e-02  0.340272  \n",
       "7   2.050406e-01  0.648081  5.361332e-01  1.133200e-04  4.809978e-01  0.579226  \n",
       "8   5.039650e-01  0.356373  8.825821e-01  6.271590e-03  4.995452e-01  0.452320  \n",
       "9   8.999705e-01  0.622090  9.801271e-01  2.198055e-02  4.873006e-01  0.079815  \n",
       "10  6.700006e-02  0.534348  9.307576e-01  4.882139e-06  5.112162e-01  0.568108  \n",
       "11  9.997712e-01  0.741634  9.942438e-01  4.899312e-06  9.033499e-01  0.163739  \n",
       "12  7.453834e-02  0.864404  1.137524e-05  5.094658e-12  7.652486e-11  0.000943  \n",
       "13  7.170461e-01  0.813486  2.154825e-01  7.921674e-02  5.129129e-01  0.279084  \n",
       "14  8.216245e-01  0.470099  4.533786e-01  1.302384e-03  5.615348e-01  0.427027  \n",
       "15  2.063335e-01  0.663102  8.991406e-01  7.426353e-05  4.053650e-01  0.344381  \n",
       "16  3.864718e-02  0.754520  9.992962e-01  7.320228e-01  2.255954e-01  0.097818  \n",
       "17  9.496831e-01  0.603514  8.173567e-03  1.539493e-04  5.657924e-01  0.640842  \n",
       "18  8.586114e-01  0.435127  5.375496e-01  2.190537e-02  5.185850e-01  0.537452  \n",
       "19  4.860374e-06  0.705447  2.674829e-01  7.107867e-08  5.343617e-01  0.235839  \n",
       "20  9.974846e-01  0.775843  8.951843e-01  3.253647e-05  1.852004e-01  0.109138  \n",
       "21  1.007163e-01  0.752272  3.790370e-02  7.477496e-06  5.001186e-01  0.488555  \n",
       "22  7.353186e-01  0.598592  7.908812e-01  4.108956e-02  4.923778e-01  0.476162  \n",
       "23  6.704380e-01  0.881945  3.429803e-03  1.840180e-02  5.317326e-01  0.124112  \n",
       "24  9.998809e-01  0.805183  4.258909e-02  9.305356e-07  5.629301e-01  0.517381  \n",
       "25  9.919243e-01  0.818127  1.144271e-07  1.449000e-03  3.601012e-01  0.543636  \n",
       "26  4.395264e-08  0.550226  9.921839e-01  1.267678e-07  3.844602e-01  0.198956  \n",
       "27  3.777968e-03  0.519540  4.561486e-01  3.396491e-05  5.420647e-01  0.561732  \n",
       "28  4.054033e-01  0.381924  5.290686e-03  3.882665e-04  8.282649e-07  0.057426  \n",
       "29  3.715894e-01  0.614452  9.305839e-01  4.314774e-01  4.942414e-01  0.348909  \n",
       "30  2.609314e-01  0.661469  2.812226e-01  9.932427e-02  4.910983e-01  0.417526  \n",
       "31  9.986333e-01  0.810954  1.454583e-08  5.135139e-02  9.314319e-01  0.579774  \n",
       "32  2.808697e-01  0.466008  1.000000e+00  1.978554e-05  7.542276e-01  0.193867  \n",
       "33  5.237729e-01  0.878011  9.657694e-01  1.409953e-04  6.220896e-01  0.129245  \n",
       "34  9.397686e-01  0.602733  5.985349e-01  1.556691e-01  5.058050e-01  0.449590  \n",
       "35  7.647173e-03  0.985644  1.793918e-01  2.495135e-11  5.159774e-01  0.253750  \n",
       "36  9.794208e-01  0.731208  9.824555e-01  3.436612e-05  4.864420e-01  0.182315  \n",
       "37  7.723663e-01  0.725620  4.051470e-01  6.826700e-04  5.080847e-01  0.554884  \n",
       "38  7.135696e-02  0.815355  9.060270e-01  5.187992e-04  4.899355e-01  0.579447  \n",
       "39  3.986760e-01  0.458532  1.003536e-01  2.248187e-01  5.396050e-01  0.458733  \n",
       "40  8.008296e-03  0.963114  9.998037e-01  9.519115e-04  6.666012e-01  0.081559  \n",
       "41  1.560526e-01  0.641611  5.979174e-01  2.404991e-02  5.077374e-01  0.492427  \n",
       "42  9.997128e-01  0.675512  9.988756e-01  2.865593e-07  8.450248e-01  0.138944  \n",
       "43  9.997921e-01  0.808732  9.364450e-07  2.653140e-04  2.185585e-01  0.013815  \n",
       "44  7.216727e-01  0.732605  2.162780e-01  9.199817e-02  2.787389e-01  0.313806  \n",
       "45  7.495021e-01  0.697348  9.999956e-01  1.387867e-05  6.413776e-01  0.141529  \n",
       "46  6.746352e-01  0.796529  5.217981e-01  5.553126e-03  5.104349e-01  0.517288  \n",
       "47  9.103279e-01  0.546499  8.058439e-01  4.721385e-04  5.089942e-01  0.531725  \n",
       "48  7.051322e-01  0.526971  9.929898e-01  4.386877e-02  4.315903e-02  0.181211  \n",
       "49  1.083796e-03  0.603980  8.899624e-01  8.053998e-04  7.765554e-02  0.064385  \n",
       "50  6.198663e-01  0.592341  5.137152e-01  1.384832e-01  5.076917e-01  0.502717  \n",
       "51  1.907014e-03  0.478616  3.800647e-03  1.597260e-05  1.894134e-01  0.298277  \n",
       "52  4.241074e-02  0.516572  9.285920e-01  3.279543e-03  2.876791e-02  0.255370  \n",
       "53  9.127212e-01  0.703936  5.133171e-03  3.547974e-05  5.076917e-01  0.467358  \n",
       "54  2.198465e-01  0.403745  3.682078e-06  5.527655e-02  5.374518e-01  0.492973  \n",
       "55  2.468450e-03  0.897368  8.058750e-01  1.266472e-05  6.192593e-01  0.396023  \n",
       "56  1.412054e-01  0.608612  5.578445e-01  2.196378e-01  3.284921e-01  0.481746  \n",
       "57  9.109219e-01  0.653981  2.336821e-01  2.481564e-03  5.275648e-01  0.100495  \n",
       "58  8.137211e-01  0.710122  9.979534e-01  4.340745e-05  3.799736e-01  0.337125  \n",
       "59  9.708678e-01  0.847976  9.964671e-01  5.568899e-05  5.626543e-01  0.578891  "
      ]
     },
     "execution_count": 277,
     "metadata": {},
     "output_type": "execute_result"
    }
   ],
   "source": [
    "novel_106_df"
   ]
  },
  {
   "cell_type": "code",
   "execution_count": 346,
   "id": "289bbcce",
   "metadata": {},
   "outputs": [
    {
     "name": "stderr",
     "output_type": "stream",
     "text": [
      "/var/folders/xl/3zhh0b4x0zq1yvld_8qdgtb00000gn/T/ipykernel_79852/2659887565.py:1: FutureWarning: Dropping of nuisance columns in DataFrame reductions (with 'numeric_only=None') is deprecated; in a future version this will raise TypeError.  Select only valid columns before calling the reduction.\n",
      "  novel_106_df.mean()\n"
     ]
    },
    {
     "data": {
      "text/plain": [
       "model1     0.289656\n",
       "model2     0.258243\n",
       "model3     0.227946\n",
       "model4     0.535213\n",
       "model5     0.523281\n",
       "model6     0.668202\n",
       "model7     0.550442\n",
       "model8     0.046689\n",
       "model9     0.448873\n",
       "model10    0.344207\n",
       "dtype: float32"
      ]
     },
     "execution_count": 346,
     "metadata": {},
     "output_type": "execute_result"
    }
   ],
   "source": [
    "novel_106_df.mean()"
   ]
  },
  {
   "cell_type": "code",
   "execution_count": 363,
   "id": "66779a21",
   "metadata": {},
   "outputs": [
    {
     "data": {
      "text/plain": [
       "image      Image 1Image 2Image 3Image 4Image 5Image 6Imag...\n",
       "model1                                             17.379353\n",
       "model2                                             15.494597\n",
       "model3                                             13.676758\n",
       "model4                                             32.112759\n",
       "model5                                             31.396887\n",
       "model6                                             40.092144\n",
       "model7                                             33.026539\n",
       "model8                                              2.801313\n",
       "model9                                             26.932365\n",
       "model10                                            20.652395\n",
       "dtype: object"
      ]
     },
     "execution_count": 363,
     "metadata": {},
     "output_type": "execute_result"
    }
   ],
   "source": [
    "novel_106_df.sum()"
   ]
  },
  {
   "cell_type": "markdown",
   "id": "e9308cf6",
   "metadata": {},
   "source": [
    "## Interpretation"
   ]
  },
  {
   "cell_type": "markdown",
   "id": "487b081a",
   "metadata": {},
   "source": [
    "1. **Comparing the models with Hypotheses**\n",
    "\n",
    "##### <u>Model 1 - Parakeet Auklet and Myrtle Warbler</u>\n",
    "\n",
    "We predicted that it is easy to medium classify between these 2 birds. The model returns an accuracy score of 0.88. The precision and recall scores are 0.86 and 0.86 for “Auklet” and 0.89 and 0.89 for “Myrtle Warbler”. The result fits with our hypothesis that this pair is not hard to classified and it does match our prediction.\n",
    "\n",
    "##### <u>Model 2 - Rhinoceros Auklet and Caspian Tern</u>\n",
    "\n",
    "We predicted that it is easy classify between these 2 birds. The model returns an accuracy score of 0.88. The precision and recall scores are 0.86 and 0.86 for “Auklet” and 0.89 and 0.89 for “Caspian Tern”. The result quite fits with our hypothesis because we stated that this is an easy pair to compare. The accuracy is just the same as an “easy-medium” pair which is not too different. We can conclude that we made the right prediction.\n",
    "\n",
    "##### <u>Model 3 - Red-winged Blackbird and House Sparrow</u>\n",
    "\n",
    "We predicted that it is medium classify between these 2 birds. The model returns an accuracy score of 0.94. The precision and recall scores are 0.94 and 0.94 for “Blackbird” and 0.95 and 0.95 for “Sparrow”. The result is beyond our expectation for this pair since this is a medium but the accuracy, precision and recall is high. We should label this easy instead of medium.\n",
    "\n",
    "##### <u>Model 4 - Fish Crow and Ruby-throated Hummingbird</u>\n",
    "\n",
    "We predicted that it is medium classify between these 2 birds. The model returns an accuracy score of 0.94. The precision and recall scores are 0.94 and 0.94 for “Blackbird” and 0.95 and 0.95 for “Sparrow”. The result is also beyond our expectation for this pair since this is a medium but the accuracy, precision and recall is high. This pair result is the same as another medium pair (“Red-winged Blackbird” and “House Sparrow”)\n",
    "\n",
    "##### <u>Model 5 - Yellow-billed Cuckoo and Pied Kingfisher</u>\n",
    "\n",
    "We predicted that it is medium-hard classify between these 2 birds. The model returns an accuracy score of 0.94. The precision and recall scores are 0.94 and 0.94 for “Cuckoo” and 0.95 and 0.95 for “Kingfisher”. The result is much beyond our expectation (around 80% for accuracy) for this pair since this is quite hard but the accuracy, precision and recall is high.\n",
    "\n",
    "##### <u>Model 6 - Acadian Flycatcher and Elegant Tern</u>\n",
    "\n",
    "We predicted that it is hard classify between these 2 birds. The model returns an accuracy score of 0.94. The precision and recall scores are 0.94 and 0.94 for “Flycatcher” and 0.95 and 0.95 for “Elegant Tern”. We evaluated that this is a hard pair compare but all of the scores here are very high. For this pair, we should also label it easy instead of medium.\n",
    "\n",
    "##### <u>Model 7 - Western Grebe and Rock Wren</u>\n",
    "\n",
    "We predicted that it is easy-medium to classify between these 2 birds. The model returns an accuracy score of 0.78. The precision and recall scores are 0.76 and 0.76 for “Western Grebe” and 0.79 and 0.79 for “Rock Wren”. Although the score is not that bad, it is still far lower than easy pair, so this pair, we made the right hypothesis.\n",
    "\n",
    "##### <u>Model 8 - Rose-breasted Grosbeak and Heermann Gull</u>\n",
    "\n",
    " For this comparison, we predicted that it is medium classify between these 2 birds. The model returns 1 for all scores. Although we labeled this pair as medium, the model performed really well this time with the highest score. We predicted incorrect for this pair and this should be easy.\n",
    "\n",
    "##### <u>Model 9 - Western Gull and Pacific Loon</u>\n",
    "\n",
    "We predicted this class as medium-hard. And this time, the accuracy score is .55, very low as we expected. For this classifier, we made the right prediction as the model perform poorly on differ this types. This pair should be label as “very hard” according to the model.\n",
    "\n",
    "##### <u>Model 10 - Fox Sparrow and Palm Warbler</u>\n",
    "\n",
    "We predicted this pair as hard. The model returns an accuracy score of 0.72. The precision and recall scores are 0.71 and 0.71 for “Sparrow” and 0.74 and 0.74 for “Warbler”. The scores are quite low and we can conclude that our hypothesis is quite accurate this time.\n",
    "\n",
    "\n",
    "##### **Surprising Facts:**\n",
    "\n",
    "\n",
    "Model 3: This pair should be easy instead of medium. First we thought that there is not much difference between these 2 species because their colors are the same tone and they have equal size. Based on CNN function, it focuses more on distinguishing the color and it turns out that it is easy to classify this pair. \n",
    "\n",
    "Model 8: For this pair, we labeled it as medium but the score is actually very high (1) for all categories. First, we saw that they have many same color but actually 2 birds have similar color on different body parts. However, it turns out that it differs the group better than what we expected.\n",
    "\n",
    "Model 9: This time, we predicted that this is a hard pair to differ because they have same color in many parts of the body and they are also at the same size. Although we knew that it is hard to differ between them, the accuracy score is even lower that all other models. \n",
    "\n",
    "\n",
    "\n",
    "2. **The strongest model**\n",
    "\n",
    "\n",
    "\n",
    "Model 8: We found that this 2 birds are also having different background: Grosbeak lives on the tree most and the gull lives mostly on the beach. Therefore, the background of the Grosbeak is mostly green and the background of the gull is mostly blue and brown from the sand. That may be a reason why the model can distinguish very well.\n",
    "\n",
    "\n",
    "\n",
    "3. **For _novel bird species dataframe_: Patterns described by the classifier scores for the novel species**\n",
    "\n",
    "\n",
    "\n",
    "According to the “novel bird species dataframe” (`novel_106_df` in our notebook), we can see that the mean score of novel bird species (106-horn-muffin) of model 4 (.54), model 5 (.52), model 6 (.67), model 7 (.55) are highest. If we calculate the sum of all columns, we can also see the the score for model 6 and 7 are the highest. It shows that the “horn muffin” has pattern aligned with species from model 4, 5, 6, and 7.\n",
    "\n",
    "-\tIn model 4, we only see that the background of the “fish-crow” pictures are quite similar to the novel bird (blue from sky or water, field, rock…), so model 4 is not reliable on describing “horn muffin”. \n",
    "-\tIn model 5, we have the same problem with model 4, there is only similarity of background so model 5 is also not reliable.\n",
    "-\tIn model 6, there is some similarity about the shape of the “Elegant Tern” and the muffin (orange beak, white belly) and also similarity of background showing same lifestyle. This indicate that model 6 can potentially describe the muffin in patterned way. This is also fit with the score since model 6 has the highest average score (.66)\n",
    "-\tIn model 7, both 2 birds have similarity in backgrounds, and not much with the shape of the bird. Therefore, this model is not aligned with pattern description for muffin."
   ]
  },
  {
   "cell_type": "markdown",
   "id": "6b9d614b",
   "metadata": {},
   "source": [
    "## Using model to test on a novel species (untrained data set)"
   ]
  },
  {
   "cell_type": "markdown",
   "id": "6a5007fc",
   "metadata": {},
   "source": [
    "We chose the second novel species to be Downy Woodpecker, which bears a lot of resemblence to at least 10 other species in our models."
   ]
  },
  {
   "cell_type": "code",
   "execution_count": 278,
   "id": "6742c08c",
   "metadata": {},
   "outputs": [
    {
     "name": "stdout",
     "output_type": "stream",
     "text": [
      "Found 60 files belonging to 1 classes.\n"
     ]
    }
   ],
   "source": [
    "# tensorflow dataset\n",
    "novel_192 = tf.keras.utils.image_dataset_from_directory(\n",
    "      'Birds/192.Downy_Woodpecker',\n",
    "      shuffle=False,\n",
    "      labels = None,\n",
    "      seed=20,\n",
    "      image_size=(200, 200),\n",
    "      batch_size=1)"
   ]
  },
  {
   "cell_type": "code",
   "execution_count": 279,
   "id": "c317e2be",
   "metadata": {
    "scrolled": true
   },
   "outputs": [
    {
     "name": "stdout",
     "output_type": "stream",
     "text": [
      "60/60 [==============================] - 5s 63ms/step\n",
      "60/60 [==============================] - 4s 53ms/step\n",
      "60/60 [==============================] - 3s 38ms/step\n",
      "60/60 [==============================] - 4s 47ms/step\n",
      "60/60 [==============================] - 3s 39ms/step\n",
      "60/60 [==============================] - 4s 45ms/step\n",
      "60/60 [==============================] - 3s 42ms/step\n",
      "60/60 [==============================] - 3s 37ms/step\n",
      "60/60 [==============================] - 4s 46ms/step\n",
      "60/60 [==============================] - 3s 44ms/step\n"
     ]
    }
   ],
   "source": [
    "# make new preds probability based on models\n",
    "npreds1 = mod1.predict(novel_192)\n",
    "npreds2 = mod2.predict(novel_192)\n",
    "npreds3 = mod3.predict(novel_192)\n",
    "npreds4 = mod4.predict(novel_192)\n",
    "npreds5 = mod5.predict(novel_192)\n",
    "npreds6 = mod6.predict(novel_192)\n",
    "npreds7 = mod7.predict(novel_192)\n",
    "npreds8 = mod8.predict(novel_192)\n",
    "npreds9 = mod9.predict(novel_192)\n",
    "npreds10 = mod10.predict(novel_192)"
   ]
  },
  {
   "cell_type": "code",
   "execution_count": 283,
   "id": "3fdfd450",
   "metadata": {},
   "outputs": [],
   "source": [
    "# new novel species dataframe\n",
    "novel_192_df = pd.DataFrame({\n",
    "    'image': image_num,\n",
    "    'model1': [i[0] for i in npreds1],\n",
    "    'model2': [i[0] for i in npreds2],\n",
    "    'model3': [i[0] for i in npreds3],\n",
    "    'model4': [i[0] for i in npreds4],\n",
    "    'model5': [i[0] for i in npreds5],\n",
    "    'model6': [i[0] for i in npreds6],\n",
    "    'model7': [i[0] for i in npreds7],\n",
    "    'model8': [i[0] for i in npreds8],\n",
    "    'model9': [i[0] for i in npreds9],\n",
    "    'model10': [i[0] for i in npreds10]\n",
    "})"
   ]
  },
  {
   "cell_type": "code",
   "execution_count": 285,
   "id": "641bec1d",
   "metadata": {},
   "outputs": [],
   "source": [
    "labels = [0 for i in range(60)] + [1 for i in range(60)] # 0 for 106, 1 for 192\n",
    "model_df = pd.concat([novel_106_df, novel_192_df])"
   ]
  },
  {
   "cell_type": "code",
   "execution_count": 287,
   "id": "c00615f5",
   "metadata": {},
   "outputs": [
    {
     "data": {
      "text/html": [
       "<div>\n",
       "<style scoped>\n",
       "    .dataframe tbody tr th:only-of-type {\n",
       "        vertical-align: middle;\n",
       "    }\n",
       "\n",
       "    .dataframe tbody tr th {\n",
       "        vertical-align: top;\n",
       "    }\n",
       "\n",
       "    .dataframe thead th {\n",
       "        text-align: right;\n",
       "    }\n",
       "</style>\n",
       "<table border=\"1\" class=\"dataframe\">\n",
       "  <thead>\n",
       "    <tr style=\"text-align: right;\">\n",
       "      <th></th>\n",
       "      <th>model1</th>\n",
       "      <th>model2</th>\n",
       "      <th>model3</th>\n",
       "      <th>model4</th>\n",
       "      <th>model5</th>\n",
       "      <th>model6</th>\n",
       "      <th>model7</th>\n",
       "      <th>model8</th>\n",
       "      <th>model9</th>\n",
       "      <th>model10</th>\n",
       "      <th>labels</th>\n",
       "    </tr>\n",
       "  </thead>\n",
       "  <tbody>\n",
       "    <tr>\n",
       "      <th>0</th>\n",
       "      <td>0.650312</td>\n",
       "      <td>0.187169</td>\n",
       "      <td>6.255927e-03</td>\n",
       "      <td>4.422635e-01</td>\n",
       "      <td>0.951381</td>\n",
       "      <td>0.573726</td>\n",
       "      <td>0.948838</td>\n",
       "      <td>1.960590e-03</td>\n",
       "      <td>0.484912</td>\n",
       "      <td>0.426456</td>\n",
       "      <td>0</td>\n",
       "    </tr>\n",
       "    <tr>\n",
       "      <th>1</th>\n",
       "      <td>0.458417</td>\n",
       "      <td>0.372191</td>\n",
       "      <td>1.656577e-01</td>\n",
       "      <td>4.663152e-01</td>\n",
       "      <td>0.893287</td>\n",
       "      <td>0.779159</td>\n",
       "      <td>0.007541</td>\n",
       "      <td>3.360294e-04</td>\n",
       "      <td>0.507692</td>\n",
       "      <td>0.487149</td>\n",
       "      <td>0</td>\n",
       "    </tr>\n",
       "    <tr>\n",
       "      <th>2</th>\n",
       "      <td>0.359328</td>\n",
       "      <td>0.587618</td>\n",
       "      <td>2.674386e-01</td>\n",
       "      <td>2.903213e-03</td>\n",
       "      <td>0.314937</td>\n",
       "      <td>0.646455</td>\n",
       "      <td>0.013580</td>\n",
       "      <td>2.077978e-02</td>\n",
       "      <td>0.339083</td>\n",
       "      <td>0.480482</td>\n",
       "      <td>0</td>\n",
       "    </tr>\n",
       "    <tr>\n",
       "      <th>3</th>\n",
       "      <td>0.027871</td>\n",
       "      <td>0.459989</td>\n",
       "      <td>8.866349e-02</td>\n",
       "      <td>9.998368e-01</td>\n",
       "      <td>0.419691</td>\n",
       "      <td>0.510201</td>\n",
       "      <td>0.005702</td>\n",
       "      <td>1.012810e-02</td>\n",
       "      <td>0.324686</td>\n",
       "      <td>0.484374</td>\n",
       "      <td>0</td>\n",
       "    </tr>\n",
       "    <tr>\n",
       "      <th>4</th>\n",
       "      <td>0.003538</td>\n",
       "      <td>0.014031</td>\n",
       "      <td>9.996398e-01</td>\n",
       "      <td>9.999996e-01</td>\n",
       "      <td>0.133556</td>\n",
       "      <td>0.732334</td>\n",
       "      <td>0.999996</td>\n",
       "      <td>6.652724e-03</td>\n",
       "      <td>0.126140</td>\n",
       "      <td>0.040041</td>\n",
       "      <td>0</td>\n",
       "    </tr>\n",
       "    <tr>\n",
       "      <th>...</th>\n",
       "      <td>...</td>\n",
       "      <td>...</td>\n",
       "      <td>...</td>\n",
       "      <td>...</td>\n",
       "      <td>...</td>\n",
       "      <td>...</td>\n",
       "      <td>...</td>\n",
       "      <td>...</td>\n",
       "      <td>...</td>\n",
       "      <td>...</td>\n",
       "      <td>...</td>\n",
       "    </tr>\n",
       "    <tr>\n",
       "      <th>55</th>\n",
       "      <td>0.333659</td>\n",
       "      <td>0.080311</td>\n",
       "      <td>4.111642e-03</td>\n",
       "      <td>4.338142e-10</td>\n",
       "      <td>0.000007</td>\n",
       "      <td>0.388814</td>\n",
       "      <td>0.436031</td>\n",
       "      <td>1.578676e-04</td>\n",
       "      <td>0.319730</td>\n",
       "      <td>0.214631</td>\n",
       "      <td>1</td>\n",
       "    </tr>\n",
       "    <tr>\n",
       "      <th>56</th>\n",
       "      <td>0.187716</td>\n",
       "      <td>0.578982</td>\n",
       "      <td>1.391144e-01</td>\n",
       "      <td>8.713457e-01</td>\n",
       "      <td>0.825233</td>\n",
       "      <td>0.577748</td>\n",
       "      <td>0.095831</td>\n",
       "      <td>9.284254e-03</td>\n",
       "      <td>0.471726</td>\n",
       "      <td>0.671882</td>\n",
       "      <td>1</td>\n",
       "    </tr>\n",
       "    <tr>\n",
       "      <th>57</th>\n",
       "      <td>0.000905</td>\n",
       "      <td>0.064129</td>\n",
       "      <td>3.770707e-01</td>\n",
       "      <td>9.987923e-01</td>\n",
       "      <td>0.999643</td>\n",
       "      <td>0.234019</td>\n",
       "      <td>0.003144</td>\n",
       "      <td>8.294268e-07</td>\n",
       "      <td>0.596392</td>\n",
       "      <td>0.574773</td>\n",
       "      <td>1</td>\n",
       "    </tr>\n",
       "    <tr>\n",
       "      <th>58</th>\n",
       "      <td>0.235737</td>\n",
       "      <td>0.001951</td>\n",
       "      <td>1.594916e-07</td>\n",
       "      <td>6.122517e-08</td>\n",
       "      <td>1.000000</td>\n",
       "      <td>0.633163</td>\n",
       "      <td>0.000108</td>\n",
       "      <td>9.038494e-07</td>\n",
       "      <td>0.622215</td>\n",
       "      <td>0.626222</td>\n",
       "      <td>1</td>\n",
       "    </tr>\n",
       "    <tr>\n",
       "      <th>59</th>\n",
       "      <td>0.001108</td>\n",
       "      <td>0.006995</td>\n",
       "      <td>3.175146e-04</td>\n",
       "      <td>8.235911e-01</td>\n",
       "      <td>0.510135</td>\n",
       "      <td>0.828031</td>\n",
       "      <td>0.755836</td>\n",
       "      <td>3.477040e-05</td>\n",
       "      <td>0.447628</td>\n",
       "      <td>0.776094</td>\n",
       "      <td>1</td>\n",
       "    </tr>\n",
       "  </tbody>\n",
       "</table>\n",
       "<p>120 rows × 11 columns</p>\n",
       "</div>"
      ],
      "text/plain": [
       "      model1    model2        model3        model4    model5    model6  \\\n",
       "0   0.650312  0.187169  6.255927e-03  4.422635e-01  0.951381  0.573726   \n",
       "1   0.458417  0.372191  1.656577e-01  4.663152e-01  0.893287  0.779159   \n",
       "2   0.359328  0.587618  2.674386e-01  2.903213e-03  0.314937  0.646455   \n",
       "3   0.027871  0.459989  8.866349e-02  9.998368e-01  0.419691  0.510201   \n",
       "4   0.003538  0.014031  9.996398e-01  9.999996e-01  0.133556  0.732334   \n",
       "..       ...       ...           ...           ...       ...       ...   \n",
       "55  0.333659  0.080311  4.111642e-03  4.338142e-10  0.000007  0.388814   \n",
       "56  0.187716  0.578982  1.391144e-01  8.713457e-01  0.825233  0.577748   \n",
       "57  0.000905  0.064129  3.770707e-01  9.987923e-01  0.999643  0.234019   \n",
       "58  0.235737  0.001951  1.594916e-07  6.122517e-08  1.000000  0.633163   \n",
       "59  0.001108  0.006995  3.175146e-04  8.235911e-01  0.510135  0.828031   \n",
       "\n",
       "      model7        model8    model9   model10  labels  \n",
       "0   0.948838  1.960590e-03  0.484912  0.426456       0  \n",
       "1   0.007541  3.360294e-04  0.507692  0.487149       0  \n",
       "2   0.013580  2.077978e-02  0.339083  0.480482       0  \n",
       "3   0.005702  1.012810e-02  0.324686  0.484374       0  \n",
       "4   0.999996  6.652724e-03  0.126140  0.040041       0  \n",
       "..       ...           ...       ...       ...     ...  \n",
       "55  0.436031  1.578676e-04  0.319730  0.214631       1  \n",
       "56  0.095831  9.284254e-03  0.471726  0.671882       1  \n",
       "57  0.003144  8.294268e-07  0.596392  0.574773       1  \n",
       "58  0.000108  9.038494e-07  0.622215  0.626222       1  \n",
       "59  0.755836  3.477040e-05  0.447628  0.776094       1  \n",
       "\n",
       "[120 rows x 11 columns]"
      ]
     },
     "execution_count": 287,
     "metadata": {},
     "output_type": "execute_result"
    }
   ],
   "source": [
    "# add labels to df\n",
    "model_df['labels'] = labels\n",
    "model_df.drop('image', axis =1, inplace =True)\n",
    "model_df"
   ]
  },
  {
   "cell_type": "markdown",
   "id": "a97371f7",
   "metadata": {},
   "source": [
    "### Binary Classifier: K-Nearest Neighbors Classifier"
   ]
  },
  {
   "cell_type": "code",
   "execution_count": 288,
   "id": "bb0fd52a",
   "metadata": {},
   "outputs": [],
   "source": [
    "X = model_df.loc[:, model_df. columns != 'labels']"
   ]
  },
  {
   "cell_type": "code",
   "execution_count": 296,
   "id": "3e152ed7",
   "metadata": {},
   "outputs": [
    {
     "data": {
      "text/plain": [
       "pandas.core.frame.DataFrame"
      ]
     },
     "execution_count": 296,
     "metadata": {},
     "output_type": "execute_result"
    }
   ],
   "source": [
    "# split data\n",
    "from sklearn.model_selection import train_test_split\n",
    "X_train, X_test, y_train, y_test = train_test_split(X, labels , test_size=0.3, random_state=44)\n",
    "type(X_train) "
   ]
  },
  {
   "cell_type": "code",
   "execution_count": 338,
   "id": "f7dee0d0",
   "metadata": {},
   "outputs": [
    {
     "data": {
      "text/html": [
       "<style>#sk-container-id-12 {color: black;background-color: white;}#sk-container-id-12 pre{padding: 0;}#sk-container-id-12 div.sk-toggleable {background-color: white;}#sk-container-id-12 label.sk-toggleable__label {cursor: pointer;display: block;width: 100%;margin-bottom: 0;padding: 0.3em;box-sizing: border-box;text-align: center;}#sk-container-id-12 label.sk-toggleable__label-arrow:before {content: \"▸\";float: left;margin-right: 0.25em;color: #696969;}#sk-container-id-12 label.sk-toggleable__label-arrow:hover:before {color: black;}#sk-container-id-12 div.sk-estimator:hover label.sk-toggleable__label-arrow:before {color: black;}#sk-container-id-12 div.sk-toggleable__content {max-height: 0;max-width: 0;overflow: hidden;text-align: left;background-color: #f0f8ff;}#sk-container-id-12 div.sk-toggleable__content pre {margin: 0.2em;color: black;border-radius: 0.25em;background-color: #f0f8ff;}#sk-container-id-12 input.sk-toggleable__control:checked~div.sk-toggleable__content {max-height: 200px;max-width: 100%;overflow: auto;}#sk-container-id-12 input.sk-toggleable__control:checked~label.sk-toggleable__label-arrow:before {content: \"▾\";}#sk-container-id-12 div.sk-estimator input.sk-toggleable__control:checked~label.sk-toggleable__label {background-color: #d4ebff;}#sk-container-id-12 div.sk-label input.sk-toggleable__control:checked~label.sk-toggleable__label {background-color: #d4ebff;}#sk-container-id-12 input.sk-hidden--visually {border: 0;clip: rect(1px 1px 1px 1px);clip: rect(1px, 1px, 1px, 1px);height: 1px;margin: -1px;overflow: hidden;padding: 0;position: absolute;width: 1px;}#sk-container-id-12 div.sk-estimator {font-family: monospace;background-color: #f0f8ff;border: 1px dotted black;border-radius: 0.25em;box-sizing: border-box;margin-bottom: 0.5em;}#sk-container-id-12 div.sk-estimator:hover {background-color: #d4ebff;}#sk-container-id-12 div.sk-parallel-item::after {content: \"\";width: 100%;border-bottom: 1px solid gray;flex-grow: 1;}#sk-container-id-12 div.sk-label:hover label.sk-toggleable__label {background-color: #d4ebff;}#sk-container-id-12 div.sk-serial::before {content: \"\";position: absolute;border-left: 1px solid gray;box-sizing: border-box;top: 0;bottom: 0;left: 50%;z-index: 0;}#sk-container-id-12 div.sk-serial {display: flex;flex-direction: column;align-items: center;background-color: white;padding-right: 0.2em;padding-left: 0.2em;position: relative;}#sk-container-id-12 div.sk-item {position: relative;z-index: 1;}#sk-container-id-12 div.sk-parallel {display: flex;align-items: stretch;justify-content: center;background-color: white;position: relative;}#sk-container-id-12 div.sk-item::before, #sk-container-id-12 div.sk-parallel-item::before {content: \"\";position: absolute;border-left: 1px solid gray;box-sizing: border-box;top: 0;bottom: 0;left: 50%;z-index: -1;}#sk-container-id-12 div.sk-parallel-item {display: flex;flex-direction: column;z-index: 1;position: relative;background-color: white;}#sk-container-id-12 div.sk-parallel-item:first-child::after {align-self: flex-end;width: 50%;}#sk-container-id-12 div.sk-parallel-item:last-child::after {align-self: flex-start;width: 50%;}#sk-container-id-12 div.sk-parallel-item:only-child::after {width: 0;}#sk-container-id-12 div.sk-dashed-wrapped {border: 1px dashed gray;margin: 0 0.4em 0.5em 0.4em;box-sizing: border-box;padding-bottom: 0.4em;background-color: white;}#sk-container-id-12 div.sk-label label {font-family: monospace;font-weight: bold;display: inline-block;line-height: 1.2em;}#sk-container-id-12 div.sk-label-container {text-align: center;}#sk-container-id-12 div.sk-container {/* jupyter's `normalize.less` sets `[hidden] { display: none; }` but bootstrap.min.css set `[hidden] { display: none !important; }` so we also need the `!important` here to be able to override the default hidden behavior on the sphinx rendered scikit-learn.org. See: https://github.com/scikit-learn/scikit-learn/issues/21755 */display: inline-block !important;position: relative;}#sk-container-id-12 div.sk-text-repr-fallback {display: none;}</style><div id=\"sk-container-id-12\" class=\"sk-top-container\"><div class=\"sk-text-repr-fallback\"><pre>KNeighborsClassifier(n_neighbors=11)</pre><b>In a Jupyter environment, please rerun this cell to show the HTML representation or trust the notebook. <br />On GitHub, the HTML representation is unable to render, please try loading this page with nbviewer.org.</b></div><div class=\"sk-container\" hidden><div class=\"sk-item\"><div class=\"sk-estimator sk-toggleable\"><input class=\"sk-toggleable__control sk-hidden--visually\" id=\"sk-estimator-id-12\" type=\"checkbox\" checked><label for=\"sk-estimator-id-12\" class=\"sk-toggleable__label sk-toggleable__label-arrow\">KNeighborsClassifier</label><div class=\"sk-toggleable__content\"><pre>KNeighborsClassifier(n_neighbors=11)</pre></div></div></div></div></div>"
      ],
      "text/plain": [
       "KNeighborsClassifier(n_neighbors=11)"
      ]
     },
     "execution_count": 338,
     "metadata": {},
     "output_type": "execute_result"
    }
   ],
   "source": [
    "# Use KNN classifier\n",
    "from sklearn.neighbors import KNeighborsClassifier\n",
    "knn = KNeighborsClassifier(n_neighbors=11)\n",
    "\n",
    "knn.fit(X_train, y_train)"
   ]
  },
  {
   "cell_type": "code",
   "execution_count": 339,
   "id": "2193b888",
   "metadata": {},
   "outputs": [],
   "source": [
    "predictions_knn = knn.predict(X_test)\n",
    "predict_probs_knn = knn.predict_proba(X_test)"
   ]
  },
  {
   "cell_type": "code",
   "execution_count": 340,
   "id": "1badc21f",
   "metadata": {
    "scrolled": true
   },
   "outputs": [
    {
     "name": "stderr",
     "output_type": "stream",
     "text": [
      "/Users/thichuba/opt/anaconda3/envs/.da-350/lib/python3.9/site-packages/sklearn/utils/deprecation.py:87: FutureWarning: Function plot_confusion_matrix is deprecated; Function `plot_confusion_matrix` is deprecated in 1.0 and will be removed in 1.2. Use one of the class methods: ConfusionMatrixDisplay.from_predictions or ConfusionMatrixDisplay.from_estimator.\n",
      "  warnings.warn(msg, category=FutureWarning)\n"
     ]
    },
    {
     "data": {
      "image/png": "[encoded data removed]",
      "text/plain": [
       "<Figure size 500x500 with 2 Axes>"
      ]
     },
     "metadata": {},
     "output_type": "display_data"
    }
   ],
   "source": [
    "from sklearn.metrics import plot_confusion_matrix\n",
    "fig, ax = plt.subplots(figsize=(5, 5)) \n",
    "plot_confusion_matrix(knn, X_test, y_test, cmap='Blues', ax=ax)  \n",
    "plt.show()"
   ]
  },
  {
   "cell_type": "code",
   "execution_count": 341,
   "id": "305d5069",
   "metadata": {},
   "outputs": [
    {
     "name": "stdout",
     "output_type": "stream",
     "text": [
      "              precision    recall  f1-score   support\n",
      "\n",
      "           0       0.61      0.61      0.61        18\n",
      "           1       0.61      0.61      0.61        18\n",
      "\n",
      "    accuracy                           0.61        36\n",
      "   macro avg       0.61      0.61      0.61        36\n",
      "weighted avg       0.61      0.61      0.61        36\n",
      "\n"
     ]
    }
   ],
   "source": [
    "# precision-recall-f1\n",
    "print(classification_report(y_test, predictions_knn))"
   ]
  },
  {
   "cell_type": "markdown",
   "id": "fb8d913d",
   "metadata": {},
   "source": [
    "With classifying the 2 species with other classifiers like Naives Bayes and Logistic Regression from KNN, all perform worse than KNN in terms of accuracy.\n",
    "\n",
    "The accuracy score (0.61), precision (0.61) and recall (0.61) for both classes of the KNN model is quite low, indicating that probability scores from CNN models are not reliable predictors to classify these 2 birds. The precision refers to the percentage of the images which are predicted correctly, and recall refers to the percentage of total correctly labeled images correctly classified by the algorithm.\n",
    "\n",
    "I hypothesize that the reason is in birds’ picture, there are many other distracting features. For example, there are many type of birds with various shape and color in same background or maybe, the bird with the same shape, colors have many different type backgrounds. All of those aspects mixing together would definitely decrease the accuracy of KNN. Moreover, the two types of birds that we choose may be too hard for our ten models to predict (since all the predict probabilities are quite low), and do not create a clear separating pattern in the probabilities. It is possible that if a selection of probabilities form certain models is chosen as features only, or if we chose to classify on a different species, the performance of the classifier might go up."
   ]
  },
  {
   "cell_type": "markdown",
   "id": "734fa50a",
   "metadata": {},
   "source": [
    "## Conclusion\n"
   ]
  },
  {
   "cell_type": "markdown",
   "id": "73f7e942",
   "metadata": {},
   "source": [
    "Throughout the project, the CNN method on tensorFlow tends to focus on calculating the pixels scores using the kernels. One limited point that we experienced with this model is that the size of the birds tends to be ignored. As a result, when the model runs into object-backround ratio errors, the model conducted surprising results in which the models that we expected to be easy to predict turned out to be medium or hard to differentiate. Likewise, based on hypotheses, the hard models tends to be easy to tell apart between 2 types of birds. \n",
    "\n",
    "Conducted the novel bird examination by choosing 'Horned Puffin' as our novel bird: this type of bird is quite different comparing to other birds chosen in 10 models (10 pairs of birds). The only thing I figured out is that some of the models having great performance when fitting the novel bird into class A or B while some of them have bad performance, indicating that the model shares no similarity with the novel bird. I have tested the model with 3 classifiers: KNN, Naive Bayesian, and Logistic Regression. The result was surprisingly lower than expected. \n",
    "\n",
    "In the future, there are areas for improving the model. The observation of bird and bird choice should be clearer in terms of species, picture color codes, and object-background ratios. With the more similar bird types, I suggest trying the model with more layers of convolution and re-run/re-train the model multiple times so that it would learn more about the difference between 2 examined birds. Moreover, with novel bird training, other classifiers, such as logistic classifier can be used to test on each model and how the novel bird fits into class A and B. With these suggestions, I believe the model will a higher accuracy in predicting the bird input pictures and identifying bird species."
   ]
  }
 ],
 "metadata": {
  "kernelspec": {
   "display_name": "Python 3 (ipykernel)",
   "language": "python",
   "name": "python3"
  },
  "language_info": {
   "codemirror_mode": {
    "name": "ipython",
    "version": 3
   },
   "file_extension": ".py",
   "mimetype": "text/x-python",
   "name": "python",
   "nbconvert_exporter": "python",
   "pygments_lexer": "ipython3",
   "version": "3.11.5"
  }
 },
 "nbformat": 4,
 "nbformat_minor": 5
}
